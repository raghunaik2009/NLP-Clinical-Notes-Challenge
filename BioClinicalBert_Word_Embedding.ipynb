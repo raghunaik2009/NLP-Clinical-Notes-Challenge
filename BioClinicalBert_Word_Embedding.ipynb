{
 "cells": [
  {
   "cell_type": "markdown",
   "id": "9b4df2a6",
   "metadata": {},
   "source": [
    "<h3>Importing Packages</h3>"
   ]
  },
  {
   "cell_type": "code",
   "execution_count": 1,
   "id": "0b11c44d",
   "metadata": {},
   "outputs": [],
   "source": [
    "import pandas as pd\n",
    "import numpy as np\n",
    "from gensim.models import KeyedVectors\n",
    "import wget\n",
    "from nltk.corpus import stopwords\n",
    "from nltk.tokenize import WhitespaceTokenizer\n",
    "from nltk.stem import WordNetLemmatizer\n",
    "from sklearn.model_selection import train_test_split, cross_val_score\n",
    "from sklearn.ensemble import RandomForestClassifier\n",
    "from xgboost import XGBClassifier\n",
    "from sklearn.svm import LinearSVC, SVC\n",
    "import seaborn as sns\n",
    "from matplotlib import pyplot as plt\n",
    "import torch\n",
    "import transformers\n",
    "from transformers import AutoModel, AutoTokenizer\n",
    "from scipy import spatial"
   ]
  },
  {
   "cell_type": "markdown",
   "id": "b651cd40",
   "metadata": {},
   "source": [
    "<h3>Loading input data</h3>"
   ]
  },
  {
   "cell_type": "code",
   "execution_count": 2,
   "id": "d76b5dc5",
   "metadata": {},
   "outputs": [],
   "source": [
    "df_clinnotes = pd.read_csv(\"ClinNotes.csv\")"
   ]
  },
  {
   "cell_type": "code",
   "execution_count": 3,
   "id": "1528d981",
   "metadata": {},
   "outputs": [],
   "source": [
    "df_medicalconcept = pd.read_csv(\"MedicalConcepts.csv\")"
   ]
  },
  {
   "cell_type": "code",
   "execution_count": 4,
   "id": "6e2f3f10",
   "metadata": {},
   "outputs": [
    {
     "data": {
      "application/vnd.jupyter.widget-view+json": {
       "model_id": "1a9a2babac7d4ce19b3e8fa705b67e42",
       "version_major": 2,
       "version_minor": 0
      },
      "text/plain": [
       "Downloading:   0%|          | 0.00/385 [00:00<?, ?B/s]"
      ]
     },
     "metadata": {},
     "output_type": "display_data"
    },
    {
     "data": {
      "application/vnd.jupyter.widget-view+json": {
       "model_id": "6c2be8e7b891455da19afd7558a2801d",
       "version_major": 2,
       "version_minor": 0
      },
      "text/plain": [
       "Downloading:   0%|          | 0.00/208k [00:00<?, ?B/s]"
      ]
     },
     "metadata": {},
     "output_type": "display_data"
    },
    {
     "data": {
      "application/vnd.jupyter.widget-view+json": {
       "model_id": "26a4dfbda03544ebb75a021706395426",
       "version_major": 2,
       "version_minor": 0
      },
      "text/plain": [
       "Downloading:   0%|          | 0.00/416M [00:00<?, ?B/s]"
      ]
     },
     "metadata": {},
     "output_type": "display_data"
    },
    {
     "name": "stderr",
     "output_type": "stream",
     "text": [
      "Some weights of the model checkpoint at emilyalsentzer/Bio_ClinicalBERT were not used when initializing BertModel: ['cls.seq_relationship.weight', 'cls.predictions.transform.LayerNorm.bias', 'cls.seq_relationship.bias', 'cls.predictions.decoder.weight', 'cls.predictions.transform.dense.bias', 'cls.predictions.transform.LayerNorm.weight', 'cls.predictions.bias', 'cls.predictions.transform.dense.weight']\n",
      "- This IS expected if you are initializing BertModel from the checkpoint of a model trained on another task or with another architecture (e.g. initializing a BertForSequenceClassification model from a BertForPreTraining model).\n",
      "- This IS NOT expected if you are initializing BertModel from the checkpoint of a model that you expect to be exactly identical (initializing a BertForSequenceClassification model from a BertForSequenceClassification model).\n"
     ]
    }
   ],
   "source": [
    "# BERT Model\n",
    "tokenizer = AutoTokenizer.from_pretrained('emilyalsentzer/Bio_ClinicalBERT') #, do_lower_case=True, do_basic_tokenize=True\n",
    "model = AutoModel.from_pretrained('emilyalsentzer/Bio_ClinicalBERT', output_hidden_states=True)"
   ]
  },
  {
   "cell_type": "markdown",
   "id": "84b54ccf",
   "metadata": {},
   "source": [
    "<h3>Bert Embedding</h3>"
   ]
  },
  {
   "cell_type": "code",
   "execution_count": 5,
   "id": "dc07e8ea",
   "metadata": {},
   "outputs": [],
   "source": [
    "class BERTEmbedding():\n",
    "    def __init__(self):\n",
    "        self.tokens = \"\"\n",
    "        self.sentence_tokens = \"\"\n",
    "        self.tokenizer = tokenizer\n",
    "        self.model = model\n",
    "\n",
    "    def bert_tokenization(self,text):\n",
    "        # creating text data in required format\n",
    "        marked_text = \"[CLS] \"+ text + \"[ SEP]\"\n",
    "        # spliting the sentence into tokens\n",
    "        tokenized_text = tokenizer.tokenize(marked_text)\n",
    "        return tokenized_text\n",
    "\n",
    "    def create_token_mapping(self,tokenized_text):\n",
    "        # mapping the token strings to their vocabulary indeces.\n",
    "        indexed_tokens= tokenizer.convert_tokens_to_ids(tokenized_text)\n",
    "        # marking each of the 22 tokens as belonging to sentence 1\n",
    "        segments_ids= [1] * len(tokenized_text)\n",
    "\n",
    "        #converting inputs to pytorch tensors\n",
    "        tokens_tensor= torch.tensor([indexed_tokens])\n",
    "        segments_tensors= torch.tensor([segments_ids])\n",
    "        # putting the model in evaluaion mode\n",
    "        model.eval()\n",
    "\n",
    "        # running the text through Bert, and collecting all of the hidden states produced by the layers.\n",
    "        with torch.no_grad():\n",
    "            outputs=model(tokens_tensor,segments_tensors)\n",
    "            hidden_states=outputs[2]\n",
    "\n",
    "        return hidden_states  \n",
    "\n",
    "    def get_word_vector(self,text):\n",
    "        tokenized_text = self.bert_tokenization(text)\n",
    "\n",
    "        hidden_states = self.create_token_mapping(tokenized_text)\n",
    "        # combining the layers to making one big vector\n",
    "        token_embeddings= torch.stack(hidden_states,dim=0) \n",
    "\n",
    "        # Removing dimension 1 from the batches.\n",
    "        token_embeddings = torch.squeeze(token_embeddings, dim=1)\n",
    "\n",
    "        # Swaping the dimensions 0 and 1.\n",
    "        token_embeddings = token_embeddings.permute(1,0,2)  \n",
    "\n",
    "\n",
    "        token_vecs_sum = []\n",
    "\n",
    "        for token in token_embeddings:\n",
    "            # token is a [12 x 768] tensor\n",
    "            # Sum the vectors from the last four layers.\n",
    "            sum_vec = torch.sum(token[-4:], dim=0)\n",
    "            # appending the vectors values in dict\n",
    "            token_vecs_sum.append(sum_vec)\n",
    "\n",
    "        #calculating the mean of the tensor\n",
    "        mean = torch.mean(torch.stack(token_vecs_sum),dim=-2)\n",
    "        # converting tensor to numpy array\n",
    "        mean = mean.detach().numpy()\n",
    "        return mean\n",
    "\n",
    "    def get_sentence_vector(self,text):\n",
    "        marked_text = \"[CLS] \"+ text + \"[ SEP]\"\n",
    "        tokenized_text = self.bert_tokenization(text)[:512]\n",
    "        hidden_states = self.create_token_mapping(tokenized_text)\n",
    "        # token_vecs is a tensor with shape [22 x 768]\n",
    "        token_vecs = hidden_states[-2][0]\n",
    "        # Calculating the average of all token vectors.\n",
    "        sentence_embedding = torch.mean(token_vecs, dim=0)\n",
    "        # converting the tensor to numpy array\n",
    "        sentence_embedding=sentence_embedding.detach().numpy()\n",
    "        return sentence_embedding"
   ]
  },
  {
   "cell_type": "code",
   "execution_count": 6,
   "id": "faf0b42d",
   "metadata": {},
   "outputs": [],
   "source": [
    "# calculating word vector for single word\n",
    "text = \"Glaucoma\"\n",
    "bioclinical_bert_model = BERTEmbedding()\n",
    "word_vector = bioclinical_bert_model.get_word_vector(text)"
   ]
  },
  {
   "cell_type": "code",
   "execution_count": 7,
   "id": "6f56cd0f",
   "metadata": {},
   "outputs": [
    {
     "data": {
      "text/plain": [
       "array([ 5.40567636e-01,  5.58225095e-01, -5.18632650e-01, -1.58519089e+00,\n",
       "       -1.11786437e+00,  1.91023871e-01,  3.16855931e+00,  7.21810579e-01,\n",
       "        1.30043221e+00, -6.80808648e-02, -5.62052488e-01, -2.64320046e-01,\n",
       "        9.41403091e-01,  2.36699700e+00, -2.90514660e+00,  2.28648829e+00,\n",
       "       -1.73722848e-01,  4.77427810e-01,  9.61675882e-01, -1.36606729e+00,\n",
       "       -1.89707124e+00, -1.26493406e+00, -7.92953074e-01,  8.72515291e-02,\n",
       "        1.60585999e+00, -2.21504986e-01,  1.57348239e+00,  2.35128951e+00,\n",
       "        8.31759214e-01,  4.11688268e-01, -2.17972159e+00,  1.94012117e+00,\n",
       "       -3.32079816e+00,  4.59976137e-01, -1.39173651e+00,  8.60975862e-01,\n",
       "       -1.99672079e+00,  1.09100103e-01, -1.00273466e+00,  4.03941751e-01,\n",
       "        1.63610089e+00,  6.11056089e-01,  8.51059198e-01,  4.43947601e+00,\n",
       "        8.94779861e-01, -1.47447121e+00, -3.26376230e-01, -7.67039001e-01,\n",
       "       -3.39947867e+00, -5.10766506e-01,  1.22429800e+00,  1.16612411e+00,\n",
       "        3.91327667e+00, -2.03772497e+00, -1.42633033e+00, -2.41651797e+00,\n",
       "       -4.44075875e-02,  1.09727430e+00, -5.22629797e-01,  2.93676853e+00,\n",
       "       -1.98308542e-01,  1.30923212e+00, -1.05151939e+00, -4.18976974e+00,\n",
       "       -2.16363239e+00,  9.58935451e-03,  1.02767503e+00,  1.76970027e-02,\n",
       "       -1.30192983e+00, -2.78118420e+00, -3.74959445e+00, -6.93876445e-02,\n",
       "        9.08510447e-01, -5.30492902e-01,  2.43218374e+00, -2.39450121e+00,\n",
       "        1.11850131e+00,  2.11314869e+00,  1.91330802e+00,  4.69414282e+00,\n",
       "        1.49149954e+00, -3.14827251e+00, -1.01844864e-02, -4.33627486e-01,\n",
       "       -1.81000137e+00,  1.14074695e+00,  2.25666547e+00, -1.44295549e+00,\n",
       "       -1.60176754e+00,  3.42809319e+00,  1.83275175e+00, -2.55442691e+00,\n",
       "        8.34511407e-03, -2.38990441e-01,  1.07717943e+00, -1.24641049e+00,\n",
       "       -3.27971625e+00,  1.60001624e+00, -2.67311513e-01,  6.30404890e-01,\n",
       "       -2.11747265e+00, -6.63300336e-04, -8.77867877e-01, -5.51791549e-01,\n",
       "        6.32411242e-01,  1.54761100e+00, -3.57152045e-01,  1.67527914e+00,\n",
       "       -2.28558445e+00, -1.78414297e+00, -9.85013723e-01,  1.85878885e+00,\n",
       "       -3.06254625e-01,  6.43176213e-02, -1.07683635e+00,  2.53059506e+00,\n",
       "        2.00587773e+00,  1.41002977e+00, -3.41798202e-03, -2.96153069e+00,\n",
       "       -1.07198977e+00, -1.65101767e+00,  5.36362315e-03, -1.66468287e+00,\n",
       "        8.71526837e-01, -1.01372087e+00,  1.11696196e+00,  1.49268830e+00,\n",
       "       -9.31670845e-01, -1.32629499e-01, -6.29468858e-01, -1.07406765e-01,\n",
       "        2.19815299e-01,  2.36486697e+00, -2.43562412e+00,  1.60934663e+00,\n",
       "       -1.13149047e+00, -1.05478323e+00, -6.96520567e+00, -1.28531313e+00,\n",
       "       -3.54187012e-01,  1.03266883e+00, -1.44388571e-01, -1.14355445e+00,\n",
       "       -2.14521602e-01, -3.00222707e+00, -7.92038679e-01, -3.29256558e+00,\n",
       "        1.01255083e+00, -2.60379624e+00,  1.21409500e+00, -1.67382860e+00,\n",
       "       -6.59764051e-01,  2.25508642e+00, -8.63209009e-01, -2.61010456e+00,\n",
       "       -2.99882531e+00, -2.60449529e+00,  7.70937204e-01,  1.73839617e+00,\n",
       "       -8.30438197e-01,  2.48033834e+00,  1.57818484e+00,  3.27192903e-01,\n",
       "        1.33387959e+00,  1.11066163e+00,  6.16874754e-01, -1.79119360e+00,\n",
       "        1.68867540e+00,  1.45974565e+00,  1.17258155e+00,  1.82232642e+00,\n",
       "       -1.50497451e-01,  2.26871014e+00,  1.50778130e-01, -1.01149452e+00,\n",
       "        1.40799189e+00,  2.38454759e-01,  2.14645877e-01, -2.03974414e+00,\n",
       "       -1.15028381e+00, -5.67672670e-01,  1.23926783e+00,  7.61152983e-01,\n",
       "       -5.82675040e-01, -6.66477144e-01, -4.22457814e-01, -1.12021148e+00,\n",
       "        7.79961169e-01,  1.16837490e+00,  3.54546666e-01, -1.06568110e+00,\n",
       "        3.25868785e-01,  7.10783228e-02, -3.31338429e+00, -9.20819864e-02,\n",
       "        2.57591915e+00, -2.49120522e+00,  1.63836229e+00, -1.79267442e+00,\n",
       "        1.51138067e-01,  1.12655318e+00, -1.35316849e+00,  2.57984257e+00,\n",
       "        6.47953570e-01,  2.73595071e+00, -1.27924788e+00,  3.59220922e-01,\n",
       "       -8.85839522e-01, -2.20764780e+00, -1.69471705e+00,  8.69672775e-01,\n",
       "        2.95909911e-01, -1.31056058e+00,  3.70160162e-01,  4.46179181e-01,\n",
       "       -9.95331764e-01, -1.88992643e+00,  1.16988206e+00,  1.73733246e+00,\n",
       "       -3.52400327e+00, -2.09717655e+00,  2.43483853e+00, -1.25512850e+00,\n",
       "       -2.32686460e-01,  1.05427170e+00, -2.52446532e-01, -9.70014691e-01,\n",
       "       -8.92317653e-01, -5.05140829e+00,  1.72694182e+00, -6.09560847e-01,\n",
       "        4.77934957e-01, -7.35672593e-01, -4.09102201e-01,  9.16741490e-01,\n",
       "       -1.02983928e+00,  1.46808520e-01, -4.26771522e-01, -5.68921626e-01,\n",
       "       -2.54908991e+00, -2.55206132e+00, -8.75672638e-01,  1.27250218e+00,\n",
       "       -2.33379245e+00, -9.11796033e-01,  4.60865289e-01,  1.69106984e+00,\n",
       "       -5.09115815e-01,  6.54786646e-01,  3.23732948e+00, -1.60814750e+00,\n",
       "       -1.99722993e+00,  4.26856428e-01,  2.77644008e-01,  2.83528185e+00,\n",
       "       -3.68776155e+00, -3.56036246e-01, -6.35627508e-01, -2.11114526e+00,\n",
       "        8.04886043e-01, -1.37074733e+00,  5.59423685e-01, -5.69541812e-01,\n",
       "        4.01389331e-01,  1.35089898e+00, -5.97848631e-02,  3.30174088e-01,\n",
       "       -1.95554227e-01,  3.34891081e-01, -1.63255024e+00, -2.11723161e+00,\n",
       "        1.35927305e-01,  9.76867676e-01,  2.55880666e+00, -8.41722071e-01,\n",
       "       -1.28237021e+00,  2.59411955e+00,  1.76010156e+00, -2.37593675e+00,\n",
       "        2.24036956e+00,  7.66066968e-01, -1.33822119e+00,  1.07117724e+00,\n",
       "       -3.97453725e-01,  2.26486474e-01,  3.13456535e+00,  3.66397575e-02,\n",
       "       -3.36771578e-01, -7.69535661e-01,  9.32069063e-01, -8.01345289e-01,\n",
       "       -1.72670794e+00,  1.01636934e+00, -1.02336717e+00,  1.40038276e+00,\n",
       "       -3.44523287e+00,  1.39066362e+00,  1.43256629e+00,  2.53944874e+00,\n",
       "        3.35889816e+00, -2.11049631e-01,  1.99581909e+00,  1.40419221e+00,\n",
       "        8.27311695e-01, -4.35864985e-01, -2.10110617e+00, -2.18643710e-01,\n",
       "        1.24236238e+00,  1.52376640e+00,  4.25655174e+00, -5.84136188e-01,\n",
       "       -4.12086457e-01,  1.03299570e+00,  1.07716722e-02,  1.91366053e+00,\n",
       "       -3.18732440e-01, -6.25877976e-01, -9.69896853e-01, -8.21345091e-01,\n",
       "       -1.59409213e+00,  1.62137651e+00,  1.01973236e+00, -1.12242889e+00,\n",
       "        1.82165995e-01, -9.18562472e-01,  9.93467748e-01, -2.50394511e+00,\n",
       "       -6.02663398e-01,  2.19279194e+00, -6.57145560e-01, -1.82007349e+00,\n",
       "        2.58379757e-01, -1.60119700e+00,  1.81203842e+00,  7.52015173e-01,\n",
       "        1.43694544e+00,  1.34579611e+00, -2.36427593e+00,  1.11910737e+00,\n",
       "        1.50467360e+00, -1.88815522e+00,  1.88814795e+00, -4.83389683e-02,\n",
       "       -6.87758386e-01, -1.06141925e+00, -1.19866943e+00, -1.87358141e+00,\n",
       "        1.89469421e+00, -1.56450951e+00,  8.87140691e-01, -2.12530327e+00,\n",
       "       -1.22405577e+00,  4.16010246e-02,  2.59942555e+00, -3.22971153e+00,\n",
       "        5.29495358e-01, -8.50838304e-01,  8.88657629e-01, -2.03247690e+00,\n",
       "       -1.94777048e+00,  2.94918847e+00,  1.03189814e+00,  7.95280755e-01,\n",
       "        2.13111162e+00,  2.19275379e+00, -6.71918035e-01, -2.97264290e+00,\n",
       "       -1.58161223e+00,  7.73040652e-01, -1.41293800e+00,  8.28357697e-01,\n",
       "        1.77875412e+00,  3.37239265e-01, -4.71231788e-01,  9.08033073e-01,\n",
       "       -1.47336447e+00, -2.60218978e-01, -4.81538147e-01,  8.29047859e-01,\n",
       "       -1.73697090e+00,  1.89421272e+00, -1.17012835e+00, -9.04121280e-01,\n",
       "       -5.05633116e-01,  3.22154617e+00,  1.68159151e+00,  3.25741673e+00,\n",
       "        1.38299692e+00, -4.08648133e-01, -9.70893800e-02,  2.55520165e-01,\n",
       "       -1.01888072e+00, -1.80461943e+00, -2.94883442e+00, -8.44086587e-01,\n",
       "       -7.69841671e-02,  8.63963068e-02, -9.75148737e-01,  1.01320660e+00,\n",
       "       -4.29397821e+00,  8.69856536e-01, -4.29806709e+00, -1.12717009e+00,\n",
       "       -3.25001866e-01,  1.15253270e+00, -1.51639378e+00, -3.32095933e+00,\n",
       "       -5.16541421e-01,  8.63639295e-01,  1.62233782e+00,  2.46576476e-03,\n",
       "        2.61879063e+00,  2.10660219e+00,  2.63989019e+00, -2.10619330e+00,\n",
       "        2.48732731e-01,  4.08948421e+00,  2.14199141e-01, -5.94484866e-01,\n",
       "       -3.41469145e+00,  2.32821274e+00,  1.76205945e+00, -1.54840171e+00,\n",
       "       -9.44131315e-01,  7.31153905e-01,  2.45869350e+00, -1.11583388e+00,\n",
       "       -1.08767235e+00,  1.28284037e+00, -9.35661018e-01,  1.58504379e+00,\n",
       "       -1.31996107e+00,  4.40438938e+00, -1.26015210e+00, -1.10147989e+00,\n",
       "        2.26547813e+00, -1.88217461e+00, -1.40476501e+00,  1.00605607e+00,\n",
       "        1.66016853e+00, -8.01419377e-01, -3.38148475e+00,  9.10666466e-01,\n",
       "       -9.51813698e-01,  9.09215391e-01, -2.73126625e-02, -6.15738451e-01,\n",
       "        1.99862349e+00, -1.50675261e+00, -4.45933938e-01, -7.12747157e-01,\n",
       "        2.73403335e+00,  1.54006374e+00, -1.60732698e+00, -1.72447371e+00,\n",
       "        2.27765560e-01, -1.10138047e+00,  6.05967283e-01,  9.83251989e-01,\n",
       "        5.38999960e-02, -1.68116271e+00, -1.79645240e+00,  1.52342772e+00,\n",
       "        1.40180409e+00,  1.16330230e+00,  1.89689314e+00, -3.44089925e-01,\n",
       "       -4.68674123e-01,  2.01027393e+00,  4.06038141e+00, -1.30296004e+00,\n",
       "        1.41873217e+00,  9.59030818e-03,  2.93878704e-01, -1.47568977e+00,\n",
       "       -1.62385952e+00,  2.11358809e+00, -1.38774931e-01,  2.47332859e+00,\n",
       "       -4.15944040e-01, -2.23257720e-01,  1.05362356e+00,  2.90915442e+00,\n",
       "        1.36833906e+00, -1.53182164e-01,  4.93281984e+00, -1.46801472e+00,\n",
       "        4.68501031e-01,  3.29696655e+00,  6.03012502e-01,  1.80878663e+00,\n",
       "       -2.37902117e+00, -1.38035864e-01, -2.37614382e-02, -3.58187389e+00,\n",
       "        4.40452099e-01, -1.41442025e+00, -1.40338600e+00, -1.78949785e+00,\n",
       "        1.72805524e+00, -9.26965475e-01, -3.67415071e-01, -2.22820655e-01,\n",
       "       -6.21540642e+00,  8.29720438e-01, -1.36505389e+00,  2.00385928e+00,\n",
       "       -6.32963300e-01,  8.63708258e-01, -1.41005909e+00, -1.72671735e-01,\n",
       "       -3.76046085e+00,  1.52197886e+00,  3.67450505e-01,  2.20639840e-01,\n",
       "       -5.68637371e-01,  2.00067616e+00,  3.19632125e+00, -4.66879696e-01,\n",
       "       -2.41233483e-01, -1.65117419e+00,  1.87716734e+00,  1.71946037e+00,\n",
       "       -1.34682953e+00,  6.65374473e-02,  9.30711091e-01,  1.96953964e+00,\n",
       "       -3.50700355e+00, -1.09755862e+00, -6.68588519e-01,  2.59515584e-01,\n",
       "       -1.54587054e+00,  3.33420873e-01, -2.08538651e+00,  1.28210342e+00,\n",
       "       -1.26094103e+00, -2.35637093e+00, -1.76604676e+00, -5.40384829e-01,\n",
       "        1.06183660e+00, -7.93158054e-01,  1.40648961e+00, -1.69287801e+00,\n",
       "        1.36544716e+00,  4.62747288e+00, -1.20604753e+00,  4.35944080e-01,\n",
       "        6.50296956e-02, -2.53345639e-01,  3.74047351e+00,  5.24911940e-01,\n",
       "       -1.87867415e+00, -2.23597884e+00,  5.07592916e-01, -8.98859680e-01,\n",
       "       -8.22423577e-01, -5.46473236e+01,  5.45629740e-01, -8.20797682e-01,\n",
       "       -8.85753810e-01,  1.99081850e+00,  4.86589283e-01,  4.75848579e+00,\n",
       "       -2.94405192e-01, -3.52327198e-01, -1.34257019e+00, -7.04285502e-01,\n",
       "       -2.19172549e+00, -1.09492086e-01,  2.08768344e+00, -4.73843478e-02,\n",
       "       -1.48859990e+00, -3.08878332e-01, -1.19358206e+00, -3.53440523e+00,\n",
       "       -1.83203295e-01, -3.95333439e-01,  2.06051397e+00, -6.15635097e-01,\n",
       "        4.96891290e-02,  6.60072327e-01,  1.77748251e+00,  4.41386491e-01,\n",
       "       -1.81457281e-01,  6.83991611e-01, -3.71066380e+00,  8.50199997e-01,\n",
       "       -1.32399511e+00,  1.98984766e+00,  2.06843066e+00,  5.10149956e-01,\n",
       "       -2.10276604e+00,  3.67000043e-01,  2.64035153e+00,  1.34950173e+00,\n",
       "       -1.10461748e+00,  1.84717131e+00,  8.46334398e-01,  1.66349649e+00,\n",
       "       -1.59875512e+00, -6.37406349e-01,  1.42248595e+00, -1.03707778e+00,\n",
       "       -1.83348107e+00, -1.10442269e+00, -2.14562368e+00, -1.50990829e-01,\n",
       "        4.59605217e-01, -3.44145566e-01,  2.86745965e-01, -2.24438477e+00,\n",
       "        2.02654696e+00,  2.06977654e+00,  2.98061824e+00,  2.94650388e+00,\n",
       "        3.51111352e-01,  4.73859161e-01, -8.27779055e-01,  5.64681590e-01,\n",
       "       -1.51357126e+00,  1.58935261e+00,  3.87115312e+00, -7.92588592e-01,\n",
       "        1.76064587e+00, -1.20280182e+00,  1.74129629e+00,  1.50010872e+00,\n",
       "        2.72737694e+00,  8.73322859e-02,  2.24973515e-01, -1.30518019e+00,\n",
       "       -1.19497061e+00, -6.56651378e-01,  8.93924236e-02,  2.07576847e+00,\n",
       "       -2.03252029e+00, -1.72012126e+00, -1.31488335e+00, -8.03504646e-01,\n",
       "       -1.19568634e+00,  2.43761134e+00,  1.93469214e+00, -3.94845456e-01,\n",
       "       -9.24955666e-01,  5.73641062e-01, -2.84771228e+00,  1.83708870e+00,\n",
       "       -1.69239318e+00, -1.53562903e+00, -2.45771146e+00, -1.40902781e+00,\n",
       "        6.66602850e-01, -2.21673235e-01, -2.05050087e+00, -2.84507036e+00,\n",
       "       -8.31131697e-01, -6.08196437e-01, -2.39415884e+00,  1.97662950e+00,\n",
       "        4.72799778e-01,  7.28396654e-01,  1.62773323e+00,  3.19379330e+00,\n",
       "       -1.42627180e-01, -1.66906345e+00,  2.57177067e+00,  6.34613633e-01,\n",
       "       -1.01040792e+00,  1.44985068e+00, -2.21328878e+00,  5.82649469e-01,\n",
       "        1.83142340e+00,  1.03820574e+00,  1.90604675e+00, -2.56907988e+00,\n",
       "       -2.95345283e+00,  4.32557046e-01,  2.87299722e-01, -2.67164493e+00,\n",
       "        1.27443910e+00,  1.04856062e+00, -1.38875723e+00, -2.49861145e+00,\n",
       "       -5.38163602e-01,  1.99812567e+00,  1.68682551e+00,  7.16416463e-02,\n",
       "       -1.69181502e+00, -1.24182189e+00,  3.27916598e+00,  1.59092259e+00,\n",
       "       -2.51487911e-01,  7.80875742e-01,  4.06717777e-01, -5.84511757e-01,\n",
       "       -2.31544399e+00, -4.31031990e+00,  6.87270582e-01,  2.67792344e-01,\n",
       "       -5.20002320e-02,  2.92832732e+00,  2.05248654e-01, -1.07721090e+00,\n",
       "       -2.12299609e+00, -1.13360643e+00, -5.86799383e-01, -5.36455727e+00,\n",
       "       -8.50399360e-02, -2.86112309e+00,  1.74073935e-01,  1.13433504e+00,\n",
       "       -2.20314339e-01,  2.83375645e+00,  2.27683139e+00, -2.87323892e-01,\n",
       "       -5.97495198e-01, -4.24932241e-01,  8.89287829e-01,  2.61034751e+00,\n",
       "        1.37280273e+00,  1.01523232e+00, -2.72309971e+00, -1.99442506e+00,\n",
       "       -2.27775499e-02,  7.46602178e-01,  3.76610136e+00, -1.64819098e+00,\n",
       "        7.82950699e-01,  1.67815483e+00, -4.81675081e-02, -3.10893202e+00,\n",
       "       -5.80491662e-01,  1.71721506e+00, -8.96661758e-01,  2.07635760e+00,\n",
       "        2.16106701e+00,  1.51433277e+00,  1.50167871e+00, -9.94338334e-01,\n",
       "        2.00061297e+00,  8.61909688e-01,  1.01568270e+00,  7.49035239e-01,\n",
       "       -1.74483764e+00, -1.94831550e+00, -1.88696802e+00,  1.35380983e+00,\n",
       "       -8.99404287e-01, -3.24718624e-01,  4.62469220e-01, -3.22002143e-01,\n",
       "        1.81980622e+00, -9.09402609e-01,  3.92533690e-01, -3.00477195e+00,\n",
       "       -1.44623327e+00, -1.05770171e+00, -4.43949521e-01,  4.81643140e-01,\n",
       "       -1.60678697e+00,  2.04190779e+00,  8.40740442e-01, -7.37607241e-01,\n",
       "        1.56017292e+00,  2.65470052e+00, -6.07163250e-01, -5.24606943e-01],\n",
       "      dtype=float32)"
      ]
     },
     "execution_count": 7,
     "metadata": {},
     "output_type": "execute_result"
    }
   ],
   "source": [
    "word_vector"
   ]
  },
  {
   "cell_type": "code",
   "execution_count": 8,
   "id": "04e2ea10",
   "metadata": {},
   "outputs": [],
   "source": [
    "# calculating the word vector of the all the terms\n",
    "df_medicalconcept['bert_embedding_term1'] = df_medicalconcept['Term1'].apply(lambda x: bioclinical_bert_model.get_word_vector(x))\n",
    "df_medicalconcept['bert_embedding_term2'] = df_medicalconcept['Term2'].apply(lambda x: bioclinical_bert_model.get_word_vector(x))"
   ]
  },
  {
   "cell_type": "code",
   "execution_count": 9,
   "id": "df00d61a",
   "metadata": {},
   "outputs": [
    {
     "data": {
      "text/html": [
       "<div>\n",
       "<style scoped>\n",
       "    .dataframe tbody tr th:only-of-type {\n",
       "        vertical-align: middle;\n",
       "    }\n",
       "\n",
       "    .dataframe tbody tr th {\n",
       "        vertical-align: top;\n",
       "    }\n",
       "\n",
       "    .dataframe thead th {\n",
       "        text-align: right;\n",
       "    }\n",
       "</style>\n",
       "<table border=\"1\" class=\"dataframe\">\n",
       "  <thead>\n",
       "    <tr style=\"text-align: right;\">\n",
       "      <th></th>\n",
       "      <th>Term1</th>\n",
       "      <th>Term2</th>\n",
       "      <th>bert_embedding_term1</th>\n",
       "      <th>bert_embedding_term2</th>\n",
       "    </tr>\n",
       "  </thead>\n",
       "  <tbody>\n",
       "    <tr>\n",
       "      <th>0</th>\n",
       "      <td>Glaucoma</td>\n",
       "      <td>Fibrillation</td>\n",
       "      <td>[0.54056764, 0.5582251, -0.51863265, -1.585190...</td>\n",
       "      <td>[0.6469734, 1.2630106, 0.25224045, -1.102326, ...</td>\n",
       "    </tr>\n",
       "    <tr>\n",
       "      <th>1</th>\n",
       "      <td>Carbatrol</td>\n",
       "      <td>Dilantin</td>\n",
       "      <td>[0.11503637, -1.4896936, 0.18374683, -1.213132...</td>\n",
       "      <td>[1.1875718, 1.8411309, -0.22252867, -0.502727,...</td>\n",
       "    </tr>\n",
       "    <tr>\n",
       "      <th>2</th>\n",
       "      <td>Cardiomyopathy</td>\n",
       "      <td>Tylenol</td>\n",
       "      <td>[0.9210571, -0.009531247, -0.24364312, -0.0303...</td>\n",
       "      <td>[-0.052497413, 1.6252524, -0.3651837, -1.15833...</td>\n",
       "    </tr>\n",
       "    <tr>\n",
       "      <th>3</th>\n",
       "      <td>Herpes</td>\n",
       "      <td>Hyperthyroidism</td>\n",
       "      <td>[-0.17349744, -0.24551167, -1.6155893, -0.0803...</td>\n",
       "      <td>[0.20793411, -0.050593268, -0.15777346, -0.500...</td>\n",
       "    </tr>\n",
       "    <tr>\n",
       "      <th>4</th>\n",
       "      <td>Seasickness</td>\n",
       "      <td>Nausea</td>\n",
       "      <td>[0.9035218, 0.72689325, 1.2363621, 1.0029027, ...</td>\n",
       "      <td>[-3.1855323, 1.6218425, -0.6931867, 0.11625549...</td>\n",
       "    </tr>\n",
       "  </tbody>\n",
       "</table>\n",
       "</div>"
      ],
      "text/plain": [
       "            Term1            Term2  \\\n",
       "0        Glaucoma     Fibrillation   \n",
       "1       Carbatrol         Dilantin   \n",
       "2  Cardiomyopathy          Tylenol   \n",
       "3          Herpes  Hyperthyroidism   \n",
       "4     Seasickness           Nausea   \n",
       "\n",
       "                                bert_embedding_term1  \\\n",
       "0  [0.54056764, 0.5582251, -0.51863265, -1.585190...   \n",
       "1  [0.11503637, -1.4896936, 0.18374683, -1.213132...   \n",
       "2  [0.9210571, -0.009531247, -0.24364312, -0.0303...   \n",
       "3  [-0.17349744, -0.24551167, -1.6155893, -0.0803...   \n",
       "4  [0.9035218, 0.72689325, 1.2363621, 1.0029027, ...   \n",
       "\n",
       "                                bert_embedding_term2  \n",
       "0  [0.6469734, 1.2630106, 0.25224045, -1.102326, ...  \n",
       "1  [1.1875718, 1.8411309, -0.22252867, -0.502727,...  \n",
       "2  [-0.052497413, 1.6252524, -0.3651837, -1.15833...  \n",
       "3  [0.20793411, -0.050593268, -0.15777346, -0.500...  \n",
       "4  [-3.1855323, 1.6218425, -0.6931867, 0.11625549...  "
      ]
     },
     "execution_count": 9,
     "metadata": {},
     "output_type": "execute_result"
    }
   ],
   "source": [
    "df_medicalconcept.head()"
   ]
  },
  {
   "cell_type": "code",
   "execution_count": 10,
   "id": "8de4ef77",
   "metadata": {},
   "outputs": [],
   "source": [
    "df_medicalconcept['cosine_similarity'] = df_medicalconcept.apply(lambda x: 1 - spatial.distance.cosine(x['bert_embedding_term1'], x['bert_embedding_term2']), axis=1)"
   ]
  },
  {
   "cell_type": "code",
   "execution_count": 11,
   "id": "394560ee",
   "metadata": {},
   "outputs": [
    {
     "data": {
      "text/html": [
       "<div>\n",
       "<style scoped>\n",
       "    .dataframe tbody tr th:only-of-type {\n",
       "        vertical-align: middle;\n",
       "    }\n",
       "\n",
       "    .dataframe tbody tr th {\n",
       "        vertical-align: top;\n",
       "    }\n",
       "\n",
       "    .dataframe thead th {\n",
       "        text-align: right;\n",
       "    }\n",
       "</style>\n",
       "<table border=\"1\" class=\"dataframe\">\n",
       "  <thead>\n",
       "    <tr style=\"text-align: right;\">\n",
       "      <th></th>\n",
       "      <th>Term1</th>\n",
       "      <th>Term2</th>\n",
       "      <th>bert_embedding_term1</th>\n",
       "      <th>bert_embedding_term2</th>\n",
       "      <th>cosine_similarity</th>\n",
       "    </tr>\n",
       "  </thead>\n",
       "  <tbody>\n",
       "    <tr>\n",
       "      <th>0</th>\n",
       "      <td>Glaucoma</td>\n",
       "      <td>Fibrillation</td>\n",
       "      <td>[0.54056764, 0.5582251, -0.51863265, -1.585190...</td>\n",
       "      <td>[0.6469734, 1.2630106, 0.25224045, -1.102326, ...</td>\n",
       "      <td>0.941967</td>\n",
       "    </tr>\n",
       "    <tr>\n",
       "      <th>1</th>\n",
       "      <td>Carbatrol</td>\n",
       "      <td>Dilantin</td>\n",
       "      <td>[0.11503637, -1.4896936, 0.18374683, -1.213132...</td>\n",
       "      <td>[1.1875718, 1.8411309, -0.22252867, -0.502727,...</td>\n",
       "      <td>0.926522</td>\n",
       "    </tr>\n",
       "    <tr>\n",
       "      <th>2</th>\n",
       "      <td>Cardiomyopathy</td>\n",
       "      <td>Tylenol</td>\n",
       "      <td>[0.9210571, -0.009531247, -0.24364312, -0.0303...</td>\n",
       "      <td>[-0.052497413, 1.6252524, -0.3651837, -1.15833...</td>\n",
       "      <td>0.901180</td>\n",
       "    </tr>\n",
       "    <tr>\n",
       "      <th>3</th>\n",
       "      <td>Herpes</td>\n",
       "      <td>Hyperthyroidism</td>\n",
       "      <td>[-0.17349744, -0.24551167, -1.6155893, -0.0803...</td>\n",
       "      <td>[0.20793411, -0.050593268, -0.15777346, -0.500...</td>\n",
       "      <td>0.909672</td>\n",
       "    </tr>\n",
       "    <tr>\n",
       "      <th>4</th>\n",
       "      <td>Seasickness</td>\n",
       "      <td>Nausea</td>\n",
       "      <td>[0.9035218, 0.72689325, 1.2363621, 1.0029027, ...</td>\n",
       "      <td>[-3.1855323, 1.6218425, -0.6931867, 0.11625549...</td>\n",
       "      <td>0.827762</td>\n",
       "    </tr>\n",
       "  </tbody>\n",
       "</table>\n",
       "</div>"
      ],
      "text/plain": [
       "            Term1            Term2  \\\n",
       "0        Glaucoma     Fibrillation   \n",
       "1       Carbatrol         Dilantin   \n",
       "2  Cardiomyopathy          Tylenol   \n",
       "3          Herpes  Hyperthyroidism   \n",
       "4     Seasickness           Nausea   \n",
       "\n",
       "                                bert_embedding_term1  \\\n",
       "0  [0.54056764, 0.5582251, -0.51863265, -1.585190...   \n",
       "1  [0.11503637, -1.4896936, 0.18374683, -1.213132...   \n",
       "2  [0.9210571, -0.009531247, -0.24364312, -0.0303...   \n",
       "3  [-0.17349744, -0.24551167, -1.6155893, -0.0803...   \n",
       "4  [0.9035218, 0.72689325, 1.2363621, 1.0029027, ...   \n",
       "\n",
       "                                bert_embedding_term2  cosine_similarity  \n",
       "0  [0.6469734, 1.2630106, 0.25224045, -1.102326, ...           0.941967  \n",
       "1  [1.1875718, 1.8411309, -0.22252867, -0.502727,...           0.926522  \n",
       "2  [-0.052497413, 1.6252524, -0.3651837, -1.15833...           0.901180  \n",
       "3  [0.20793411, -0.050593268, -0.15777346, -0.500...           0.909672  \n",
       "4  [-3.1855323, 1.6218425, -0.6931867, 0.11625549...           0.827762  "
      ]
     },
     "execution_count": 11,
     "metadata": {},
     "output_type": "execute_result"
    }
   ],
   "source": [
    "df_medicalconcept.head()"
   ]
  },
  {
   "cell_type": "code",
   "execution_count": 28,
   "id": "09cb9326",
   "metadata": {},
   "outputs": [
    {
     "data": {
      "text/plain": [
       "0.8903341107991896"
      ]
     },
     "execution_count": 28,
     "metadata": {},
     "output_type": "execute_result"
    }
   ],
   "source": [
    "df_medicalconcept['cosine_similarity'].mean()"
   ]
  },
  {
   "cell_type": "code",
   "execution_count": 12,
   "id": "d402f97e",
   "metadata": {},
   "outputs": [],
   "source": [
    "df_medicalconcept.to_csv(\"medical_concept_similarity_bioclinical_bert.csv\", index=False)"
   ]
  },
  {
   "cell_type": "markdown",
   "id": "06c08883",
   "metadata": {},
   "source": [
    "<h3>Clean Text</h3>"
   ]
  },
  {
   "cell_type": "code",
   "execution_count": 13,
   "id": "e41ec8a2",
   "metadata": {},
   "outputs": [],
   "source": [
    "stop_words = stopwords.words('english')\n",
    "#removing stop words\n",
    "df_clinnotes['clean_notes'] = df_clinnotes['notes'].apply(lambda x: ' '.join([word.lower() for word in x.split() if word.lower() not in (stop_words)]))\n",
    "#removing puntuation\n",
    "df_clinnotes[\"clean_notes\"] = df_clinnotes['clean_notes'].str.replace('[^\\w\\s]','', regex=True)\n",
    "#lemetizing the text\n",
    "w_tokenizer = WhitespaceTokenizer()\n",
    "lemmatizer = WordNetLemmatizer()\n",
    "def lemmatize_text(text):\n",
    "    return ' '.join([lemmatizer.lemmatize(w) for w in w_tokenizer.tokenize(text)])\n",
    "df_clinnotes['clean_notes'] = df_clinnotes['clean_notes'].apply(lemmatize_text)"
   ]
  },
  {
   "cell_type": "code",
   "execution_count": 14,
   "id": "ced761ad",
   "metadata": {},
   "outputs": [],
   "source": [
    "#get sentence vector for all notes\n",
    "df_clinnotes['sentence_embedding'] = df_clinnotes['clean_notes'].apply(lambda x: bioclinical_bert_model.get_sentence_vector(str(x)))"
   ]
  },
  {
   "cell_type": "code",
   "execution_count": 15,
   "id": "9845d99f",
   "metadata": {},
   "outputs": [],
   "source": [
    "X_train, X_test, y_train, y_test = train_test_split(df_clinnotes.sentence_embedding, df_clinnotes.category, test_size=0.2, random_state=42)\n"
   ]
  },
  {
   "cell_type": "code",
   "execution_count": 16,
   "id": "d0e6bc54",
   "metadata": {},
   "outputs": [],
   "source": [
    "from sklearn.metrics import accuracy_score, confusion_matrix, classification_report\n",
    "\n",
    "def print_score(clf, X_train, y_train, X_test, y_test, train=True):\n",
    "    if train:\n",
    "        pred = clf.predict(X_train)\n",
    "        clf_report = pd.DataFrame(classification_report(y_train, pred, output_dict=True))\n",
    "        print(\"Train Result:\\n================================================\")\n",
    "        print(f\"Accuracy Score: {accuracy_score(y_train, pred) * 100:.2f}%\")\n",
    "        print(\"_______________________________________________\")\n",
    "        print(f\"CLASSIFICATION REPORT:\\n{clf_report}\")\n",
    "        print(\"_______________________________________________\")\n",
    "        print(f\"Confusion Matrix: \\n {confusion_matrix(y_train, pred)}\\n\")\n",
    "        \n",
    "    elif train==False:\n",
    "        pred = clf.predict(X_test)\n",
    "        clf_report = pd.DataFrame(classification_report(y_test, pred, output_dict=True))\n",
    "        print(\"Test Result:\\n================================================\")        \n",
    "        print(f\"Accuracy Score: {accuracy_score(y_test, pred) * 100:.2f}%\")\n",
    "        print(\"_______________________________________________\")\n",
    "        print(f\"CLASSIFICATION REPORT:\\n{clf_report}\")\n",
    "        print(\"_______________________________________________\")\n",
    "        print(f\"Confusion Matrix: \\n {confusion_matrix(y_test, pred)}\\n\")"
   ]
  },
  {
   "cell_type": "code",
   "execution_count": 17,
   "id": "816267bf",
   "metadata": {},
   "outputs": [
    {
     "name": "stderr",
     "output_type": "stream",
     "text": [
      "/Users/raghu/opt/anaconda3/lib/python3.8/site-packages/sklearn/svm/_base.py:985: ConvergenceWarning: Liblinear failed to converge, increase the number of iterations.\n",
      "  warnings.warn(\"Liblinear failed to converge, increase \"\n",
      "/Users/raghu/opt/anaconda3/lib/python3.8/site-packages/sklearn/svm/_base.py:985: ConvergenceWarning: Liblinear failed to converge, increase the number of iterations.\n",
      "  warnings.warn(\"Liblinear failed to converge, increase \"\n",
      "/Users/raghu/opt/anaconda3/lib/python3.8/site-packages/sklearn/svm/_base.py:985: ConvergenceWarning: Liblinear failed to converge, increase the number of iterations.\n",
      "  warnings.warn(\"Liblinear failed to converge, increase \"\n",
      "/Users/raghu/opt/anaconda3/lib/python3.8/site-packages/sklearn/svm/_base.py:985: ConvergenceWarning: Liblinear failed to converge, increase the number of iterations.\n",
      "  warnings.warn(\"Liblinear failed to converge, increase \"\n",
      "/Users/raghu/opt/anaconda3/lib/python3.8/site-packages/sklearn/svm/_base.py:985: ConvergenceWarning: Liblinear failed to converge, increase the number of iterations.\n",
      "  warnings.warn(\"Liblinear failed to converge, increase \"\n",
      "/Users/raghu/opt/anaconda3/lib/python3.8/site-packages/xgboost/sklearn.py:1146: UserWarning: The use of label encoder in XGBClassifier is deprecated and will be removed in a future release. To remove this warning, do the following: 1) Pass option use_label_encoder=False when constructing XGBClassifier object; and 2) Encode your labels (y) as integers starting with 0, i.e. 0, 1, 2, ..., [num_class - 1].\n",
      "  warnings.warn(label_encoder_deprecation_msg, UserWarning)\n"
     ]
    },
    {
     "name": "stdout",
     "output_type": "stream",
     "text": [
      "[14:44:39] WARNING: /Users/travis/build/dmlc/xgboost/src/learner.cc:1095: Starting in XGBoost 1.3.0, the default evaluation metric used with the objective 'multi:softprob' was changed from 'merror' to 'mlogloss'. Explicitly set eval_metric if you'd like to restore the old behavior.\n"
     ]
    },
    {
     "name": "stderr",
     "output_type": "stream",
     "text": [
      "/Users/raghu/opt/anaconda3/lib/python3.8/site-packages/xgboost/sklearn.py:1146: UserWarning: The use of label encoder in XGBClassifier is deprecated and will be removed in a future release. To remove this warning, do the following: 1) Pass option use_label_encoder=False when constructing XGBClassifier object; and 2) Encode your labels (y) as integers starting with 0, i.e. 0, 1, 2, ..., [num_class - 1].\n",
      "  warnings.warn(label_encoder_deprecation_msg, UserWarning)\n"
     ]
    },
    {
     "name": "stdout",
     "output_type": "stream",
     "text": [
      "[14:44:44] WARNING: /Users/travis/build/dmlc/xgboost/src/learner.cc:1095: Starting in XGBoost 1.3.0, the default evaluation metric used with the objective 'multi:softprob' was changed from 'merror' to 'mlogloss'. Explicitly set eval_metric if you'd like to restore the old behavior.\n"
     ]
    },
    {
     "name": "stderr",
     "output_type": "stream",
     "text": [
      "/Users/raghu/opt/anaconda3/lib/python3.8/site-packages/xgboost/sklearn.py:1146: UserWarning: The use of label encoder in XGBClassifier is deprecated and will be removed in a future release. To remove this warning, do the following: 1) Pass option use_label_encoder=False when constructing XGBClassifier object; and 2) Encode your labels (y) as integers starting with 0, i.e. 0, 1, 2, ..., [num_class - 1].\n",
      "  warnings.warn(label_encoder_deprecation_msg, UserWarning)\n"
     ]
    },
    {
     "name": "stdout",
     "output_type": "stream",
     "text": [
      "[14:44:51] WARNING: /Users/travis/build/dmlc/xgboost/src/learner.cc:1095: Starting in XGBoost 1.3.0, the default evaluation metric used with the objective 'multi:softprob' was changed from 'merror' to 'mlogloss'. Explicitly set eval_metric if you'd like to restore the old behavior.\n"
     ]
    },
    {
     "name": "stderr",
     "output_type": "stream",
     "text": [
      "/Users/raghu/opt/anaconda3/lib/python3.8/site-packages/xgboost/sklearn.py:1146: UserWarning: The use of label encoder in XGBClassifier is deprecated and will be removed in a future release. To remove this warning, do the following: 1) Pass option use_label_encoder=False when constructing XGBClassifier object; and 2) Encode your labels (y) as integers starting with 0, i.e. 0, 1, 2, ..., [num_class - 1].\n",
      "  warnings.warn(label_encoder_deprecation_msg, UserWarning)\n"
     ]
    },
    {
     "name": "stdout",
     "output_type": "stream",
     "text": [
      "[14:45:00] WARNING: /Users/travis/build/dmlc/xgboost/src/learner.cc:1095: Starting in XGBoost 1.3.0, the default evaluation metric used with the objective 'multi:softprob' was changed from 'merror' to 'mlogloss'. Explicitly set eval_metric if you'd like to restore the old behavior.\n"
     ]
    },
    {
     "name": "stderr",
     "output_type": "stream",
     "text": [
      "/Users/raghu/opt/anaconda3/lib/python3.8/site-packages/xgboost/sklearn.py:1146: UserWarning: The use of label encoder in XGBClassifier is deprecated and will be removed in a future release. To remove this warning, do the following: 1) Pass option use_label_encoder=False when constructing XGBClassifier object; and 2) Encode your labels (y) as integers starting with 0, i.e. 0, 1, 2, ..., [num_class - 1].\n",
      "  warnings.warn(label_encoder_deprecation_msg, UserWarning)\n"
     ]
    },
    {
     "name": "stdout",
     "output_type": "stream",
     "text": [
      "[14:45:07] WARNING: /Users/travis/build/dmlc/xgboost/src/learner.cc:1095: Starting in XGBoost 1.3.0, the default evaluation metric used with the objective 'multi:softprob' was changed from 'merror' to 'mlogloss'. Explicitly set eval_metric if you'd like to restore the old behavior.\n"
     ]
    }
   ],
   "source": [
    "models = [\n",
    "    RandomForestClassifier(n_estimators=500, random_state=42, min_samples_split=3, min_samples_leaf=2),\n",
    "    LinearSVC(),\n",
    "    XGBClassifier(learning_rate =0.07,n_estimators=100),\n",
    "]\n",
    "CV = 5\n",
    "cv_df = pd.DataFrame(index=range(CV * len(models)))\n",
    "entries = []\n",
    "for model in models:\n",
    "    model_name = model.__class__.__name__\n",
    "    accuracies = cross_val_score(model, np.array(X_train.tolist()), y_train, scoring='accuracy', cv=CV)\n",
    "    for fold_idx, accuracy in enumerate(accuracies):\n",
    "        entries.append((model_name, fold_idx, accuracy))\n",
    "cv_df = pd.DataFrame(entries, columns=['model_name', 'fold_idx', 'accuracy'])"
   ]
  },
  {
   "cell_type": "code",
   "execution_count": 18,
   "id": "5a2d5bbf",
   "metadata": {},
   "outputs": [
    {
     "data": {
      "text/html": [
       "<div>\n",
       "<style scoped>\n",
       "    .dataframe tbody tr th:only-of-type {\n",
       "        vertical-align: middle;\n",
       "    }\n",
       "\n",
       "    .dataframe tbody tr th {\n",
       "        vertical-align: top;\n",
       "    }\n",
       "\n",
       "    .dataframe thead th {\n",
       "        text-align: right;\n",
       "    }\n",
       "</style>\n",
       "<table border=\"1\" class=\"dataframe\">\n",
       "  <thead>\n",
       "    <tr style=\"text-align: right;\">\n",
       "      <th></th>\n",
       "      <th>model_name</th>\n",
       "      <th>fold_idx</th>\n",
       "      <th>accuracy</th>\n",
       "    </tr>\n",
       "  </thead>\n",
       "  <tbody>\n",
       "    <tr>\n",
       "      <th>0</th>\n",
       "      <td>RandomForestClassifier</td>\n",
       "      <td>0</td>\n",
       "      <td>0.839695</td>\n",
       "    </tr>\n",
       "    <tr>\n",
       "      <th>1</th>\n",
       "      <td>RandomForestClassifier</td>\n",
       "      <td>1</td>\n",
       "      <td>0.839695</td>\n",
       "    </tr>\n",
       "    <tr>\n",
       "      <th>2</th>\n",
       "      <td>RandomForestClassifier</td>\n",
       "      <td>2</td>\n",
       "      <td>0.877863</td>\n",
       "    </tr>\n",
       "    <tr>\n",
       "      <th>3</th>\n",
       "      <td>RandomForestClassifier</td>\n",
       "      <td>3</td>\n",
       "      <td>0.824427</td>\n",
       "    </tr>\n",
       "    <tr>\n",
       "      <th>4</th>\n",
       "      <td>RandomForestClassifier</td>\n",
       "      <td>4</td>\n",
       "      <td>0.876923</td>\n",
       "    </tr>\n",
       "    <tr>\n",
       "      <th>5</th>\n",
       "      <td>LinearSVC</td>\n",
       "      <td>0</td>\n",
       "      <td>0.885496</td>\n",
       "    </tr>\n",
       "    <tr>\n",
       "      <th>6</th>\n",
       "      <td>LinearSVC</td>\n",
       "      <td>1</td>\n",
       "      <td>0.931298</td>\n",
       "    </tr>\n",
       "    <tr>\n",
       "      <th>7</th>\n",
       "      <td>LinearSVC</td>\n",
       "      <td>2</td>\n",
       "      <td>0.900763</td>\n",
       "    </tr>\n",
       "    <tr>\n",
       "      <th>8</th>\n",
       "      <td>LinearSVC</td>\n",
       "      <td>3</td>\n",
       "      <td>0.931298</td>\n",
       "    </tr>\n",
       "    <tr>\n",
       "      <th>9</th>\n",
       "      <td>LinearSVC</td>\n",
       "      <td>4</td>\n",
       "      <td>0.892308</td>\n",
       "    </tr>\n",
       "    <tr>\n",
       "      <th>10</th>\n",
       "      <td>XGBClassifier</td>\n",
       "      <td>0</td>\n",
       "      <td>0.877863</td>\n",
       "    </tr>\n",
       "    <tr>\n",
       "      <th>11</th>\n",
       "      <td>XGBClassifier</td>\n",
       "      <td>1</td>\n",
       "      <td>0.824427</td>\n",
       "    </tr>\n",
       "    <tr>\n",
       "      <th>12</th>\n",
       "      <td>XGBClassifier</td>\n",
       "      <td>2</td>\n",
       "      <td>0.870229</td>\n",
       "    </tr>\n",
       "    <tr>\n",
       "      <th>13</th>\n",
       "      <td>XGBClassifier</td>\n",
       "      <td>3</td>\n",
       "      <td>0.847328</td>\n",
       "    </tr>\n",
       "    <tr>\n",
       "      <th>14</th>\n",
       "      <td>XGBClassifier</td>\n",
       "      <td>4</td>\n",
       "      <td>0.907692</td>\n",
       "    </tr>\n",
       "  </tbody>\n",
       "</table>\n",
       "</div>"
      ],
      "text/plain": [
       "                model_name  fold_idx  accuracy\n",
       "0   RandomForestClassifier         0  0.839695\n",
       "1   RandomForestClassifier         1  0.839695\n",
       "2   RandomForestClassifier         2  0.877863\n",
       "3   RandomForestClassifier         3  0.824427\n",
       "4   RandomForestClassifier         4  0.876923\n",
       "5                LinearSVC         0  0.885496\n",
       "6                LinearSVC         1  0.931298\n",
       "7                LinearSVC         2  0.900763\n",
       "8                LinearSVC         3  0.931298\n",
       "9                LinearSVC         4  0.892308\n",
       "10           XGBClassifier         0  0.877863\n",
       "11           XGBClassifier         1  0.824427\n",
       "12           XGBClassifier         2  0.870229\n",
       "13           XGBClassifier         3  0.847328\n",
       "14           XGBClassifier         4  0.907692"
      ]
     },
     "execution_count": 18,
     "metadata": {},
     "output_type": "execute_result"
    }
   ],
   "source": [
    "cv_df"
   ]
  },
  {
   "cell_type": "code",
   "execution_count": 19,
   "id": "c230b591",
   "metadata": {},
   "outputs": [
    {
     "data": {
      "image/png": "[encoded data removed]",
      "text/plain": [
       "<Figure size 432x288 with 1 Axes>"
      ]
     },
     "metadata": {
      "needs_background": "light"
     },
     "output_type": "display_data"
    }
   ],
   "source": [
    "sns.boxplot(x='model_name', y='accuracy', data=cv_df)\n",
    "sns.stripplot(x='model_name', y='accuracy', data=cv_df, \n",
    "              size=8, jitter=True, edgecolor=\"gray\", linewidth=2)\n",
    "plt.show()"
   ]
  },
  {
   "cell_type": "code",
   "execution_count": 20,
   "id": "1385b961",
   "metadata": {},
   "outputs": [
    {
     "name": "stdout",
     "output_type": "stream",
     "text": [
      "Train Result:\n",
      "================================================\n",
      "Accuracy Score: 99.39%\n",
      "_______________________________________________\n",
      "CLASSIFICATION REPORT:\n",
      "           Cardiovascular / Pulmonary  Gastroenterology   Neurology  accuracy  \\\n",
      "precision                    0.989933          1.000000    0.994413  0.993884   \n",
      "recall                       1.000000          0.983333    0.994413  0.993884   \n",
      "f1-score                     0.994941          0.991597    0.994413  0.993884   \n",
      "support                    295.000000        180.000000  179.000000  0.993884   \n",
      "\n",
      "            macro avg  weighted avg  \n",
      "precision    0.994782      0.993930  \n",
      "recall       0.992582      0.993884  \n",
      "f1-score     0.993650      0.993876  \n",
      "support    654.000000    654.000000  \n",
      "_______________________________________________\n",
      "Confusion Matrix: \n",
      " [[295   0   0]\n",
      " [  2 177   1]\n",
      " [  1   0 178]]\n",
      "\n",
      "Test Result:\n",
      "================================================\n",
      "Accuracy Score: 83.54%\n",
      "_______________________________________________\n",
      "CLASSIFICATION REPORT:\n",
      "           Cardiovascular / Pulmonary  Gastroenterology  Neurology  accuracy  \\\n",
      "precision                    0.806818          0.885714   0.853659  0.835366   \n",
      "recall                       0.934211          0.704545   0.795455  0.835366   \n",
      "f1-score                     0.865854          0.784810   0.823529  0.835366   \n",
      "support                     76.000000         44.000000  44.000000  0.835366   \n",
      "\n",
      "            macro avg  weighted avg  \n",
      "precision    0.848730      0.840552  \n",
      "recall       0.811404      0.835366  \n",
      "f1-score     0.824731      0.832755  \n",
      "support    164.000000    164.000000  \n",
      "_______________________________________________\n",
      "Confusion Matrix: \n",
      " [[71  2  3]\n",
      " [10 31  3]\n",
      " [ 7  2 35]]\n",
      "\n"
     ]
    }
   ],
   "source": [
    "rf_clf = RandomForestClassifier(n_estimators=500, random_state=42, min_samples_split=3, min_samples_leaf=2, )\n",
    "rf_clf.fit(np.array(X_train.tolist()), y_train)\n",
    "print_score(rf_clf, np.array(X_train.tolist()), y_train, np.array(X_test.tolist()), y_test, train=True)\n",
    "print_score(rf_clf, np.array(X_train.tolist()), y_train, np.array(X_test.tolist()), y_test, train=False)"
   ]
  },
  {
   "cell_type": "code",
   "execution_count": 21,
   "id": "b2433a84",
   "metadata": {},
   "outputs": [
    {
     "name": "stdout",
     "output_type": "stream",
     "text": [
      "Train Result:\n",
      "================================================\n",
      "Accuracy Score: 99.39%\n",
      "_______________________________________________\n",
      "CLASSIFICATION REPORT:\n",
      "           Cardiovascular / Pulmonary  Gastroenterology   Neurology  accuracy  \\\n",
      "precision                    0.993243          0.988950    1.000000  0.993884   \n",
      "recall                       0.996610          0.994444    0.988827  0.993884   \n",
      "f1-score                     0.994924          0.991690    0.994382  0.993884   \n",
      "support                    295.000000        180.000000  179.000000  0.993884   \n",
      "\n",
      "            macro avg  weighted avg  \n",
      "precision    0.994065      0.993911  \n",
      "recall       0.993294      0.993884  \n",
      "f1-score     0.993665      0.993885  \n",
      "support    654.000000    654.000000  \n",
      "_______________________________________________\n",
      "Confusion Matrix: \n",
      " [[294   1   0]\n",
      " [  1 179   0]\n",
      " [  1   1 177]]\n",
      "\n",
      "Test Result:\n",
      "================================================\n",
      "Accuracy Score: 90.24%\n",
      "_______________________________________________\n",
      "CLASSIFICATION REPORT:\n",
      "           Cardiovascular / Pulmonary  Gastroenterology  Neurology  accuracy  \\\n",
      "precision                    0.897436          0.863636   0.952381  0.902439   \n",
      "recall                       0.921053          0.863636   0.909091  0.902439   \n",
      "f1-score                     0.909091          0.863636   0.930233  0.902439   \n",
      "support                     76.000000         44.000000  44.000000  0.902439   \n",
      "\n",
      "            macro avg  weighted avg  \n",
      "precision    0.904484      0.903109  \n",
      "recall       0.897927      0.902439  \n",
      "f1-score     0.900987      0.902568  \n",
      "support    164.000000    164.000000  \n",
      "_______________________________________________\n",
      "Confusion Matrix: \n",
      " [[70  5  1]\n",
      " [ 5 38  1]\n",
      " [ 3  1 40]]\n",
      "\n"
     ]
    },
    {
     "name": "stderr",
     "output_type": "stream",
     "text": [
      "/Users/raghu/opt/anaconda3/lib/python3.8/site-packages/sklearn/svm/_base.py:985: ConvergenceWarning: Liblinear failed to converge, increase the number of iterations.\n",
      "  warnings.warn(\"Liblinear failed to converge, increase \"\n"
     ]
    }
   ],
   "source": [
    "lsvc_clf = LinearSVC(C=1.0) #n_jobs=4,\n",
    "lsvc_clf.fit(np.array(X_train.tolist()), y_train)\n",
    "print_score(lsvc_clf, np.array(X_train.tolist()), y_train, np.array(X_test.tolist()), y_test, train=True)\n",
    "print_score(lsvc_clf, np.array(X_train.tolist()), y_train, np.array(X_test.tolist()), y_test, train=False)"
   ]
  },
  {
   "cell_type": "code",
   "execution_count": 22,
   "id": "6ef9ca61",
   "metadata": {},
   "outputs": [
    {
     "name": "stderr",
     "output_type": "stream",
     "text": [
      "/Users/raghu/opt/anaconda3/lib/python3.8/site-packages/xgboost/sklearn.py:1146: UserWarning: The use of label encoder in XGBClassifier is deprecated and will be removed in a future release. To remove this warning, do the following: 1) Pass option use_label_encoder=False when constructing XGBClassifier object; and 2) Encode your labels (y) as integers starting with 0, i.e. 0, 1, 2, ..., [num_class - 1].\n",
      "  warnings.warn(label_encoder_deprecation_msg, UserWarning)\n"
     ]
    },
    {
     "name": "stdout",
     "output_type": "stream",
     "text": [
      "[14:45:19] WARNING: /Users/travis/build/dmlc/xgboost/src/learner.cc:573: \n",
      "Parameters: { \"enable_categorical\" } might not be used.\n",
      "\n",
      "  This may not be accurate due to some parameters are only used in language bindings but\n",
      "  passed down to XGBoost core.  Or some parameters are not used but slip through this\n",
      "  verification. Please open an issue if you find above cases.\n",
      "\n",
      "\n",
      "[14:45:19] WARNING: /Users/travis/build/dmlc/xgboost/src/learner.cc:1095: Starting in XGBoost 1.3.0, the default evaluation metric used with the objective 'multi:softprob' was changed from 'merror' to 'mlogloss'. Explicitly set eval_metric if you'd like to restore the old behavior.\n",
      "Train Result:\n",
      "================================================\n",
      "Accuracy Score: 99.39%\n",
      "_______________________________________________\n",
      "CLASSIFICATION REPORT:\n",
      "           Cardiovascular / Pulmonary  Gastroenterology   Neurology  accuracy  \\\n",
      "precision                    0.996599          0.988950    0.994413  0.993884   \n",
      "recall                       0.993220          0.994444    0.994413  0.993884   \n",
      "f1-score                     0.994907          0.991690    0.994413  0.993884   \n",
      "support                    295.000000        180.000000  179.000000  0.993884   \n",
      "\n",
      "            macro avg  weighted avg  \n",
      "precision    0.993321      0.993895  \n",
      "recall       0.994026      0.993884  \n",
      "f1-score     0.993670      0.993886  \n",
      "support    654.000000    654.000000  \n",
      "_______________________________________________\n",
      "Confusion Matrix: \n",
      " [[293   1   1]\n",
      " [  1 179   0]\n",
      " [  0   1 178]]\n",
      "\n",
      "Test Result:\n",
      "================================================\n",
      "Accuracy Score: 82.32%\n",
      "_______________________________________________\n",
      "CLASSIFICATION REPORT:\n",
      "           Cardiovascular / Pulmonary  Gastroenterology  Neurology  accuracy  \\\n",
      "precision                    0.825000          0.775000   0.863636  0.823171   \n",
      "recall                       0.868421          0.704545   0.863636  0.823171   \n",
      "f1-score                     0.846154          0.738095   0.863636  0.823171   \n",
      "support                     76.000000         44.000000  44.000000  0.823171   \n",
      "\n",
      "            macro avg  weighted avg  \n",
      "precision    0.821212      0.821951  \n",
      "recall       0.812201      0.823171  \n",
      "f1-score     0.815962      0.821853  \n",
      "support    164.000000    164.000000  \n",
      "_______________________________________________\n",
      "Confusion Matrix: \n",
      " [[66  7  3]\n",
      " [10 31  3]\n",
      " [ 4  2 38]]\n",
      "\n"
     ]
    }
   ],
   "source": [
    "xgb_clf = XGBClassifier(n_estimators=100, enable_categorical=True) #n_jobs=4,\n",
    "xgb_clf.fit(np.array(X_train.tolist()), y_train)\n",
    "print_score(xgb_clf, np.array(X_train.tolist()), y_train, np.array(X_test.tolist()), y_test, train=True)\n",
    "print_score(xgb_clf, np.array(X_train.tolist()), y_train, np.array(X_test.tolist()), y_test, train=False)"
   ]
  },
  {
   "cell_type": "markdown",
   "id": "df57ef81",
   "metadata": {},
   "source": [
    "<h3>Results</h3>\n",
    "1. Vector representation for all the medical concepts words generated using Pretrained Bio-Clinical Bert. <br>\n",
    "2. Resulted embedded vector used for Clinical notes classification. Linear SVC performed well on both the Traing and testing data "
   ]
  },
  {
   "cell_type": "code",
   "execution_count": null,
   "id": "45906e15",
   "metadata": {},
   "outputs": [],
   "source": []
  },
  {
   "cell_type": "code",
   "execution_count": null,
   "id": "dcc1f0f4",
   "metadata": {},
   "outputs": [],
   "source": []
  }
 ],
 "metadata": {
  "kernelspec": {
   "display_name": "Python 3",
   "language": "python",
   "name": "python3"
  },
  "language_info": {
   "codemirror_mode": {
    "name": "ipython",
    "version": 3
   },
   "file_extension": ".py",
   "mimetype": "text/x-python",
   "name": "python",
   "nbconvert_exporter": "python",
   "pygments_lexer": "ipython3",
   "version": "3.8.8"
  }
 },
 "nbformat": 4,
 "nbformat_minor": 5
}
