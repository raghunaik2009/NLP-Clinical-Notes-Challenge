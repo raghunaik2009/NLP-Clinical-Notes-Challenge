{
 "cells": [
  {
   "cell_type": "markdown",
   "id": "9b4df2a6",
   "metadata": {},
   "source": [
    "<h3>Importing Packages</h3>"
   ]
  },
  {
   "cell_type": "code",
   "execution_count": 2,
   "id": "0b11c44d",
   "metadata": {},
   "outputs": [],
   "source": [
    "import pandas as pd\n",
    "import numpy as np\n",
    "from gensim.models import KeyedVectors\n",
    "import wget\n",
    "from nltk.corpus import stopwords\n",
    "from nltk.tokenize import WhitespaceTokenizer\n",
    "from nltk.stem import WordNetLemmatizer\n",
    "from sklearn.model_selection import train_test_split, cross_val_score\n",
    "from sklearn.ensemble import RandomForestClassifier\n",
    "from xgboost import XGBClassifier\n",
    "from sklearn.svm import LinearSVC, SVC\n",
    "import seaborn as sns\n",
    "from matplotlib import pyplot as plt\n",
    "import torch\n",
    "import transformers\n",
    "from transformers import AutoModel, AutoTokenizer\n",
    "from scipy import spatial"
   ]
  },
  {
   "cell_type": "markdown",
   "id": "b651cd40",
   "metadata": {},
   "source": [
    "<h3>Loading input data</h3>"
   ]
  },
  {
   "cell_type": "code",
   "execution_count": 3,
   "id": "d76b5dc5",
   "metadata": {},
   "outputs": [],
   "source": [
    "df_clinnotes = pd.read_csv(\"ClinNotes.csv\")"
   ]
  },
  {
   "cell_type": "code",
   "execution_count": 4,
   "id": "1528d981",
   "metadata": {},
   "outputs": [],
   "source": [
    "df_medicalconcept = pd.read_csv(\"MedicalConcepts.csv\")"
   ]
  },
  {
   "cell_type": "code",
   "execution_count": 7,
   "id": "6e2f3f10",
   "metadata": {},
   "outputs": [
    {
     "data": {
      "application/vnd.jupyter.widget-view+json": {
       "model_id": "81059f605a2a4d89bf5a6e260e1ffcdb",
       "version_major": 2,
       "version_minor": 0
      },
      "text/plain": [
       "Downloading:   0%|          | 0.00/49.0 [00:00<?, ?B/s]"
      ]
     },
     "metadata": {},
     "output_type": "display_data"
    },
    {
     "data": {
      "application/vnd.jupyter.widget-view+json": {
       "model_id": "241ac614247047288107900677ab55f9",
       "version_major": 2,
       "version_minor": 0
      },
      "text/plain": [
       "Downloading:   0%|          | 0.00/462 [00:00<?, ?B/s]"
      ]
     },
     "metadata": {},
     "output_type": "display_data"
    },
    {
     "data": {
      "application/vnd.jupyter.widget-view+json": {
       "model_id": "288a8ef20ca14798b5909ab1b59d05a9",
       "version_major": 2,
       "version_minor": 0
      },
      "text/plain": [
       "Downloading:   0%|          | 0.00/208k [00:00<?, ?B/s]"
      ]
     },
     "metadata": {},
     "output_type": "display_data"
    },
    {
     "data": {
      "application/vnd.jupyter.widget-view+json": {
       "model_id": "df1ece2352d84ce49f6a70207eb3d0cf",
       "version_major": 2,
       "version_minor": 0
      },
      "text/plain": [
       "Downloading:   0%|          | 0.00/112 [00:00<?, ?B/s]"
      ]
     },
     "metadata": {},
     "output_type": "display_data"
    },
    {
     "data": {
      "application/vnd.jupyter.widget-view+json": {
       "model_id": "d565a124523f4105808ac02d541475a7",
       "version_major": 2,
       "version_minor": 0
      },
      "text/plain": [
       "Downloading:   0%|          | 0.00/413M [00:00<?, ?B/s]"
      ]
     },
     "metadata": {},
     "output_type": "display_data"
    }
   ],
   "source": [
    "# BERT Model\n",
    "tokenizer = AutoTokenizer.from_pretrained('dmis-lab/biobert-v1.1') #, do_lower_case=True, do_basic_tokenize=True\n",
    "model = AutoModel.from_pretrained('dmis-lab/biobert-v1.1', output_hidden_states=True)"
   ]
  },
  {
   "cell_type": "markdown",
   "id": "84b54ccf",
   "metadata": {},
   "source": [
    "<h3>Bert Embedding</h3>"
   ]
  },
  {
   "cell_type": "code",
   "execution_count": 8,
   "id": "dc07e8ea",
   "metadata": {},
   "outputs": [],
   "source": [
    "class BERTEmbedding():\n",
    "    def __init__(self):\n",
    "        self.tokens = \"\"\n",
    "        self.sentence_tokens = \"\"\n",
    "        self.tokenizer = tokenizer\n",
    "        self.model = model\n",
    "\n",
    "    def bert_tokenization(self,text):\n",
    "        # creating text data in required format\n",
    "        marked_text = \"[CLS] \"+ text + \"[ SEP]\"\n",
    "        # spliting the sentence into tokens\n",
    "        tokenized_text = tokenizer.tokenize(marked_text)\n",
    "        return tokenized_text\n",
    "\n",
    "    def create_token_mapping(self,tokenized_text):\n",
    "        # mapping the token strings to their vocabulary indeces.\n",
    "        indexed_tokens= tokenizer.convert_tokens_to_ids(tokenized_text)\n",
    "        # marking each of the 22 tokens as belonging to sentence 1\n",
    "        segments_ids= [1] * len(tokenized_text)\n",
    "\n",
    "        #converting inputs to pytorch tensors\n",
    "        tokens_tensor= torch.tensor([indexed_tokens])\n",
    "        segments_tensors= torch.tensor([segments_ids])\n",
    "        # putting the model in evaluaion mode\n",
    "        model.eval()\n",
    "\n",
    "        # running the text through Bert, and collecting all of the hidden states produced by the layers.\n",
    "        with torch.no_grad():\n",
    "            outputs=model(tokens_tensor,segments_tensors)\n",
    "            hidden_states=outputs[2]\n",
    "\n",
    "        return hidden_states  \n",
    "\n",
    "    def get_word_vector(self,text):\n",
    "        tokenized_text = self.bert_tokenization(text)\n",
    "\n",
    "        hidden_states = self.create_token_mapping(tokenized_text)\n",
    "        # combining the layers to making one big vector\n",
    "        token_embeddings= torch.stack(hidden_states,dim=0) \n",
    "\n",
    "        # Removing dimension 1 from the batches.\n",
    "        token_embeddings = torch.squeeze(token_embeddings, dim=1)\n",
    "\n",
    "        # Swaping the dimensions 0 and 1.\n",
    "        token_embeddings = token_embeddings.permute(1,0,2)  \n",
    "\n",
    "\n",
    "        token_vecs_sum = []\n",
    "\n",
    "        for token in token_embeddings:\n",
    "            # token is a [12 x 768] tensor\n",
    "            # Sum the vectors from the last four layers.\n",
    "            sum_vec = torch.sum(token[-4:], dim=0)\n",
    "            # appending the vectors values in dict\n",
    "            token_vecs_sum.append(sum_vec)\n",
    "\n",
    "        #calculating the mean of the tensor\n",
    "        mean = torch.mean(torch.stack(token_vecs_sum),dim=-2)\n",
    "        # converting tensor to numpy array\n",
    "        mean = mean.detach().numpy()\n",
    "        return mean\n",
    "\n",
    "    def get_sentence_vector(self,text):\n",
    "        marked_text = \"[CLS] \"+ text + \"[ SEP]\"\n",
    "        tokenized_text = self.bert_tokenization(text)[:512]\n",
    "        hidden_states = self.create_token_mapping(tokenized_text)\n",
    "        # token_vecs is a tensor with shape [22 x 768]\n",
    "        token_vecs = hidden_states[-2][0]\n",
    "        # Calculating the average of all token vectors.\n",
    "        sentence_embedding = torch.mean(token_vecs, dim=0)\n",
    "        # converting the tensor to numpy array\n",
    "        sentence_embedding=sentence_embedding.detach().numpy()\n",
    "        return sentence_embedding"
   ]
  },
  {
   "cell_type": "code",
   "execution_count": 9,
   "id": "faf0b42d",
   "metadata": {},
   "outputs": [],
   "source": [
    "# calculating word vector for single word\n",
    "text = \"Glaucoma\"\n",
    "bio_bert_model = BERTEmbedding()\n",
    "word_vector = bio_bert_model.get_word_vector(text)"
   ]
  },
  {
   "cell_type": "code",
   "execution_count": 10,
   "id": "6f56cd0f",
   "metadata": {},
   "outputs": [
    {
     "data": {
      "text/plain": [
       "array([-1.4070411e+00, -1.3807621e+00, -5.8661360e-01, -2.4205389e+00,\n",
       "       -9.5067406e-01,  4.6942154e-01, -3.6151519e-01, -1.0330478e+00,\n",
       "       -1.4292661e+00,  3.9364141e-01, -9.8847157e-01, -2.0090725e+00,\n",
       "        8.5964245e-01,  4.8546493e-01, -3.8870268e-02, -1.2167357e+00,\n",
       "        2.3728185e+00, -5.4680640e-01,  8.6183476e-01,  7.3312789e-01,\n",
       "       -5.2506769e-01, -1.0325502e+00,  4.7648668e-01,  6.4357877e-01,\n",
       "        1.7219909e-01,  8.6057782e-01,  8.9315876e-02, -7.7737647e-01,\n",
       "        2.7155143e-01,  3.2248449e+00, -1.0184835e+00,  6.3089365e-01,\n",
       "       -1.2920567e+00, -1.6886301e+00, -5.3444052e-01,  1.6245198e+00,\n",
       "       -3.2310877e+00, -3.8661084e+00,  1.6929716e-01,  2.9241478e+00,\n",
       "        1.7146914e+00,  6.3194937e-01,  2.1215856e+00,  2.5262156e-01,\n",
       "        9.8023868e-01, -6.5919191e-02, -3.0907151e-01, -4.3343443e-01,\n",
       "       -2.5925138e+00,  6.4335132e-01,  2.3475270e+00, -3.8108975e-02,\n",
       "       -2.0176359e-02, -1.3137767e+00, -1.1736202e+00, -1.9623837e+00,\n",
       "       -1.7987494e-01,  4.8786724e-01, -3.8711140e+00,  1.2659882e+00,\n",
       "        1.5393208e+00, -3.3816689e-01, -1.2075133e+00,  8.3246559e-01,\n",
       "       -8.9631051e-02,  9.4314170e-01,  1.3179313e+00, -1.0083839e+00,\n",
       "       -7.9120088e-01, -1.2067828e+00, -1.4241691e+00, -3.2623110e+00,\n",
       "        7.1178591e-01,  6.5010387e-01,  2.0822719e-01,  7.4937358e-02,\n",
       "        2.9154022e+00, -2.5354415e-01,  9.7111744e-01,  4.1665249e+00,\n",
       "        1.4644563e+00, -4.4231625e+00,  9.1301370e-01,  2.7861423e+00,\n",
       "       -1.4677768e+00, -1.3283767e+00, -4.2178214e-01,  7.4175686e-01,\n",
       "       -1.1196114e+00,  2.6520762e+00, -1.5784236e+00, -2.4763079e+00,\n",
       "       -4.5244141e+00,  7.3131824e-01, -1.7191100e+00,  4.5817736e-01,\n",
       "        1.8685460e-01,  6.9285974e-02, -1.4544439e+00,  1.4730123e+00,\n",
       "        4.5831564e-01, -7.4048316e-01,  1.3054829e+00,  1.1234055e+00,\n",
       "       -2.1254575e+00, -1.3443816e+00, -1.1782564e+00,  2.5266457e-01,\n",
       "        9.4605416e-01, -6.4935452e-01,  2.0677869e-01,  1.8671597e+00,\n",
       "        1.4386120e+00, -1.5177346e+00, -6.6250592e-01, -4.9089092e-01,\n",
       "        2.1597242e+00,  5.1910102e-01, -1.4229224e+00, -2.9512706e+00,\n",
       "       -1.6571380e+00, -2.7888858e+00,  7.5521469e-01, -1.2574668e+00,\n",
       "        7.4107462e-01, -2.2508979e+00,  3.2744131e+00, -7.9417956e-01,\n",
       "        2.4543563e-02, -2.8915515e+00, -1.3700385e+00, -5.4578030e-01,\n",
       "        1.3081938e+00,  2.1261017e-01, -7.0975924e-01,  2.6420026e+00,\n",
       "       -9.0270299e-01, -1.5038721e-01, -4.8460889e+00,  1.2894855e+00,\n",
       "        2.6806118e+00, -7.0657527e-01,  1.3217835e+00,  5.1331837e-02,\n",
       "        4.1768992e-01, -6.2208670e-01,  1.8082286e+00, -1.9740791e+00,\n",
       "       -3.2844093e-02, -3.4785166e+00, -1.7685492e+00, -1.5168092e+00,\n",
       "       -3.1112025e+00,  1.7733395e+00,  3.4755695e-01, -1.4752567e+00,\n",
       "       -2.2252228e+00, -4.2978368e+00,  1.4615860e+00,  1.3460014e+00,\n",
       "        1.2994819e-02,  3.8425436e+00, -3.2314911e+00,  8.4416920e-01,\n",
       "        1.8885487e+00,  1.7129539e+00, -2.1989250e+00,  7.0998144e-01,\n",
       "        1.6535375e-02, -3.5934198e-01, -1.6297321e+00, -6.6360784e-01,\n",
       "       -2.5107744e+00,  1.0597677e+00, -8.4563442e-02,  2.0754309e+00,\n",
       "        2.2024181e+00, -4.4051254e-01, -4.5359462e-01, -2.5540814e-01,\n",
       "        2.1880968e-01,  3.8989165e-01,  1.5940250e+00,  7.3983175e-01,\n",
       "       -1.0905118e+00, -1.0016743e+00, -3.6681900e+00, -1.9003078e+00,\n",
       "       -1.1862652e+00,  8.6589581e-01,  2.1959238e+00, -1.2214017e+00,\n",
       "        2.2192223e+00, -8.7277269e-01, -1.9749194e+00,  7.9512608e-01,\n",
       "        4.1982522e+00,  5.2621611e-03, -6.3300830e-01, -4.1195762e-01,\n",
       "        1.4693469e+00, -3.2247868e-01,  2.4934885e-01,  3.2920032e+00,\n",
       "       -1.9316618e+00,  1.9827276e-01,  1.5041251e+00, -2.8789926e-01,\n",
       "        1.2301327e+00, -1.2129538e+00, -2.1062267e+00, -2.5373671e+00,\n",
       "        4.2530842e+00,  7.0486385e-01,  1.4630791e+00,  2.2784047e+00,\n",
       "       -1.7323871e+00, -1.0745654e+00, -1.2575613e+00,  1.6768794e+00,\n",
       "       -7.2255075e-01,  1.3755488e+00,  1.8708436e+00, -1.8044417e-01,\n",
       "       -1.4315009e+00, -1.8490985e-01, -1.4736707e+00, -3.7890616e-01,\n",
       "       -1.3402791e+00, -1.8185648e+00,  3.7157674e+00,  2.0740526e+00,\n",
       "        4.6630111e-01, -8.4605508e-02, -1.0441345e+00, -9.5599747e-01,\n",
       "       -1.5242213e+00, -2.4458919e-01,  2.6295860e+00,  6.8881637e-01,\n",
       "       -4.1248745e-01, -7.2671235e-01, -4.3335882e-01, -1.2736049e+00,\n",
       "       -7.7542448e-01, -1.3636911e+00, -5.3957802e-01,  1.0848546e+00,\n",
       "       -1.5048819e+00, -2.2843750e-01, -1.8462233e-01, -8.3573216e-01,\n",
       "       -4.3798437e+00, -5.8237529e-01,  1.9409460e+00,  1.3173188e+00,\n",
       "       -1.7729112e+00, -2.5851836e+00,  2.3669243e-01,  2.2658181e-01,\n",
       "        1.8169389e+00, -2.5214393e+00,  2.4874890e+00,  4.6383244e-01,\n",
       "        4.3754518e-01, -1.2658888e+00,  2.8385848e-01, -1.5545788e+00,\n",
       "        5.8812344e-01,  9.2411911e-01,  1.4411609e+00, -5.7381189e-01,\n",
       "        6.0557738e-02, -9.0537041e-01, -2.0074897e+00,  1.3248566e+00,\n",
       "       -6.4911473e-01, -1.4966819e-02,  2.8600946e-01, -3.0786994e+00,\n",
       "        2.9701653e-01,  2.7724561e-01, -9.7421455e-01, -8.6535439e-02,\n",
       "       -9.9232674e-01,  4.3445295e-03, -4.5321900e-01, -1.5666298e+00,\n",
       "        3.7504649e-01,  9.4929069e-02,  2.1149759e+00,  1.8981694e+00,\n",
       "        2.7881396e-01, -2.7604949e+00, -1.6182189e+00,  2.5339181e+00,\n",
       "       -2.0077095e+00,  2.5604692e+00,  3.7990008e-02, -4.8131710e-01,\n",
       "        1.5901830e+00, -1.8553889e+00,  5.1085782e-01,  2.7285376e+00,\n",
       "        4.2273048e-01, -3.4003382e+00, -2.0307770e+00, -7.7462059e-01,\n",
       "        4.9903953e-01, -3.2183412e-01,  3.3911307e+00,  1.6459994e+00,\n",
       "        5.6492054e-01, -1.8027583e+00, -1.6498656e+00, -2.3332739e+00,\n",
       "       -9.1353458e-01, -1.2097670e+00, -9.1597027e-01,  2.4059916e-01,\n",
       "        6.9616996e-02, -3.6648589e-01, -1.4957134e+00, -4.5091337e-01,\n",
       "       -1.8654120e+00, -2.1369002e+00,  1.2012721e+00, -2.4715275e-01,\n",
       "       -2.0647352e+00,  3.6922836e+00, -1.8179158e-02, -1.0440981e+00,\n",
       "       -1.6146505e+00, -1.6444054e+00,  9.8260570e-01, -6.7185265e-01,\n",
       "        7.7852881e-01,  5.5324149e-01, -2.4593136e-01,  1.0383064e+00,\n",
       "        8.2999587e-01,  2.6528854e+00, -7.6713288e-01,  8.9952254e-01,\n",
       "       -1.0257452e+00,  2.9430058e+00,  5.4531038e-01, -1.1319879e+00,\n",
       "        4.4409189e-01, -1.6176100e+00, -6.5082371e-01, -4.9558077e+00,\n",
       "       -1.7461419e+00,  1.8253081e+00,  1.7084312e-01, -1.3519154e+00,\n",
       "       -1.2801974e-01, -1.7754894e+00, -8.5445005e-01, -1.3455721e+00,\n",
       "        1.1718816e+00, -8.4276628e-01,  1.3979717e+00,  1.9554724e+00,\n",
       "        1.0450227e+00,  4.8919997e-01,  7.3827188e-03,  2.2461557e+00,\n",
       "       -7.8836642e-02, -8.4888762e-01,  1.9010968e+00, -3.1520944e+00,\n",
       "        1.5355026e+00,  3.1542525e-01, -2.6164901e-01,  2.6625292e+00,\n",
       "        1.3099605e+00, -5.8181655e-01,  1.6489494e+00, -1.6028149e+00,\n",
       "       -8.0203044e-01,  2.6519156e+00,  7.5894874e-01, -2.5964983e+00,\n",
       "       -2.2593582e+00,  3.6424620e+00,  1.3083509e+00, -6.4027876e-01,\n",
       "        2.0604946e-02, -6.0746777e-01,  8.8748790e-02,  4.0095639e-01,\n",
       "        1.1848543e+00,  1.3307571e-01,  9.5459759e-02, -2.3087199e-01,\n",
       "        1.9236711e-01,  1.8893988e-01,  1.2064675e+00,  2.3821948e+00,\n",
       "       -1.7567801e+00,  1.1089808e+00, -8.1334114e-01,  8.3469605e-01,\n",
       "       -2.6335950e+00,  7.8401637e-01, -2.4141544e-01, -3.4999495e+00,\n",
       "       -4.4539566e+00,  5.9485257e-01, -4.9552548e-01, -1.6838455e+00,\n",
       "        2.8159528e+00,  1.5750108e+00,  2.5218041e+00, -2.8066320e+00,\n",
       "       -1.6265312e+00,  2.9488213e+00, -1.9505452e-01,  6.2835775e-02,\n",
       "       -1.1626773e+00, -2.4405244e-01,  2.0561102e-01, -2.3349538e+00,\n",
       "       -7.4043387e-01, -3.6319891e-01,  1.0394788e+00, -1.7550536e+00,\n",
       "        1.9774786e+00,  2.8952725e+00, -1.3939278e-01, -4.5665681e-01,\n",
       "        8.5963035e-01,  7.9497248e-01, -2.0056338e+00, -1.4525067e+00,\n",
       "        2.5582755e+00,  4.5870188e-01, -4.7002473e-01,  1.6432971e-01,\n",
       "       -4.6116474e-01,  2.4239161e+00,  6.3047910e-01, -9.8154724e-01,\n",
       "        1.0715842e+00,  3.1961477e-01,  8.4662300e-01,  8.0390561e-01,\n",
       "        1.1318538e+00, -3.3227174e+00, -6.9602191e-01,  2.6390138e+00,\n",
       "        6.8538761e-01,  1.8141057e+00, -7.9063886e-01, -1.2659745e+00,\n",
       "        1.2121276e+00,  5.1389968e-01, -1.9048358e+00, -1.0531107e+00,\n",
       "       -2.3980119e+00, -7.9724735e-01, -2.0325458e+00, -2.4105158e+00,\n",
       "       -3.2590589e-01, -7.1645880e-01,  1.8325384e+00,  2.5073767e+00,\n",
       "       -1.2672453e+00, -1.2056734e-02,  5.8176517e+00,  3.9662567e-01,\n",
       "        2.4011467e+00,  5.2701020e-01,  1.8183492e+00, -1.4393965e+00,\n",
       "        3.8686006e+00,  1.0155534e+00, -6.9890141e-01,  2.5421262e+00,\n",
       "       -1.4191722e+00,  5.2623194e-01, -2.1698632e+00,  4.1105809e+00,\n",
       "        1.3190045e+00,  2.0111935e+00,  2.2799971e+00,  9.3535352e-01,\n",
       "        9.3760037e-01,  1.5699196e-01, -6.8621063e-01, -3.2568848e-01,\n",
       "       -7.4695206e-01,  4.4991706e-02,  7.7934396e-01, -2.0804198e+00,\n",
       "       -1.1056265e+00, -1.9606903e-01, -1.3486173e+00, -2.1985939e+00,\n",
       "        1.5821472e+00,  2.4820995e+00, -1.2936939e+00, -1.0695281e+00,\n",
       "       -4.0247736e+00,  3.9001966e+00, -1.5105348e+00, -1.1683313e+00,\n",
       "        9.3675274e-01, -1.4360719e+00, -5.1438379e+00, -2.7419004e+00,\n",
       "       -1.4201503e+00, -7.4624401e-01, -1.7632110e+00,  1.1982580e+00,\n",
       "       -1.3405266e+00, -1.0104574e+00,  5.1290035e-02, -2.0993693e+00,\n",
       "        5.2546740e-01, -4.8569340e-01, -2.3505133e-01,  8.4209055e-01,\n",
       "       -2.6980295e+00, -3.4101516e-01,  2.3467209e+00, -2.7009230e+00,\n",
       "       -1.3404437e+00, -1.4471844e-01, -1.2211946e+00, -3.6066729e-01,\n",
       "        2.9882689e+00,  9.1755241e-01, -5.0341892e-01,  1.0386157e+00,\n",
       "       -3.4296128e-01, -3.9614412e-01, -2.7809329e+00,  9.0021867e-01,\n",
       "        3.5073102e-01,  5.9564883e-01,  2.2450008e+00, -1.3062381e+00,\n",
       "        4.1945368e-01,  2.8419752e+00,  9.8596793e-01, -2.4947564e-01,\n",
       "        2.1661310e+00,  2.1384003e+00,  4.1586363e-01,  1.5958045e+00,\n",
       "        3.6566538e-01, -5.0042272e-01,  3.7872934e-01, -1.7446218e+00,\n",
       "       -1.6759326e+00, -4.6218567e+01,  3.7827003e-01, -8.1293595e-01,\n",
       "       -8.0602437e-01, -1.0936803e-02,  1.2075821e+00,  1.0233562e+00,\n",
       "        3.6230655e+00,  5.3803229e-01,  8.8643926e-01,  1.2482424e-02,\n",
       "       -7.3513746e-01, -1.1262910e+00, -4.7579035e-01,  9.4687843e-01,\n",
       "        4.4803259e-01,  4.7646147e-01, -2.2686458e+00, -1.5118255e-03,\n",
       "        5.6264198e-01, -1.0512693e+00, -3.3208492e-01,  2.6514850e+00,\n",
       "       -8.8733602e-01,  3.0577497e+00, -2.2946209e-01, -1.2108939e+00,\n",
       "       -1.9977123e+00, -1.3541346e+00, -8.4836000e-01, -4.9414602e-01,\n",
       "        8.4160185e-01,  4.7051508e-02,  1.4039122e+00,  1.8390124e+00,\n",
       "       -1.9429866e+00,  3.7096980e-01,  3.2706113e+00,  1.5293291e-01,\n",
       "       -2.2432995e+00, -4.0083569e-02, -1.5982118e+00,  2.8505673e+00,\n",
       "       -2.1663303e+00, -2.3991055e+00, -6.8051261e-01, -1.6677607e+00,\n",
       "        1.1503997e+00,  7.5258261e-01,  8.2951951e-01, -3.3361986e-01,\n",
       "        1.2271625e+00,  3.6501033e+00, -5.9603524e-01, -2.3083398e+00,\n",
       "        1.7318077e-01, -2.9881334e-01,  4.0916538e+00,  3.5169725e+00,\n",
       "        1.6325890e-01, -2.4816406e+00, -4.9888515e-01,  2.0109196e+00,\n",
       "       -1.8978467e+00, -8.3611369e-01,  1.7261056e+00,  3.3408885e+00,\n",
       "        1.8552070e+00,  5.0233483e-01,  1.8119687e+00, -1.7337822e+00,\n",
       "        6.5980268e-01,  2.3564345e-01,  3.9406230e+00, -2.8206720e+00,\n",
       "        5.7068005e-02, -6.4515758e-01,  8.6396807e-01,  1.3035493e+00,\n",
       "        3.8534021e-01,  1.2033595e+00,  1.0529755e-01,  1.0831655e+00,\n",
       "       -3.5605969e+00, -7.0111960e-02,  4.9431868e+00,  3.7583880e+00,\n",
       "        2.0831673e+00, -2.2122610e+00,  1.2458555e-02,  1.1270607e+00,\n",
       "        2.4701940e-01, -1.2784092e-01, -1.3305669e+00,  5.6166142e-01,\n",
       "       -6.1290240e-01, -1.2223982e+00,  2.8854799e-01, -1.6578690e+00,\n",
       "        7.3718190e-01, -1.0539834e+00,  1.1001880e+00, -1.1345129e+00,\n",
       "        8.0451810e-01, -1.7947391e-01,  1.8303005e-01,  9.9564958e-01,\n",
       "       -3.9587311e-02, -6.7240250e-01,  2.4063883e+00, -1.7218171e-01,\n",
       "       -9.0091813e-01, -6.1824122e-03, -6.4170605e-01,  8.9818245e-01,\n",
       "        4.9414697e-01,  3.0049155e+00,  8.8537514e-01,  1.4491735e-01,\n",
       "        1.1017604e+00, -2.2130878e+00,  1.1731951e+00,  2.1643890e-01,\n",
       "       -2.2588422e+00, -1.3327155e+00, -1.2712953e+00, -1.4159694e+00,\n",
       "        4.5333948e-02,  3.1039751e+00,  7.8475557e-02,  1.9428953e+00,\n",
       "        1.6173214e-01, -2.3260403e+00,  1.7656436e+00,  2.3165932e+00,\n",
       "       -9.4693309e-01, -8.2106286e-01, -2.9910958e-01, -4.7982121e-01,\n",
       "       -1.7889366e+00, -5.1593685e+00, -8.9162511e-01, -3.1039664e-01,\n",
       "        3.3431107e-01,  3.7116158e-01, -2.1773128e-01, -8.9024872e-01,\n",
       "       -3.0122681e+00, -1.2111346e+00,  8.6681262e-02, -1.9552583e+00,\n",
       "        1.5665241e+00, -4.7969362e-01, -1.7932146e+00, -7.7529359e-01,\n",
       "        2.1314535e+00,  2.4026008e+00, -5.9456255e-02, -7.5011379e-01,\n",
       "        8.7938595e-01, -5.4500706e-02,  1.7416782e+00, -1.1114362e+00,\n",
       "        2.4565679e-01,  7.5346279e-01, -8.1258464e-01, -1.9257660e+00,\n",
       "        8.4396523e-01,  1.5186697e-01,  2.1355672e+00, -1.4984621e+00,\n",
       "        6.2344873e-01, -3.3608076e-01,  2.2086624e-02, -1.6057290e+00,\n",
       "       -8.8082486e-01, -4.4018298e-01,  1.9224262e-01,  1.1753526e+00,\n",
       "        1.4074178e+00,  3.2635409e-02,  9.3855447e-01, -3.3151169e+00,\n",
       "        8.7957615e-01, -1.0084450e+00,  1.4757179e+00,  1.1392128e+00,\n",
       "        2.7988604e-01,  1.0525861e+00,  8.6888003e-01,  1.8896095e+00,\n",
       "       -1.6355352e+00,  1.9491671e-01,  1.4467667e+00, -9.9731553e-01,\n",
       "        4.1063080e+00, -2.0326884e+00,  1.4684794e+00, -9.9739498e-01,\n",
       "        2.5734489e+00,  1.1401402e-02,  2.9588592e-01, -2.2620964e+00,\n",
       "        2.7910033e-02, -2.0902219e+00, -1.3711612e+00,  2.3384278e-01,\n",
       "        1.7837492e+00,  2.1038756e+00,  6.3128754e-02,  1.9956818e+00],\n",
       "      dtype=float32)"
      ]
     },
     "execution_count": 10,
     "metadata": {},
     "output_type": "execute_result"
    }
   ],
   "source": [
    "word_vector"
   ]
  },
  {
   "cell_type": "code",
   "execution_count": 11,
   "id": "04e2ea10",
   "metadata": {},
   "outputs": [],
   "source": [
    "# calculating the word vector of the all the terms\n",
    "df_medicalconcept['bert_embedding_term1'] = df_medicalconcept['Term1'].apply(lambda x: bio_bert_model.get_word_vector(x))\n",
    "df_medicalconcept['bert_embedding_term2'] = df_medicalconcept['Term2'].apply(lambda x: bio_bert_model.get_word_vector(x))"
   ]
  },
  {
   "cell_type": "code",
   "execution_count": 12,
   "id": "df00d61a",
   "metadata": {},
   "outputs": [
    {
     "data": {
      "text/html": [
       "<div>\n",
       "<style scoped>\n",
       "    .dataframe tbody tr th:only-of-type {\n",
       "        vertical-align: middle;\n",
       "    }\n",
       "\n",
       "    .dataframe tbody tr th {\n",
       "        vertical-align: top;\n",
       "    }\n",
       "\n",
       "    .dataframe thead th {\n",
       "        text-align: right;\n",
       "    }\n",
       "</style>\n",
       "<table border=\"1\" class=\"dataframe\">\n",
       "  <thead>\n",
       "    <tr style=\"text-align: right;\">\n",
       "      <th></th>\n",
       "      <th>Term1</th>\n",
       "      <th>Term2</th>\n",
       "      <th>bert_embedding_term1</th>\n",
       "      <th>bert_embedding_term2</th>\n",
       "    </tr>\n",
       "  </thead>\n",
       "  <tbody>\n",
       "    <tr>\n",
       "      <th>0</th>\n",
       "      <td>Glaucoma</td>\n",
       "      <td>Fibrillation</td>\n",
       "      <td>[-1.4070411, -1.3807621, -0.5866136, -2.420539...</td>\n",
       "      <td>[-1.2753218, -0.7014886, -1.6894202, -1.910871...</td>\n",
       "    </tr>\n",
       "    <tr>\n",
       "      <th>1</th>\n",
       "      <td>Carbatrol</td>\n",
       "      <td>Dilantin</td>\n",
       "      <td>[-0.7292659, -1.2981434, -0.08317676, -0.43912...</td>\n",
       "      <td>[-1.1512175, -1.1820433, 0.059375152, 0.277263...</td>\n",
       "    </tr>\n",
       "    <tr>\n",
       "      <th>2</th>\n",
       "      <td>Cardiomyopathy</td>\n",
       "      <td>Tylenol</td>\n",
       "      <td>[-0.53843516, -0.6112065, -1.1545317, -1.22812...</td>\n",
       "      <td>[-0.7326995, -1.2998152, -2.1557684, 1.161756,...</td>\n",
       "    </tr>\n",
       "    <tr>\n",
       "      <th>3</th>\n",
       "      <td>Herpes</td>\n",
       "      <td>Hyperthyroidism</td>\n",
       "      <td>[0.12934479, -1.4392792, -1.2179235, -0.680871...</td>\n",
       "      <td>[-0.75531304, -0.40891466, -0.28327078, 0.1743...</td>\n",
       "    </tr>\n",
       "    <tr>\n",
       "      <th>4</th>\n",
       "      <td>Seasickness</td>\n",
       "      <td>Nausea</td>\n",
       "      <td>[-0.29888353, -0.51164687, -2.39721, -0.844643...</td>\n",
       "      <td>[-0.3930633, -0.21203366, -0.11005689, -1.3992...</td>\n",
       "    </tr>\n",
       "  </tbody>\n",
       "</table>\n",
       "</div>"
      ],
      "text/plain": [
       "            Term1            Term2  \\\n",
       "0        Glaucoma     Fibrillation   \n",
       "1       Carbatrol         Dilantin   \n",
       "2  Cardiomyopathy          Tylenol   \n",
       "3          Herpes  Hyperthyroidism   \n",
       "4     Seasickness           Nausea   \n",
       "\n",
       "                                bert_embedding_term1  \\\n",
       "0  [-1.4070411, -1.3807621, -0.5866136, -2.420539...   \n",
       "1  [-0.7292659, -1.2981434, -0.08317676, -0.43912...   \n",
       "2  [-0.53843516, -0.6112065, -1.1545317, -1.22812...   \n",
       "3  [0.12934479, -1.4392792, -1.2179235, -0.680871...   \n",
       "4  [-0.29888353, -0.51164687, -2.39721, -0.844643...   \n",
       "\n",
       "                                bert_embedding_term2  \n",
       "0  [-1.2753218, -0.7014886, -1.6894202, -1.910871...  \n",
       "1  [-1.1512175, -1.1820433, 0.059375152, 0.277263...  \n",
       "2  [-0.7326995, -1.2998152, -2.1557684, 1.161756,...  \n",
       "3  [-0.75531304, -0.40891466, -0.28327078, 0.1743...  \n",
       "4  [-0.3930633, -0.21203366, -0.11005689, -1.3992...  "
      ]
     },
     "execution_count": 12,
     "metadata": {},
     "output_type": "execute_result"
    }
   ],
   "source": [
    "df_medicalconcept.head()"
   ]
  },
  {
   "cell_type": "code",
   "execution_count": 13,
   "id": "8de4ef77",
   "metadata": {},
   "outputs": [],
   "source": [
    "df_medicalconcept['cosine_similarity'] = df_medicalconcept.apply(lambda x: 1 - spatial.distance.cosine(x['bert_embedding_term1'], x['bert_embedding_term2']), axis=1)"
   ]
  },
  {
   "cell_type": "code",
   "execution_count": 14,
   "id": "394560ee",
   "metadata": {},
   "outputs": [
    {
     "data": {
      "text/html": [
       "<div>\n",
       "<style scoped>\n",
       "    .dataframe tbody tr th:only-of-type {\n",
       "        vertical-align: middle;\n",
       "    }\n",
       "\n",
       "    .dataframe tbody tr th {\n",
       "        vertical-align: top;\n",
       "    }\n",
       "\n",
       "    .dataframe thead th {\n",
       "        text-align: right;\n",
       "    }\n",
       "</style>\n",
       "<table border=\"1\" class=\"dataframe\">\n",
       "  <thead>\n",
       "    <tr style=\"text-align: right;\">\n",
       "      <th></th>\n",
       "      <th>Term1</th>\n",
       "      <th>Term2</th>\n",
       "      <th>bert_embedding_term1</th>\n",
       "      <th>bert_embedding_term2</th>\n",
       "      <th>cosine_similarity</th>\n",
       "    </tr>\n",
       "  </thead>\n",
       "  <tbody>\n",
       "    <tr>\n",
       "      <th>0</th>\n",
       "      <td>Glaucoma</td>\n",
       "      <td>Fibrillation</td>\n",
       "      <td>[-1.4070411, -1.3807621, -0.5866136, -2.420539...</td>\n",
       "      <td>[-1.2753218, -0.7014886, -1.6894202, -1.910871...</td>\n",
       "      <td>0.872067</td>\n",
       "    </tr>\n",
       "    <tr>\n",
       "      <th>1</th>\n",
       "      <td>Carbatrol</td>\n",
       "      <td>Dilantin</td>\n",
       "      <td>[-0.7292659, -1.2981434, -0.08317676, -0.43912...</td>\n",
       "      <td>[-1.1512175, -1.1820433, 0.059375152, 0.277263...</td>\n",
       "      <td>0.877101</td>\n",
       "    </tr>\n",
       "    <tr>\n",
       "      <th>2</th>\n",
       "      <td>Cardiomyopathy</td>\n",
       "      <td>Tylenol</td>\n",
       "      <td>[-0.53843516, -0.6112065, -1.1545317, -1.22812...</td>\n",
       "      <td>[-0.7326995, -1.2998152, -2.1557684, 1.161756,...</td>\n",
       "      <td>0.778894</td>\n",
       "    </tr>\n",
       "    <tr>\n",
       "      <th>3</th>\n",
       "      <td>Herpes</td>\n",
       "      <td>Hyperthyroidism</td>\n",
       "      <td>[0.12934479, -1.4392792, -1.2179235, -0.680871...</td>\n",
       "      <td>[-0.75531304, -0.40891466, -0.28327078, 0.1743...</td>\n",
       "      <td>0.872658</td>\n",
       "    </tr>\n",
       "    <tr>\n",
       "      <th>4</th>\n",
       "      <td>Seasickness</td>\n",
       "      <td>Nausea</td>\n",
       "      <td>[-0.29888353, -0.51164687, -2.39721, -0.844643...</td>\n",
       "      <td>[-0.3930633, -0.21203366, -0.11005689, -1.3992...</td>\n",
       "      <td>0.858088</td>\n",
       "    </tr>\n",
       "  </tbody>\n",
       "</table>\n",
       "</div>"
      ],
      "text/plain": [
       "            Term1            Term2  \\\n",
       "0        Glaucoma     Fibrillation   \n",
       "1       Carbatrol         Dilantin   \n",
       "2  Cardiomyopathy          Tylenol   \n",
       "3          Herpes  Hyperthyroidism   \n",
       "4     Seasickness           Nausea   \n",
       "\n",
       "                                bert_embedding_term1  \\\n",
       "0  [-1.4070411, -1.3807621, -0.5866136, -2.420539...   \n",
       "1  [-0.7292659, -1.2981434, -0.08317676, -0.43912...   \n",
       "2  [-0.53843516, -0.6112065, -1.1545317, -1.22812...   \n",
       "3  [0.12934479, -1.4392792, -1.2179235, -0.680871...   \n",
       "4  [-0.29888353, -0.51164687, -2.39721, -0.844643...   \n",
       "\n",
       "                                bert_embedding_term2  cosine_similarity  \n",
       "0  [-1.2753218, -0.7014886, -1.6894202, -1.910871...           0.872067  \n",
       "1  [-1.1512175, -1.1820433, 0.059375152, 0.277263...           0.877101  \n",
       "2  [-0.7326995, -1.2998152, -2.1557684, 1.161756,...           0.778894  \n",
       "3  [-0.75531304, -0.40891466, -0.28327078, 0.1743...           0.872658  \n",
       "4  [-0.3930633, -0.21203366, -0.11005689, -1.3992...           0.858088  "
      ]
     },
     "execution_count": 14,
     "metadata": {},
     "output_type": "execute_result"
    }
   ],
   "source": [
    "df_medicalconcept.head()"
   ]
  },
  {
   "cell_type": "code",
   "execution_count": 26,
   "id": "0560d1fc",
   "metadata": {},
   "outputs": [
    {
     "data": {
      "text/plain": [
       "0.8413897093530257"
      ]
     },
     "execution_count": 26,
     "metadata": {},
     "output_type": "execute_result"
    }
   ],
   "source": [
    "df_medicalconcept['cosine_similarity'].mean()"
   ]
  },
  {
   "cell_type": "code",
   "execution_count": 15,
   "id": "d402f97e",
   "metadata": {},
   "outputs": [],
   "source": [
    "df_medicalconcept.to_csv(\"medical_concept_similarity_pubmed_bert.csv\", index=False)"
   ]
  },
  {
   "cell_type": "markdown",
   "id": "06c08883",
   "metadata": {},
   "source": [
    "<h3>Clean Text</h3>"
   ]
  },
  {
   "cell_type": "code",
   "execution_count": 16,
   "id": "e41ec8a2",
   "metadata": {},
   "outputs": [],
   "source": [
    "stop_words = stopwords.words('english')\n",
    "#removing stop words\n",
    "df_clinnotes['clean_notes'] = df_clinnotes['notes'].apply(lambda x: ' '.join([word.lower() for word in x.split() if word.lower() not in (stop_words)]))\n",
    "#removing puntuation\n",
    "df_clinnotes[\"clean_notes\"] = df_clinnotes['clean_notes'].str.replace('[^\\w\\s]','', regex=True)\n",
    "#lemetizing the text\n",
    "w_tokenizer = WhitespaceTokenizer()\n",
    "lemmatizer = WordNetLemmatizer()\n",
    "def lemmatize_text(text):\n",
    "    return ' '.join([lemmatizer.lemmatize(w) for w in w_tokenizer.tokenize(text)])\n",
    "df_clinnotes['clean_notes'] = df_clinnotes['clean_notes'].apply(lemmatize_text)"
   ]
  },
  {
   "cell_type": "code",
   "execution_count": 17,
   "id": "ced761ad",
   "metadata": {},
   "outputs": [
    {
     "name": "stderr",
     "output_type": "stream",
     "text": [
      "Token indices sequence length is longer than the specified maximum sequence length for this model (605 > 512). Running this sequence through the model will result in indexing errors\n"
     ]
    }
   ],
   "source": [
    "#get sentence vector for all notes\n",
    "df_clinnotes['sentence_embedding'] = df_clinnotes['clean_notes'].apply(lambda x: bio_bert_model.get_sentence_vector(str(x)))"
   ]
  },
  {
   "cell_type": "markdown",
   "id": "7900455e",
   "metadata": {},
   "source": [
    "<h3>Splitting Train and Text</h3>"
   ]
  },
  {
   "cell_type": "code",
   "execution_count": 18,
   "id": "9845d99f",
   "metadata": {},
   "outputs": [],
   "source": [
    "X_train, X_test, y_train, y_test = train_test_split(df_clinnotes.sentence_embedding, df_clinnotes.category, test_size=0.2, random_state=42)\n"
   ]
  },
  {
   "cell_type": "code",
   "execution_count": 19,
   "id": "d0e6bc54",
   "metadata": {},
   "outputs": [],
   "source": [
    "from sklearn.metrics import accuracy_score, confusion_matrix, classification_report\n",
    "\n",
    "def print_score(clf, X_train, y_train, X_test, y_test, train=True):\n",
    "    if train:\n",
    "        pred = clf.predict(X_train)\n",
    "        clf_report = pd.DataFrame(classification_report(y_train, pred, output_dict=True))\n",
    "        print(\"Train Result:\\n================================================\")\n",
    "        print(f\"Accuracy Score: {accuracy_score(y_train, pred) * 100:.2f}%\")\n",
    "        print(\"_______________________________________________\")\n",
    "        print(f\"CLASSIFICATION REPORT:\\n{clf_report}\")\n",
    "        print(\"_______________________________________________\")\n",
    "        print(f\"Confusion Matrix: \\n {confusion_matrix(y_train, pred)}\\n\")\n",
    "        \n",
    "    elif train==False:\n",
    "        pred = clf.predict(X_test)\n",
    "        clf_report = pd.DataFrame(classification_report(y_test, pred, output_dict=True))\n",
    "        print(\"Test Result:\\n================================================\")        \n",
    "        print(f\"Accuracy Score: {accuracy_score(y_test, pred) * 100:.2f}%\")\n",
    "        print(\"_______________________________________________\")\n",
    "        print(f\"CLASSIFICATION REPORT:\\n{clf_report}\")\n",
    "        print(\"_______________________________________________\")\n",
    "        print(f\"Confusion Matrix: \\n {confusion_matrix(y_test, pred)}\\n\")"
   ]
  },
  {
   "cell_type": "markdown",
   "id": "8ccc103e",
   "metadata": {},
   "source": [
    "<h3>Performing Cross Validation on Various ML Algorithms</h3>"
   ]
  },
  {
   "cell_type": "code",
   "execution_count": 20,
   "id": "816267bf",
   "metadata": {},
   "outputs": [
    {
     "name": "stderr",
     "output_type": "stream",
     "text": [
      "/Users/raghu/opt/anaconda3/lib/python3.8/site-packages/sklearn/svm/_base.py:985: ConvergenceWarning: Liblinear failed to converge, increase the number of iterations.\n",
      "  warnings.warn(\"Liblinear failed to converge, increase \"\n",
      "/Users/raghu/opt/anaconda3/lib/python3.8/site-packages/sklearn/svm/_base.py:985: ConvergenceWarning: Liblinear failed to converge, increase the number of iterations.\n",
      "  warnings.warn(\"Liblinear failed to converge, increase \"\n",
      "/Users/raghu/opt/anaconda3/lib/python3.8/site-packages/sklearn/svm/_base.py:985: ConvergenceWarning: Liblinear failed to converge, increase the number of iterations.\n",
      "  warnings.warn(\"Liblinear failed to converge, increase \"\n",
      "/Users/raghu/opt/anaconda3/lib/python3.8/site-packages/sklearn/svm/_base.py:985: ConvergenceWarning: Liblinear failed to converge, increase the number of iterations.\n",
      "  warnings.warn(\"Liblinear failed to converge, increase \"\n",
      "/Users/raghu/opt/anaconda3/lib/python3.8/site-packages/sklearn/svm/_base.py:985: ConvergenceWarning: Liblinear failed to converge, increase the number of iterations.\n",
      "  warnings.warn(\"Liblinear failed to converge, increase \"\n",
      "/Users/raghu/opt/anaconda3/lib/python3.8/site-packages/xgboost/sklearn.py:1146: UserWarning: The use of label encoder in XGBClassifier is deprecated and will be removed in a future release. To remove this warning, do the following: 1) Pass option use_label_encoder=False when constructing XGBClassifier object; and 2) Encode your labels (y) as integers starting with 0, i.e. 0, 1, 2, ..., [num_class - 1].\n",
      "  warnings.warn(label_encoder_deprecation_msg, UserWarning)\n"
     ]
    },
    {
     "name": "stdout",
     "output_type": "stream",
     "text": [
      "[15:19:26] WARNING: /Users/travis/build/dmlc/xgboost/src/learner.cc:1095: Starting in XGBoost 1.3.0, the default evaluation metric used with the objective 'multi:softprob' was changed from 'merror' to 'mlogloss'. Explicitly set eval_metric if you'd like to restore the old behavior.\n"
     ]
    },
    {
     "name": "stderr",
     "output_type": "stream",
     "text": [
      "/Users/raghu/opt/anaconda3/lib/python3.8/site-packages/xgboost/sklearn.py:1146: UserWarning: The use of label encoder in XGBClassifier is deprecated and will be removed in a future release. To remove this warning, do the following: 1) Pass option use_label_encoder=False when constructing XGBClassifier object; and 2) Encode your labels (y) as integers starting with 0, i.e. 0, 1, 2, ..., [num_class - 1].\n",
      "  warnings.warn(label_encoder_deprecation_msg, UserWarning)\n"
     ]
    },
    {
     "name": "stdout",
     "output_type": "stream",
     "text": [
      "[15:19:30] WARNING: /Users/travis/build/dmlc/xgboost/src/learner.cc:1095: Starting in XGBoost 1.3.0, the default evaluation metric used with the objective 'multi:softprob' was changed from 'merror' to 'mlogloss'. Explicitly set eval_metric if you'd like to restore the old behavior.\n"
     ]
    },
    {
     "name": "stderr",
     "output_type": "stream",
     "text": [
      "/Users/raghu/opt/anaconda3/lib/python3.8/site-packages/xgboost/sklearn.py:1146: UserWarning: The use of label encoder in XGBClassifier is deprecated and will be removed in a future release. To remove this warning, do the following: 1) Pass option use_label_encoder=False when constructing XGBClassifier object; and 2) Encode your labels (y) as integers starting with 0, i.e. 0, 1, 2, ..., [num_class - 1].\n",
      "  warnings.warn(label_encoder_deprecation_msg, UserWarning)\n"
     ]
    },
    {
     "name": "stdout",
     "output_type": "stream",
     "text": [
      "[15:19:35] WARNING: /Users/travis/build/dmlc/xgboost/src/learner.cc:1095: Starting in XGBoost 1.3.0, the default evaluation metric used with the objective 'multi:softprob' was changed from 'merror' to 'mlogloss'. Explicitly set eval_metric if you'd like to restore the old behavior.\n"
     ]
    },
    {
     "name": "stderr",
     "output_type": "stream",
     "text": [
      "/Users/raghu/opt/anaconda3/lib/python3.8/site-packages/xgboost/sklearn.py:1146: UserWarning: The use of label encoder in XGBClassifier is deprecated and will be removed in a future release. To remove this warning, do the following: 1) Pass option use_label_encoder=False when constructing XGBClassifier object; and 2) Encode your labels (y) as integers starting with 0, i.e. 0, 1, 2, ..., [num_class - 1].\n",
      "  warnings.warn(label_encoder_deprecation_msg, UserWarning)\n"
     ]
    },
    {
     "name": "stdout",
     "output_type": "stream",
     "text": [
      "[15:19:41] WARNING: /Users/travis/build/dmlc/xgboost/src/learner.cc:1095: Starting in XGBoost 1.3.0, the default evaluation metric used with the objective 'multi:softprob' was changed from 'merror' to 'mlogloss'. Explicitly set eval_metric if you'd like to restore the old behavior.\n"
     ]
    },
    {
     "name": "stderr",
     "output_type": "stream",
     "text": [
      "/Users/raghu/opt/anaconda3/lib/python3.8/site-packages/xgboost/sklearn.py:1146: UserWarning: The use of label encoder in XGBClassifier is deprecated and will be removed in a future release. To remove this warning, do the following: 1) Pass option use_label_encoder=False when constructing XGBClassifier object; and 2) Encode your labels (y) as integers starting with 0, i.e. 0, 1, 2, ..., [num_class - 1].\n",
      "  warnings.warn(label_encoder_deprecation_msg, UserWarning)\n"
     ]
    },
    {
     "name": "stdout",
     "output_type": "stream",
     "text": [
      "[15:19:48] WARNING: /Users/travis/build/dmlc/xgboost/src/learner.cc:1095: Starting in XGBoost 1.3.0, the default evaluation metric used with the objective 'multi:softprob' was changed from 'merror' to 'mlogloss'. Explicitly set eval_metric if you'd like to restore the old behavior.\n"
     ]
    }
   ],
   "source": [
    "models = [\n",
    "    RandomForestClassifier(n_estimators=500, random_state=42, min_samples_split=3, min_samples_leaf=2),\n",
    "    LinearSVC(),\n",
    "    XGBClassifier(learning_rate =0.07,n_estimators=100),\n",
    "]\n",
    "CV = 5\n",
    "cv_df = pd.DataFrame(index=range(CV * len(models)))\n",
    "entries = []\n",
    "for model in models:\n",
    "    model_name = model.__class__.__name__\n",
    "    accuracies = cross_val_score(model, np.array(X_train.tolist()), y_train, scoring='accuracy', cv=CV)\n",
    "    for fold_idx, accuracy in enumerate(accuracies):\n",
    "        entries.append((model_name, fold_idx, accuracy))\n",
    "cv_df = pd.DataFrame(entries, columns=['model_name', 'fold_idx', 'accuracy'])"
   ]
  },
  {
   "cell_type": "code",
   "execution_count": 21,
   "id": "5a2d5bbf",
   "metadata": {},
   "outputs": [
    {
     "data": {
      "text/html": [
       "<div>\n",
       "<style scoped>\n",
       "    .dataframe tbody tr th:only-of-type {\n",
       "        vertical-align: middle;\n",
       "    }\n",
       "\n",
       "    .dataframe tbody tr th {\n",
       "        vertical-align: top;\n",
       "    }\n",
       "\n",
       "    .dataframe thead th {\n",
       "        text-align: right;\n",
       "    }\n",
       "</style>\n",
       "<table border=\"1\" class=\"dataframe\">\n",
       "  <thead>\n",
       "    <tr style=\"text-align: right;\">\n",
       "      <th></th>\n",
       "      <th>model_name</th>\n",
       "      <th>fold_idx</th>\n",
       "      <th>accuracy</th>\n",
       "    </tr>\n",
       "  </thead>\n",
       "  <tbody>\n",
       "    <tr>\n",
       "      <th>0</th>\n",
       "      <td>RandomForestClassifier</td>\n",
       "      <td>0</td>\n",
       "      <td>0.824427</td>\n",
       "    </tr>\n",
       "    <tr>\n",
       "      <th>1</th>\n",
       "      <td>RandomForestClassifier</td>\n",
       "      <td>1</td>\n",
       "      <td>0.809160</td>\n",
       "    </tr>\n",
       "    <tr>\n",
       "      <th>2</th>\n",
       "      <td>RandomForestClassifier</td>\n",
       "      <td>2</td>\n",
       "      <td>0.847328</td>\n",
       "    </tr>\n",
       "    <tr>\n",
       "      <th>3</th>\n",
       "      <td>RandomForestClassifier</td>\n",
       "      <td>3</td>\n",
       "      <td>0.839695</td>\n",
       "    </tr>\n",
       "    <tr>\n",
       "      <th>4</th>\n",
       "      <td>RandomForestClassifier</td>\n",
       "      <td>4</td>\n",
       "      <td>0.792308</td>\n",
       "    </tr>\n",
       "    <tr>\n",
       "      <th>5</th>\n",
       "      <td>LinearSVC</td>\n",
       "      <td>0</td>\n",
       "      <td>0.923664</td>\n",
       "    </tr>\n",
       "    <tr>\n",
       "      <th>6</th>\n",
       "      <td>LinearSVC</td>\n",
       "      <td>1</td>\n",
       "      <td>0.908397</td>\n",
       "    </tr>\n",
       "    <tr>\n",
       "      <th>7</th>\n",
       "      <td>LinearSVC</td>\n",
       "      <td>2</td>\n",
       "      <td>0.946565</td>\n",
       "    </tr>\n",
       "    <tr>\n",
       "      <th>8</th>\n",
       "      <td>LinearSVC</td>\n",
       "      <td>3</td>\n",
       "      <td>0.938931</td>\n",
       "    </tr>\n",
       "    <tr>\n",
       "      <th>9</th>\n",
       "      <td>LinearSVC</td>\n",
       "      <td>4</td>\n",
       "      <td>0.923077</td>\n",
       "    </tr>\n",
       "    <tr>\n",
       "      <th>10</th>\n",
       "      <td>XGBClassifier</td>\n",
       "      <td>0</td>\n",
       "      <td>0.778626</td>\n",
       "    </tr>\n",
       "    <tr>\n",
       "      <th>11</th>\n",
       "      <td>XGBClassifier</td>\n",
       "      <td>1</td>\n",
       "      <td>0.839695</td>\n",
       "    </tr>\n",
       "    <tr>\n",
       "      <th>12</th>\n",
       "      <td>XGBClassifier</td>\n",
       "      <td>2</td>\n",
       "      <td>0.862595</td>\n",
       "    </tr>\n",
       "    <tr>\n",
       "      <th>13</th>\n",
       "      <td>XGBClassifier</td>\n",
       "      <td>3</td>\n",
       "      <td>0.809160</td>\n",
       "    </tr>\n",
       "    <tr>\n",
       "      <th>14</th>\n",
       "      <td>XGBClassifier</td>\n",
       "      <td>4</td>\n",
       "      <td>0.861538</td>\n",
       "    </tr>\n",
       "  </tbody>\n",
       "</table>\n",
       "</div>"
      ],
      "text/plain": [
       "                model_name  fold_idx  accuracy\n",
       "0   RandomForestClassifier         0  0.824427\n",
       "1   RandomForestClassifier         1  0.809160\n",
       "2   RandomForestClassifier         2  0.847328\n",
       "3   RandomForestClassifier         3  0.839695\n",
       "4   RandomForestClassifier         4  0.792308\n",
       "5                LinearSVC         0  0.923664\n",
       "6                LinearSVC         1  0.908397\n",
       "7                LinearSVC         2  0.946565\n",
       "8                LinearSVC         3  0.938931\n",
       "9                LinearSVC         4  0.923077\n",
       "10           XGBClassifier         0  0.778626\n",
       "11           XGBClassifier         1  0.839695\n",
       "12           XGBClassifier         2  0.862595\n",
       "13           XGBClassifier         3  0.809160\n",
       "14           XGBClassifier         4  0.861538"
      ]
     },
     "execution_count": 21,
     "metadata": {},
     "output_type": "execute_result"
    }
   ],
   "source": [
    "cv_df"
   ]
  },
  {
   "cell_type": "markdown",
   "id": "82da198a",
   "metadata": {},
   "source": [
    "<h3>Plotting cross Validation result</h3>"
   ]
  },
  {
   "cell_type": "code",
   "execution_count": 22,
   "id": "c230b591",
   "metadata": {},
   "outputs": [
    {
     "data": {
      "image/png": "[encoded data removed]",
      "text/plain": [
       "<Figure size 432x288 with 1 Axes>"
      ]
     },
     "metadata": {
      "needs_background": "light"
     },
     "output_type": "display_data"
    }
   ],
   "source": [
    "sns.boxplot(x='model_name', y='accuracy', data=cv_df)\n",
    "sns.stripplot(x='model_name', y='accuracy', data=cv_df, \n",
    "              size=8, jitter=True, edgecolor=\"gray\", linewidth=2)\n",
    "plt.show()"
   ]
  },
  {
   "cell_type": "markdown",
   "id": "059dd3d6",
   "metadata": {},
   "source": [
    "<h3>Loading different ML Algorithms</h3>"
   ]
  },
  {
   "cell_type": "code",
   "execution_count": 23,
   "id": "1385b961",
   "metadata": {},
   "outputs": [
    {
     "name": "stdout",
     "output_type": "stream",
     "text": [
      "Train Result:\n",
      "================================================\n",
      "Accuracy Score: 99.39%\n",
      "_______________________________________________\n",
      "CLASSIFICATION REPORT:\n",
      "           Cardiovascular / Pulmonary  Gastroenterology   Neurology  accuracy  \\\n",
      "precision                    0.989933          1.000000    0.994413  0.993884   \n",
      "recall                       1.000000          0.983333    0.994413  0.993884   \n",
      "f1-score                     0.994941          0.991597    0.994413  0.993884   \n",
      "support                    295.000000        180.000000  179.000000  0.993884   \n",
      "\n",
      "            macro avg  weighted avg  \n",
      "precision    0.994782      0.993930  \n",
      "recall       0.992582      0.993884  \n",
      "f1-score     0.993650      0.993876  \n",
      "support    654.000000    654.000000  \n",
      "_______________________________________________\n",
      "Confusion Matrix: \n",
      " [[295   0   0]\n",
      " [  2 177   1]\n",
      " [  1   0 178]]\n",
      "\n",
      "Test Result:\n",
      "================================================\n",
      "Accuracy Score: 78.66%\n",
      "_______________________________________________\n",
      "CLASSIFICATION REPORT:\n",
      "           Cardiovascular / Pulmonary  Gastroenterology  Neurology  accuracy  \\\n",
      "precision                    0.752809          0.878788   0.785714  0.786585   \n",
      "recall                       0.881579          0.659091   0.750000  0.786585   \n",
      "f1-score                     0.812121          0.753247   0.767442  0.786585   \n",
      "support                     76.000000         44.000000  44.000000  0.786585   \n",
      "\n",
      "            macro avg  weighted avg  \n",
      "precision    0.805770      0.795436  \n",
      "recall       0.763557      0.786585  \n",
      "f1-score     0.777603      0.784338  \n",
      "support    164.000000    164.000000  \n",
      "_______________________________________________\n",
      "Confusion Matrix: \n",
      " [[67  4  5]\n",
      " [11 29  4]\n",
      " [11  0 33]]\n",
      "\n"
     ]
    }
   ],
   "source": [
    "rf_clf = RandomForestClassifier(n_estimators=500, random_state=42, min_samples_split=3, min_samples_leaf=2, )\n",
    "rf_clf.fit(np.array(X_train.tolist()), y_train)\n",
    "print_score(rf_clf, np.array(X_train.tolist()), y_train, np.array(X_test.tolist()), y_test, train=True)\n",
    "print_score(rf_clf, np.array(X_train.tolist()), y_train, np.array(X_test.tolist()), y_test, train=False)"
   ]
  },
  {
   "cell_type": "code",
   "execution_count": 24,
   "id": "b2433a84",
   "metadata": {},
   "outputs": [
    {
     "name": "stdout",
     "output_type": "stream",
     "text": [
      "Train Result:\n",
      "================================================\n",
      "Accuracy Score: 99.39%\n",
      "_______________________________________________\n",
      "CLASSIFICATION REPORT:\n",
      "           Cardiovascular / Pulmonary  Gastroenterology   Neurology  accuracy  \\\n",
      "precision                    0.993243          0.994413    0.994413  0.993884   \n",
      "recall                       0.996610          0.988889    0.994413  0.993884   \n",
      "f1-score                     0.994924          0.991643    0.994413  0.993884   \n",
      "support                    295.000000        180.000000  179.000000  0.993884   \n",
      "\n",
      "            macro avg  weighted avg  \n",
      "precision    0.994023      0.993886  \n",
      "recall       0.993304      0.993884  \n",
      "f1-score     0.993660      0.993881  \n",
      "support    654.000000    654.000000  \n",
      "_______________________________________________\n",
      "Confusion Matrix: \n",
      " [[294   1   0]\n",
      " [  1 178   1]\n",
      " [  1   0 178]]\n",
      "\n",
      "Test Result:\n",
      "================================================\n",
      "Accuracy Score: 89.02%\n",
      "_______________________________________________\n",
      "CLASSIFICATION REPORT:\n",
      "           Cardiovascular / Pulmonary  Gastroenterology  Neurology  accuracy  \\\n",
      "precision                    0.929577          0.883721   0.840000  0.890244   \n",
      "recall                       0.868421          0.863636   0.954545  0.890244   \n",
      "f1-score                     0.897959          0.873563   0.893617  0.890244   \n",
      "support                     76.000000         44.000000  44.000000  0.890244   \n",
      "\n",
      "            macro avg  weighted avg  \n",
      "precision    0.884433      0.893242  \n",
      "recall       0.895534      0.890244  \n",
      "f1-score     0.888380      0.890249  \n",
      "support    164.000000    164.000000  \n",
      "_______________________________________________\n",
      "Confusion Matrix: \n",
      " [[66  5  5]\n",
      " [ 3 38  3]\n",
      " [ 2  0 42]]\n",
      "\n"
     ]
    },
    {
     "name": "stderr",
     "output_type": "stream",
     "text": [
      "/Users/raghu/opt/anaconda3/lib/python3.8/site-packages/sklearn/svm/_base.py:985: ConvergenceWarning: Liblinear failed to converge, increase the number of iterations.\n",
      "  warnings.warn(\"Liblinear failed to converge, increase \"\n"
     ]
    }
   ],
   "source": [
    "lsvc_clf = LinearSVC(C=1.0) #n_jobs=4,\n",
    "lsvc_clf.fit(np.array(X_train.tolist()), y_train)\n",
    "print_score(lsvc_clf, np.array(X_train.tolist()), y_train, np.array(X_test.tolist()), y_test, train=True)\n",
    "print_score(lsvc_clf, np.array(X_train.tolist()), y_train, np.array(X_test.tolist()), y_test, train=False)"
   ]
  },
  {
   "cell_type": "code",
   "execution_count": 25,
   "id": "6ef9ca61",
   "metadata": {},
   "outputs": [
    {
     "name": "stderr",
     "output_type": "stream",
     "text": [
      "/Users/raghu/opt/anaconda3/lib/python3.8/site-packages/xgboost/sklearn.py:1146: UserWarning: The use of label encoder in XGBClassifier is deprecated and will be removed in a future release. To remove this warning, do the following: 1) Pass option use_label_encoder=False when constructing XGBClassifier object; and 2) Encode your labels (y) as integers starting with 0, i.e. 0, 1, 2, ..., [num_class - 1].\n",
      "  warnings.warn(label_encoder_deprecation_msg, UserWarning)\n"
     ]
    },
    {
     "name": "stdout",
     "output_type": "stream",
     "text": [
      "[15:20:00] WARNING: /Users/travis/build/dmlc/xgboost/src/learner.cc:573: \n",
      "Parameters: { \"enable_categorical\" } might not be used.\n",
      "\n",
      "  This may not be accurate due to some parameters are only used in language bindings but\n",
      "  passed down to XGBoost core.  Or some parameters are not used but slip through this\n",
      "  verification. Please open an issue if you find above cases.\n",
      "\n",
      "\n",
      "[15:20:00] WARNING: /Users/travis/build/dmlc/xgboost/src/learner.cc:1095: Starting in XGBoost 1.3.0, the default evaluation metric used with the objective 'multi:softprob' was changed from 'merror' to 'mlogloss'. Explicitly set eval_metric if you'd like to restore the old behavior.\n",
      "Train Result:\n",
      "================================================\n",
      "Accuracy Score: 99.39%\n",
      "_______________________________________________\n",
      "CLASSIFICATION REPORT:\n",
      "           Cardiovascular / Pulmonary  Gastroenterology   Neurology  accuracy  \\\n",
      "precision                    0.989933          1.000000    0.994413  0.993884   \n",
      "recall                       1.000000          0.983333    0.994413  0.993884   \n",
      "f1-score                     0.994941          0.991597    0.994413  0.993884   \n",
      "support                    295.000000        180.000000  179.000000  0.993884   \n",
      "\n",
      "            macro avg  weighted avg  \n",
      "precision    0.994782      0.993930  \n",
      "recall       0.992582      0.993884  \n",
      "f1-score     0.993650      0.993876  \n",
      "support    654.000000    654.000000  \n",
      "_______________________________________________\n",
      "Confusion Matrix: \n",
      " [[295   0   0]\n",
      " [  2 177   1]\n",
      " [  1   0 178]]\n",
      "\n",
      "Test Result:\n",
      "================================================\n",
      "Accuracy Score: 82.93%\n",
      "_______________________________________________\n",
      "CLASSIFICATION REPORT:\n",
      "           Cardiovascular / Pulmonary  Gastroenterology  Neurology  accuracy  \\\n",
      "precision                    0.866667          0.809524   0.787234  0.829268   \n",
      "recall                       0.855263          0.772727   0.840909  0.829268   \n",
      "f1-score                     0.860927          0.790698   0.813187  0.829268   \n",
      "support                     76.000000         44.000000  44.000000  0.829268   \n",
      "\n",
      "            macro avg  weighted avg  \n",
      "precision    0.821142      0.830024  \n",
      "recall       0.822967      0.829268  \n",
      "f1-score     0.821604      0.829277  \n",
      "support    164.000000    164.000000  \n",
      "_______________________________________________\n",
      "Confusion Matrix: \n",
      " [[65  6  5]\n",
      " [ 5 34  5]\n",
      " [ 5  2 37]]\n",
      "\n"
     ]
    }
   ],
   "source": [
    "xgb_clf = XGBClassifier(n_estimators=100, enable_categorical=True) #n_jobs=4,\n",
    "xgb_clf.fit(np.array(X_train.tolist()), y_train)\n",
    "print_score(xgb_clf, np.array(X_train.tolist()), y_train, np.array(X_test.tolist()), y_test, train=True)\n",
    "print_score(xgb_clf, np.array(X_train.tolist()), y_train, np.array(X_test.tolist()), y_test, train=False)"
   ]
  },
  {
   "cell_type": "markdown",
   "id": "c41b36ae",
   "metadata": {},
   "source": [
    "<h3>Results</h3>\n",
    "1. Vector representation for all the medical concepts words generated using Pretrained Bio Bert. <br>\n",
    "2. Resulted embedded vector used for Clinical notes classification. Linear SVC performed well on both the Traing and testing data "
   ]
  },
  {
   "cell_type": "code",
   "execution_count": null,
   "id": "dcc1f0f4",
   "metadata": {},
   "outputs": [],
   "source": []
  }
 ],
 "metadata": {
  "kernelspec": {
   "display_name": "Python 3",
   "language": "python",
   "name": "python3"
  },
  "language_info": {
   "codemirror_mode": {
    "name": "ipython",
    "version": 3
   },
   "file_extension": ".py",
   "mimetype": "text/x-python",
   "name": "python",
   "nbconvert_exporter": "python",
   "pygments_lexer": "ipython3",
   "version": "3.8.8"
  }
 },
 "nbformat": 4,
 "nbformat_minor": 5
}
