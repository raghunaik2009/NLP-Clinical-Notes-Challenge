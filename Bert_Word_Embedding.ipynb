{
 "cells": [
  {
   "cell_type": "markdown",
   "id": "f4b07d5a",
   "metadata": {},
   "source": [
    "<h3>Importing Packages</h3>"
   ]
  },
  {
   "cell_type": "code",
   "execution_count": 43,
   "id": "3ddd7e7f",
   "metadata": {},
   "outputs": [],
   "source": [
    "import pandas as pd\n",
    "import numpy as np\n",
    "from gensim.models import KeyedVectors\n",
    "import wget\n",
    "from nltk.corpus import stopwords\n",
    "from nltk.tokenize import WhitespaceTokenizer\n",
    "from nltk.stem import WordNetLemmatizer\n",
    "from sklearn.model_selection import train_test_split, cross_val_score\n",
    "from sklearn.ensemble import RandomForestClassifier\n",
    "from xgboost import XGBClassifier\n",
    "from sklearn.svm import LinearSVC, SVC\n",
    "import seaborn as sns\n",
    "from matplotlib import pyplot as plt\n",
    "import torch\n",
    "import transformers\n",
    "from transformers import AutoModel, AutoTokenizer\n",
    "from scipy import spatial"
   ]
  },
  {
   "cell_type": "markdown",
   "id": "0e8f179c",
   "metadata": {},
   "source": [
    "<h3>Loading input data</h3>"
   ]
  },
  {
   "cell_type": "code",
   "execution_count": 32,
   "id": "d5e418b1",
   "metadata": {},
   "outputs": [],
   "source": [
    "df_clinnotes = pd.read_csv(\"ClinNotes.csv\")"
   ]
  },
  {
   "cell_type": "code",
   "execution_count": 33,
   "id": "e2564fe6",
   "metadata": {},
   "outputs": [],
   "source": [
    "df_medicalconcept = pd.read_csv(\"MedicalConcepts.csv\")"
   ]
  },
  {
   "cell_type": "code",
   "execution_count": 59,
   "id": "afc4281f",
   "metadata": {},
   "outputs": [
    {
     "name": "stderr",
     "output_type": "stream",
     "text": [
      "Some weights of the model checkpoint at bert-large-uncased were not used when initializing BertModel: ['cls.predictions.transform.dense.weight', 'cls.predictions.decoder.weight', 'cls.predictions.transform.LayerNorm.bias', 'cls.seq_relationship.weight', 'cls.predictions.bias', 'cls.predictions.transform.LayerNorm.weight', 'cls.predictions.transform.dense.bias', 'cls.seq_relationship.bias']\n",
      "- This IS expected if you are initializing BertModel from the checkpoint of a model trained on another task or with another architecture (e.g. initializing a BertForSequenceClassification model from a BertForPreTraining model).\n",
      "- This IS NOT expected if you are initializing BertModel from the checkpoint of a model that you expect to be exactly identical (initializing a BertForSequenceClassification model from a BertForSequenceClassification model).\n"
     ]
    }
   ],
   "source": [
    "# BERT Model\n",
    "tokenizer = AutoTokenizer.from_pretrained('bert-large-uncased') #, do_lower_case=True, do_basic_tokenize=True\n",
    "model = AutoModel.from_pretrained('bert-large-uncased', output_hidden_states=True)"
   ]
  },
  {
   "cell_type": "markdown",
   "id": "f5beb79c",
   "metadata": {},
   "source": [
    "<h3>Bert Embedding</h3>"
   ]
  },
  {
   "cell_type": "code",
   "execution_count": 71,
   "id": "d462a41d",
   "metadata": {},
   "outputs": [],
   "source": [
    "class BERTEmbedding():\n",
    "    def __init__(self):\n",
    "        self.tokens = \"\"\n",
    "        self.sentence_tokens = \"\"\n",
    "        self.tokenizer = tokenizer\n",
    "        self.model = model\n",
    "\n",
    "    def bert_tokenization(self,text):\n",
    "        # creating text data in required format\n",
    "        marked_text = \"[CLS] \"+ text + \"[ SEP]\"\n",
    "        # spliting the sentence into tokens\n",
    "        tokenized_text = tokenizer.tokenize(marked_text)\n",
    "        return tokenized_text\n",
    "\n",
    "    def create_token_mapping(self,tokenized_text):\n",
    "        # mapping the token strings to their vocabulary indeces.\n",
    "        indexed_tokens= tokenizer.convert_tokens_to_ids(tokenized_text)\n",
    "        # marking each of the 22 tokens as belonging to sentence 1\n",
    "        segments_ids= [1] * len(tokenized_text)\n",
    "\n",
    "        #converting inputs to pytorch tensors\n",
    "        tokens_tensor= torch.tensor([indexed_tokens])\n",
    "        segments_tensors= torch.tensor([segments_ids])\n",
    "        # putting the model in evaluaion mode\n",
    "        model.eval()\n",
    "\n",
    "        # running the text through Bert, and collecting all of the hidden states produced by the layers.\n",
    "        with torch.no_grad():\n",
    "            outputs=model(tokens_tensor,segments_tensors)\n",
    "            hidden_states=outputs[2]\n",
    "\n",
    "        return hidden_states  \n",
    "\n",
    "    def get_word_vector(self,text):\n",
    "        tokenized_text = self.bert_tokenization(text)\n",
    "\n",
    "        hidden_states = self.create_token_mapping(tokenized_text)\n",
    "        # combining the layers to making one big vector\n",
    "        token_embeddings= torch.stack(hidden_states,dim=0) \n",
    "\n",
    "        # Removing dimension 1 from the batches.\n",
    "        token_embeddings = torch.squeeze(token_embeddings, dim=1)\n",
    "\n",
    "        # Swaping the dimensions 0 and 1.\n",
    "        token_embeddings = token_embeddings.permute(1,0,2)  \n",
    "\n",
    "\n",
    "        token_vecs_sum = []\n",
    "\n",
    "        for token in token_embeddings:\n",
    "            # token is a [12 x 768] tensor\n",
    "            # Sum the vectors from the last four layers.\n",
    "            sum_vec = torch.sum(token[-4:], dim=0)\n",
    "            # appending the vectors values in dict\n",
    "            token_vecs_sum.append(sum_vec)\n",
    "\n",
    "        #calculating the mean of the tensor\n",
    "        mean = torch.mean(torch.stack(token_vecs_sum),dim=-2)\n",
    "        # converting tensor to numpy array\n",
    "        mean = mean.detach().numpy()\n",
    "        return mean\n",
    "\n",
    "    def get_sentence_vector(self,text):\n",
    "        marked_text = \"[CLS] \"+ text + \"[ SEP]\"\n",
    "        tokenized_text = self.bert_tokenization(text)[:512]\n",
    "        hidden_states = self.create_token_mapping(tokenized_text)\n",
    "        # token_vecs is a tensor with shape [22 x 768]\n",
    "        token_vecs = hidden_states[-2][0]\n",
    "        # Calculating the average of all token vectors.\n",
    "        sentence_embedding = torch.mean(token_vecs, dim=0)\n",
    "        # converting the tensor to numpy array\n",
    "        sentence_embedding=sentence_embedding.detach().numpy()\n",
    "        return sentence_embedding"
   ]
  },
  {
   "cell_type": "code",
   "execution_count": 73,
   "id": "8aa2754b",
   "metadata": {},
   "outputs": [],
   "source": [
    "# calculating word vector for single word\n",
    "text = \"Glaucoma\"\n",
    "bert_model = BERTEmbedding()\n",
    "word_vector = bert_model.get_word_vector(text)"
   ]
  },
  {
   "cell_type": "code",
   "execution_count": 62,
   "id": "06ff3287",
   "metadata": {},
   "outputs": [
    {
     "data": {
      "text/plain": [
       "array([-3.5140185 , -2.6454067 , -0.87413967, ...,  2.1172893 ,\n",
       "        2.8381119 ,  3.6507912 ], dtype=float32)"
      ]
     },
     "execution_count": 62,
     "metadata": {},
     "output_type": "execute_result"
    }
   ],
   "source": [
    "word_vector"
   ]
  },
  {
   "cell_type": "code",
   "execution_count": 63,
   "id": "915c6db1",
   "metadata": {},
   "outputs": [],
   "source": [
    "# calculating the word vector of the all the terms\n",
    "df_medicalconcept['bert_embedding_term1'] = df_medicalconcept['Term1'].apply(lambda x: bert_model.get_word_vector(x))\n",
    "df_medicalconcept['bert_embedding_term2'] = df_medicalconcept['Term2'].apply(lambda x: bert_model.get_word_vector(x))"
   ]
  },
  {
   "cell_type": "code",
   "execution_count": 64,
   "id": "6e3a2caf",
   "metadata": {},
   "outputs": [
    {
     "data": {
      "text/html": [
       "<div>\n",
       "<style scoped>\n",
       "    .dataframe tbody tr th:only-of-type {\n",
       "        vertical-align: middle;\n",
       "    }\n",
       "\n",
       "    .dataframe tbody tr th {\n",
       "        vertical-align: top;\n",
       "    }\n",
       "\n",
       "    .dataframe thead th {\n",
       "        text-align: right;\n",
       "    }\n",
       "</style>\n",
       "<table border=\"1\" class=\"dataframe\">\n",
       "  <thead>\n",
       "    <tr style=\"text-align: right;\">\n",
       "      <th></th>\n",
       "      <th>Term1</th>\n",
       "      <th>Term2</th>\n",
       "      <th>bert_embedding_term1</th>\n",
       "      <th>bert_embedding_term2</th>\n",
       "      <th>cosine_similarity</th>\n",
       "    </tr>\n",
       "  </thead>\n",
       "  <tbody>\n",
       "    <tr>\n",
       "      <th>0</th>\n",
       "      <td>Glaucoma</td>\n",
       "      <td>Fibrillation</td>\n",
       "      <td>[-3.5140185, -2.6454067, -0.87413967, -0.46554...</td>\n",
       "      <td>[-2.7083907, -3.4811642, -0.7629569, 1.0560955...</td>\n",
       "      <td>0.871441</td>\n",
       "    </tr>\n",
       "    <tr>\n",
       "      <th>1</th>\n",
       "      <td>Carbatrol</td>\n",
       "      <td>Dilantin</td>\n",
       "      <td>[-2.6614735, -2.0590873, -1.7914397, 0.6470068...</td>\n",
       "      <td>[-2.532657, -2.9835286, -1.5824735, 0.15296777...</td>\n",
       "      <td>0.812776</td>\n",
       "    </tr>\n",
       "    <tr>\n",
       "      <th>2</th>\n",
       "      <td>Cardiomyopathy</td>\n",
       "      <td>Tylenol</td>\n",
       "      <td>[-3.0159822, -2.0221212, -2.9911427, -0.695508...</td>\n",
       "      <td>[-3.628576, -2.5959907, -1.3957688, 0.08992670...</td>\n",
       "      <td>0.817618</td>\n",
       "    </tr>\n",
       "    <tr>\n",
       "      <th>3</th>\n",
       "      <td>Herpes</td>\n",
       "      <td>Hyperthyroidism</td>\n",
       "      <td>[-2.78776, -2.5111175, -1.7512555, 0.33207077,...</td>\n",
       "      <td>[-2.3670392, -2.159456, -2.382085, -0.59684986...</td>\n",
       "      <td>0.790684</td>\n",
       "    </tr>\n",
       "    <tr>\n",
       "      <th>4</th>\n",
       "      <td>Seasickness</td>\n",
       "      <td>Nausea</td>\n",
       "      <td>[-2.5917146, -3.334326, -2.1953273, 0.9285096,...</td>\n",
       "      <td>[-2.1828365, -2.234159, -2.4591382, 1.6850199,...</td>\n",
       "      <td>0.782326</td>\n",
       "    </tr>\n",
       "  </tbody>\n",
       "</table>\n",
       "</div>"
      ],
      "text/plain": [
       "            Term1            Term2  \\\n",
       "0        Glaucoma     Fibrillation   \n",
       "1       Carbatrol         Dilantin   \n",
       "2  Cardiomyopathy          Tylenol   \n",
       "3          Herpes  Hyperthyroidism   \n",
       "4     Seasickness           Nausea   \n",
       "\n",
       "                                bert_embedding_term1  \\\n",
       "0  [-3.5140185, -2.6454067, -0.87413967, -0.46554...   \n",
       "1  [-2.6614735, -2.0590873, -1.7914397, 0.6470068...   \n",
       "2  [-3.0159822, -2.0221212, -2.9911427, -0.695508...   \n",
       "3  [-2.78776, -2.5111175, -1.7512555, 0.33207077,...   \n",
       "4  [-2.5917146, -3.334326, -2.1953273, 0.9285096,...   \n",
       "\n",
       "                                bert_embedding_term2  cosine_similarity  \n",
       "0  [-2.7083907, -3.4811642, -0.7629569, 1.0560955...           0.871441  \n",
       "1  [-2.532657, -2.9835286, -1.5824735, 0.15296777...           0.812776  \n",
       "2  [-3.628576, -2.5959907, -1.3957688, 0.08992670...           0.817618  \n",
       "3  [-2.3670392, -2.159456, -2.382085, -0.59684986...           0.790684  \n",
       "4  [-2.1828365, -2.234159, -2.4591382, 1.6850199,...           0.782326  "
      ]
     },
     "execution_count": 64,
     "metadata": {},
     "output_type": "execute_result"
    }
   ],
   "source": [
    "df_medicalconcept.head()"
   ]
  },
  {
   "cell_type": "code",
   "execution_count": 65,
   "id": "f8b086ce",
   "metadata": {},
   "outputs": [],
   "source": [
    "df_medicalconcept['cosine_similarity'] = df_medicalconcept.apply(lambda x: 1 - spatial.distance.cosine(x['bert_embedding_term1'], x['bert_embedding_term2']), axis=1)"
   ]
  },
  {
   "cell_type": "code",
   "execution_count": 66,
   "id": "5eaf0f17",
   "metadata": {},
   "outputs": [
    {
     "data": {
      "text/html": [
       "<div>\n",
       "<style scoped>\n",
       "    .dataframe tbody tr th:only-of-type {\n",
       "        vertical-align: middle;\n",
       "    }\n",
       "\n",
       "    .dataframe tbody tr th {\n",
       "        vertical-align: top;\n",
       "    }\n",
       "\n",
       "    .dataframe thead th {\n",
       "        text-align: right;\n",
       "    }\n",
       "</style>\n",
       "<table border=\"1\" class=\"dataframe\">\n",
       "  <thead>\n",
       "    <tr style=\"text-align: right;\">\n",
       "      <th></th>\n",
       "      <th>Term1</th>\n",
       "      <th>Term2</th>\n",
       "      <th>bert_embedding_term1</th>\n",
       "      <th>bert_embedding_term2</th>\n",
       "      <th>cosine_similarity</th>\n",
       "    </tr>\n",
       "  </thead>\n",
       "  <tbody>\n",
       "    <tr>\n",
       "      <th>0</th>\n",
       "      <td>Glaucoma</td>\n",
       "      <td>Fibrillation</td>\n",
       "      <td>[-3.5140185, -2.6454067, -0.87413967, -0.46554...</td>\n",
       "      <td>[-2.7083907, -3.4811642, -0.7629569, 1.0560955...</td>\n",
       "      <td>0.894104</td>\n",
       "    </tr>\n",
       "    <tr>\n",
       "      <th>1</th>\n",
       "      <td>Carbatrol</td>\n",
       "      <td>Dilantin</td>\n",
       "      <td>[-2.6614735, -2.0590873, -1.7914397, 0.6470068...</td>\n",
       "      <td>[-2.532657, -2.9835286, -1.5824735, 0.15296777...</td>\n",
       "      <td>0.921481</td>\n",
       "    </tr>\n",
       "    <tr>\n",
       "      <th>2</th>\n",
       "      <td>Cardiomyopathy</td>\n",
       "      <td>Tylenol</td>\n",
       "      <td>[-3.0159822, -2.0221212, -2.9911427, -0.695508...</td>\n",
       "      <td>[-3.628576, -2.5959907, -1.3957688, 0.08992670...</td>\n",
       "      <td>0.879889</td>\n",
       "    </tr>\n",
       "    <tr>\n",
       "      <th>3</th>\n",
       "      <td>Herpes</td>\n",
       "      <td>Hyperthyroidism</td>\n",
       "      <td>[-2.78776, -2.5111175, -1.7512555, 0.33207077,...</td>\n",
       "      <td>[-2.3670392, -2.159456, -2.382085, -0.59684986...</td>\n",
       "      <td>0.883667</td>\n",
       "    </tr>\n",
       "    <tr>\n",
       "      <th>4</th>\n",
       "      <td>Seasickness</td>\n",
       "      <td>Nausea</td>\n",
       "      <td>[-2.5917146, -3.334326, -2.1953273, 0.9285096,...</td>\n",
       "      <td>[-2.1828365, -2.234159, -2.4591382, 1.6850199,...</td>\n",
       "      <td>0.844041</td>\n",
       "    </tr>\n",
       "  </tbody>\n",
       "</table>\n",
       "</div>"
      ],
      "text/plain": [
       "            Term1            Term2  \\\n",
       "0        Glaucoma     Fibrillation   \n",
       "1       Carbatrol         Dilantin   \n",
       "2  Cardiomyopathy          Tylenol   \n",
       "3          Herpes  Hyperthyroidism   \n",
       "4     Seasickness           Nausea   \n",
       "\n",
       "                                bert_embedding_term1  \\\n",
       "0  [-3.5140185, -2.6454067, -0.87413967, -0.46554...   \n",
       "1  [-2.6614735, -2.0590873, -1.7914397, 0.6470068...   \n",
       "2  [-3.0159822, -2.0221212, -2.9911427, -0.695508...   \n",
       "3  [-2.78776, -2.5111175, -1.7512555, 0.33207077,...   \n",
       "4  [-2.5917146, -3.334326, -2.1953273, 0.9285096,...   \n",
       "\n",
       "                                bert_embedding_term2  cosine_similarity  \n",
       "0  [-2.7083907, -3.4811642, -0.7629569, 1.0560955...           0.894104  \n",
       "1  [-2.532657, -2.9835286, -1.5824735, 0.15296777...           0.921481  \n",
       "2  [-3.628576, -2.5959907, -1.3957688, 0.08992670...           0.879889  \n",
       "3  [-2.3670392, -2.159456, -2.382085, -0.59684986...           0.883667  \n",
       "4  [-2.1828365, -2.234159, -2.4591382, 1.6850199,...           0.844041  "
      ]
     },
     "execution_count": 66,
     "metadata": {},
     "output_type": "execute_result"
    }
   ],
   "source": [
    "df_medicalconcept.head()"
   ]
  },
  {
   "cell_type": "code",
   "execution_count": 87,
   "id": "04c9f1d9",
   "metadata": {},
   "outputs": [
    {
     "data": {
      "text/plain": [
       "0.8335796176018226"
      ]
     },
     "execution_count": 87,
     "metadata": {},
     "output_type": "execute_result"
    }
   ],
   "source": [
    "df_medicalconcept['cosine_similarity'].mean()"
   ]
  },
  {
   "cell_type": "code",
   "execution_count": 68,
   "id": "f18d0f68",
   "metadata": {},
   "outputs": [],
   "source": [
    "df_medicalconcept.to_csv(\"medical_concept_similarity_bert_large.csv\", index=False)"
   ]
  },
  {
   "cell_type": "markdown",
   "id": "659c8f24",
   "metadata": {},
   "source": [
    "<h3>Clean Text</h3>"
   ]
  },
  {
   "cell_type": "code",
   "execution_count": 69,
   "id": "1d37d32b",
   "metadata": {},
   "outputs": [],
   "source": [
    "stop_words = stopwords.words('english')\n",
    "#removing stop words\n",
    "df_clinnotes['clean_notes'] = df_clinnotes['notes'].apply(lambda x: ' '.join([word.lower() for word in x.split() if word.lower() not in (stop_words)]))\n",
    "#removing puntuation\n",
    "df_clinnotes[\"clean_notes\"] = df_clinnotes['clean_notes'].str.replace('[^\\w\\s]','', regex=True)\n",
    "#lemetizing the text\n",
    "w_tokenizer = WhitespaceTokenizer()\n",
    "lemmatizer = WordNetLemmatizer()\n",
    "def lemmatize_text(text):\n",
    "    return ' '.join([lemmatizer.lemmatize(w) for w in w_tokenizer.tokenize(text)])\n",
    "df_clinnotes['clean_notes'] = df_clinnotes['clean_notes'].apply(lemmatize_text)"
   ]
  },
  {
   "cell_type": "code",
   "execution_count": 74,
   "id": "580c94c2",
   "metadata": {},
   "outputs": [
    {
     "name": "stderr",
     "output_type": "stream",
     "text": [
      "Token indices sequence length is longer than the specified maximum sequence length for this model (554 > 512). Running this sequence through the model will result in indexing errors\n"
     ]
    }
   ],
   "source": [
    "#get sentence vector for all notes\n",
    "df_clinnotes['sentence_embedding'] = df_clinnotes['clean_notes'].apply(lambda x: bert_model.get_sentence_vector(str(x)))"
   ]
  },
  {
   "cell_type": "markdown",
   "id": "71191e04",
   "metadata": {},
   "source": [
    "<h3>Splitting Training and Test data</h3>"
   ]
  },
  {
   "cell_type": "code",
   "execution_count": 75,
   "id": "68292268",
   "metadata": {},
   "outputs": [],
   "source": [
    "X_train, X_test, y_train, y_test = train_test_split(df_clinnotes.sentence_embedding, df_clinnotes.category, test_size=0.2, random_state=42)\n"
   ]
  },
  {
   "cell_type": "code",
   "execution_count": 78,
   "id": "a5e986d6",
   "metadata": {},
   "outputs": [],
   "source": [
    "from sklearn.metrics import accuracy_score, confusion_matrix, classification_report\n",
    "\n",
    "def print_score(clf, X_train, y_train, X_test, y_test, train=True):\n",
    "    if train:\n",
    "        pred = clf.predict(X_train)\n",
    "        clf_report = pd.DataFrame(classification_report(y_train, pred, output_dict=True))\n",
    "        print(\"Train Result:\\n================================================\")\n",
    "        print(f\"Accuracy Score: {accuracy_score(y_train, pred) * 100:.2f}%\")\n",
    "        print(\"_______________________________________________\")\n",
    "        print(f\"CLASSIFICATION REPORT:\\n{clf_report}\")\n",
    "        print(\"_______________________________________________\")\n",
    "        print(f\"Confusion Matrix: \\n {confusion_matrix(y_train, pred)}\\n\")\n",
    "        \n",
    "    elif train==False:\n",
    "        pred = clf.predict(X_test)\n",
    "        clf_report = pd.DataFrame(classification_report(y_test, pred, output_dict=True))\n",
    "        print(\"Test Result:\\n================================================\")        \n",
    "        print(f\"Accuracy Score: {accuracy_score(y_test, pred) * 100:.2f}%\")\n",
    "        print(\"_______________________________________________\")\n",
    "        print(f\"CLASSIFICATION REPORT:\\n{clf_report}\")\n",
    "        print(\"_______________________________________________\")\n",
    "        print(f\"Confusion Matrix: \\n {confusion_matrix(y_test, pred)}\\n\")"
   ]
  },
  {
   "cell_type": "markdown",
   "id": "682fc803",
   "metadata": {},
   "source": [
    "<h3>Performing Cross Validation on Various ML Algorithms</h3>"
   ]
  },
  {
   "cell_type": "code",
   "execution_count": 79,
   "id": "775bc858",
   "metadata": {},
   "outputs": [
    {
     "name": "stderr",
     "output_type": "stream",
     "text": [
      "/Users/raghu/opt/anaconda3/lib/python3.8/site-packages/sklearn/svm/_base.py:985: ConvergenceWarning: Liblinear failed to converge, increase the number of iterations.\n",
      "  warnings.warn(\"Liblinear failed to converge, increase \"\n",
      "/Users/raghu/opt/anaconda3/lib/python3.8/site-packages/sklearn/svm/_base.py:985: ConvergenceWarning: Liblinear failed to converge, increase the number of iterations.\n",
      "  warnings.warn(\"Liblinear failed to converge, increase \"\n",
      "/Users/raghu/opt/anaconda3/lib/python3.8/site-packages/sklearn/svm/_base.py:985: ConvergenceWarning: Liblinear failed to converge, increase the number of iterations.\n",
      "  warnings.warn(\"Liblinear failed to converge, increase \"\n",
      "/Users/raghu/opt/anaconda3/lib/python3.8/site-packages/sklearn/svm/_base.py:985: ConvergenceWarning: Liblinear failed to converge, increase the number of iterations.\n",
      "  warnings.warn(\"Liblinear failed to converge, increase \"\n",
      "/Users/raghu/opt/anaconda3/lib/python3.8/site-packages/sklearn/svm/_base.py:985: ConvergenceWarning: Liblinear failed to converge, increase the number of iterations.\n",
      "  warnings.warn(\"Liblinear failed to converge, increase \"\n",
      "/Users/raghu/opt/anaconda3/lib/python3.8/site-packages/xgboost/sklearn.py:1146: UserWarning: The use of label encoder in XGBClassifier is deprecated and will be removed in a future release. To remove this warning, do the following: 1) Pass option use_label_encoder=False when constructing XGBClassifier object; and 2) Encode your labels (y) as integers starting with 0, i.e. 0, 1, 2, ..., [num_class - 1].\n",
      "  warnings.warn(label_encoder_deprecation_msg, UserWarning)\n"
     ]
    },
    {
     "name": "stdout",
     "output_type": "stream",
     "text": [
      "[13:27:19] WARNING: /Users/travis/build/dmlc/xgboost/src/learner.cc:1095: Starting in XGBoost 1.3.0, the default evaluation metric used with the objective 'multi:softprob' was changed from 'merror' to 'mlogloss'. Explicitly set eval_metric if you'd like to restore the old behavior.\n"
     ]
    },
    {
     "name": "stderr",
     "output_type": "stream",
     "text": [
      "/Users/raghu/opt/anaconda3/lib/python3.8/site-packages/xgboost/sklearn.py:1146: UserWarning: The use of label encoder in XGBClassifier is deprecated and will be removed in a future release. To remove this warning, do the following: 1) Pass option use_label_encoder=False when constructing XGBClassifier object; and 2) Encode your labels (y) as integers starting with 0, i.e. 0, 1, 2, ..., [num_class - 1].\n",
      "  warnings.warn(label_encoder_deprecation_msg, UserWarning)\n"
     ]
    },
    {
     "name": "stdout",
     "output_type": "stream",
     "text": [
      "[13:27:26] WARNING: /Users/travis/build/dmlc/xgboost/src/learner.cc:1095: Starting in XGBoost 1.3.0, the default evaluation metric used with the objective 'multi:softprob' was changed from 'merror' to 'mlogloss'. Explicitly set eval_metric if you'd like to restore the old behavior.\n"
     ]
    },
    {
     "name": "stderr",
     "output_type": "stream",
     "text": [
      "/Users/raghu/opt/anaconda3/lib/python3.8/site-packages/xgboost/sklearn.py:1146: UserWarning: The use of label encoder in XGBClassifier is deprecated and will be removed in a future release. To remove this warning, do the following: 1) Pass option use_label_encoder=False when constructing XGBClassifier object; and 2) Encode your labels (y) as integers starting with 0, i.e. 0, 1, 2, ..., [num_class - 1].\n",
      "  warnings.warn(label_encoder_deprecation_msg, UserWarning)\n"
     ]
    },
    {
     "name": "stdout",
     "output_type": "stream",
     "text": [
      "[13:27:32] WARNING: /Users/travis/build/dmlc/xgboost/src/learner.cc:1095: Starting in XGBoost 1.3.0, the default evaluation metric used with the objective 'multi:softprob' was changed from 'merror' to 'mlogloss'. Explicitly set eval_metric if you'd like to restore the old behavior.\n"
     ]
    },
    {
     "name": "stderr",
     "output_type": "stream",
     "text": [
      "/Users/raghu/opt/anaconda3/lib/python3.8/site-packages/xgboost/sklearn.py:1146: UserWarning: The use of label encoder in XGBClassifier is deprecated and will be removed in a future release. To remove this warning, do the following: 1) Pass option use_label_encoder=False when constructing XGBClassifier object; and 2) Encode your labels (y) as integers starting with 0, i.e. 0, 1, 2, ..., [num_class - 1].\n",
      "  warnings.warn(label_encoder_deprecation_msg, UserWarning)\n"
     ]
    },
    {
     "name": "stdout",
     "output_type": "stream",
     "text": [
      "[13:27:39] WARNING: /Users/travis/build/dmlc/xgboost/src/learner.cc:1095: Starting in XGBoost 1.3.0, the default evaluation metric used with the objective 'multi:softprob' was changed from 'merror' to 'mlogloss'. Explicitly set eval_metric if you'd like to restore the old behavior.\n"
     ]
    },
    {
     "name": "stderr",
     "output_type": "stream",
     "text": [
      "/Users/raghu/opt/anaconda3/lib/python3.8/site-packages/xgboost/sklearn.py:1146: UserWarning: The use of label encoder in XGBClassifier is deprecated and will be removed in a future release. To remove this warning, do the following: 1) Pass option use_label_encoder=False when constructing XGBClassifier object; and 2) Encode your labels (y) as integers starting with 0, i.e. 0, 1, 2, ..., [num_class - 1].\n",
      "  warnings.warn(label_encoder_deprecation_msg, UserWarning)\n"
     ]
    },
    {
     "name": "stdout",
     "output_type": "stream",
     "text": [
      "[13:27:47] WARNING: /Users/travis/build/dmlc/xgboost/src/learner.cc:1095: Starting in XGBoost 1.3.0, the default evaluation metric used with the objective 'multi:softprob' was changed from 'merror' to 'mlogloss'. Explicitly set eval_metric if you'd like to restore the old behavior.\n"
     ]
    }
   ],
   "source": [
    "models = [\n",
    "    RandomForestClassifier(n_estimators=500, random_state=42, min_samples_split=3, min_samples_leaf=2),\n",
    "    LinearSVC(),\n",
    "    XGBClassifier(learning_rate =0.07,n_estimators=100),\n",
    "]\n",
    "CV = 5\n",
    "cv_df = pd.DataFrame(index=range(CV * len(models)))\n",
    "entries = []\n",
    "for model in models:\n",
    "    model_name = model.__class__.__name__\n",
    "    accuracies = cross_val_score(model, np.array(X_train.tolist()), y_train, scoring='accuracy', cv=CV)\n",
    "    for fold_idx, accuracy in enumerate(accuracies):\n",
    "        entries.append((model_name, fold_idx, accuracy))\n",
    "cv_df = pd.DataFrame(entries, columns=['model_name', 'fold_idx', 'accuracy'])"
   ]
  },
  {
   "cell_type": "code",
   "execution_count": 80,
   "id": "099f4042",
   "metadata": {},
   "outputs": [
    {
     "data": {
      "text/html": [
       "<div>\n",
       "<style scoped>\n",
       "    .dataframe tbody tr th:only-of-type {\n",
       "        vertical-align: middle;\n",
       "    }\n",
       "\n",
       "    .dataframe tbody tr th {\n",
       "        vertical-align: top;\n",
       "    }\n",
       "\n",
       "    .dataframe thead th {\n",
       "        text-align: right;\n",
       "    }\n",
       "</style>\n",
       "<table border=\"1\" class=\"dataframe\">\n",
       "  <thead>\n",
       "    <tr style=\"text-align: right;\">\n",
       "      <th></th>\n",
       "      <th>model_name</th>\n",
       "      <th>fold_idx</th>\n",
       "      <th>accuracy</th>\n",
       "    </tr>\n",
       "  </thead>\n",
       "  <tbody>\n",
       "    <tr>\n",
       "      <th>0</th>\n",
       "      <td>RandomForestClassifier</td>\n",
       "      <td>0</td>\n",
       "      <td>0.679389</td>\n",
       "    </tr>\n",
       "    <tr>\n",
       "      <th>1</th>\n",
       "      <td>RandomForestClassifier</td>\n",
       "      <td>1</td>\n",
       "      <td>0.641221</td>\n",
       "    </tr>\n",
       "    <tr>\n",
       "      <th>2</th>\n",
       "      <td>RandomForestClassifier</td>\n",
       "      <td>2</td>\n",
       "      <td>0.610687</td>\n",
       "    </tr>\n",
       "    <tr>\n",
       "      <th>3</th>\n",
       "      <td>RandomForestClassifier</td>\n",
       "      <td>3</td>\n",
       "      <td>0.687023</td>\n",
       "    </tr>\n",
       "    <tr>\n",
       "      <th>4</th>\n",
       "      <td>RandomForestClassifier</td>\n",
       "      <td>4</td>\n",
       "      <td>0.653846</td>\n",
       "    </tr>\n",
       "    <tr>\n",
       "      <th>5</th>\n",
       "      <td>LinearSVC</td>\n",
       "      <td>0</td>\n",
       "      <td>0.816794</td>\n",
       "    </tr>\n",
       "    <tr>\n",
       "      <th>6</th>\n",
       "      <td>LinearSVC</td>\n",
       "      <td>1</td>\n",
       "      <td>0.748092</td>\n",
       "    </tr>\n",
       "    <tr>\n",
       "      <th>7</th>\n",
       "      <td>LinearSVC</td>\n",
       "      <td>2</td>\n",
       "      <td>0.824427</td>\n",
       "    </tr>\n",
       "    <tr>\n",
       "      <th>8</th>\n",
       "      <td>LinearSVC</td>\n",
       "      <td>3</td>\n",
       "      <td>0.801527</td>\n",
       "    </tr>\n",
       "    <tr>\n",
       "      <th>9</th>\n",
       "      <td>LinearSVC</td>\n",
       "      <td>4</td>\n",
       "      <td>0.830769</td>\n",
       "    </tr>\n",
       "    <tr>\n",
       "      <th>10</th>\n",
       "      <td>XGBClassifier</td>\n",
       "      <td>0</td>\n",
       "      <td>0.763359</td>\n",
       "    </tr>\n",
       "    <tr>\n",
       "      <th>11</th>\n",
       "      <td>XGBClassifier</td>\n",
       "      <td>1</td>\n",
       "      <td>0.633588</td>\n",
       "    </tr>\n",
       "    <tr>\n",
       "      <th>12</th>\n",
       "      <td>XGBClassifier</td>\n",
       "      <td>2</td>\n",
       "      <td>0.610687</td>\n",
       "    </tr>\n",
       "    <tr>\n",
       "      <th>13</th>\n",
       "      <td>XGBClassifier</td>\n",
       "      <td>3</td>\n",
       "      <td>0.740458</td>\n",
       "    </tr>\n",
       "    <tr>\n",
       "      <th>14</th>\n",
       "      <td>XGBClassifier</td>\n",
       "      <td>4</td>\n",
       "      <td>0.623077</td>\n",
       "    </tr>\n",
       "  </tbody>\n",
       "</table>\n",
       "</div>"
      ],
      "text/plain": [
       "                model_name  fold_idx  accuracy\n",
       "0   RandomForestClassifier         0  0.679389\n",
       "1   RandomForestClassifier         1  0.641221\n",
       "2   RandomForestClassifier         2  0.610687\n",
       "3   RandomForestClassifier         3  0.687023\n",
       "4   RandomForestClassifier         4  0.653846\n",
       "5                LinearSVC         0  0.816794\n",
       "6                LinearSVC         1  0.748092\n",
       "7                LinearSVC         2  0.824427\n",
       "8                LinearSVC         3  0.801527\n",
       "9                LinearSVC         4  0.830769\n",
       "10           XGBClassifier         0  0.763359\n",
       "11           XGBClassifier         1  0.633588\n",
       "12           XGBClassifier         2  0.610687\n",
       "13           XGBClassifier         3  0.740458\n",
       "14           XGBClassifier         4  0.623077"
      ]
     },
     "execution_count": 80,
     "metadata": {},
     "output_type": "execute_result"
    }
   ],
   "source": [
    "cv_df"
   ]
  },
  {
   "cell_type": "markdown",
   "id": "532c3de7",
   "metadata": {},
   "source": [
    "<h3>Plotting Cross Validation result</h3>"
   ]
  },
  {
   "cell_type": "code",
   "execution_count": 81,
   "id": "f239f46f",
   "metadata": {},
   "outputs": [
    {
     "data": {
      "image/png": "[encoded data removed]",
      "text/plain": [
       "<Figure size 432x288 with 1 Axes>"
      ]
     },
     "metadata": {
      "needs_background": "light"
     },
     "output_type": "display_data"
    }
   ],
   "source": [
    "sns.boxplot(x='model_name', y='accuracy', data=cv_df)\n",
    "sns.stripplot(x='model_name', y='accuracy', data=cv_df, \n",
    "              size=8, jitter=True, edgecolor=\"gray\", linewidth=2)\n",
    "plt.show()"
   ]
  },
  {
   "cell_type": "markdown",
   "id": "524a2c72",
   "metadata": {},
   "source": [
    "<h3>Evaluating various models</h3>"
   ]
  },
  {
   "cell_type": "code",
   "execution_count": 82,
   "id": "863642bb",
   "metadata": {},
   "outputs": [
    {
     "name": "stdout",
     "output_type": "stream",
     "text": [
      "Train Result:\n",
      "================================================\n",
      "Accuracy Score: 99.39%\n",
      "_______________________________________________\n",
      "CLASSIFICATION REPORT:\n",
      "           Cardiovascular / Pulmonary  Gastroenterology   Neurology  accuracy  \\\n",
      "precision                    0.989933          1.000000    0.994413  0.993884   \n",
      "recall                       1.000000          0.983333    0.994413  0.993884   \n",
      "f1-score                     0.994941          0.991597    0.994413  0.993884   \n",
      "support                    295.000000        180.000000  179.000000  0.993884   \n",
      "\n",
      "            macro avg  weighted avg  \n",
      "precision    0.994782      0.993930  \n",
      "recall       0.992582      0.993884  \n",
      "f1-score     0.993650      0.993876  \n",
      "support    654.000000    654.000000  \n",
      "_______________________________________________\n",
      "Confusion Matrix: \n",
      " [[295   0   0]\n",
      " [  2 177   1]\n",
      " [  1   0 178]]\n",
      "\n",
      "Test Result:\n",
      "================================================\n",
      "Accuracy Score: 58.54%\n",
      "_______________________________________________\n",
      "CLASSIFICATION REPORT:\n",
      "           Cardiovascular / Pulmonary  Gastroenterology  Neurology  accuracy  \\\n",
      "precision                    0.571429          0.545455   0.666667  0.585366   \n",
      "recall                       0.736842          0.409091   0.500000  0.585366   \n",
      "f1-score                     0.643678          0.467532   0.571429  0.585366   \n",
      "support                     76.000000         44.000000  44.000000  0.585366   \n",
      "\n",
      "            macro avg  weighted avg  \n",
      "precision    0.594517      0.590012  \n",
      "recall       0.548644      0.585366  \n",
      "f1-score     0.560880      0.577036  \n",
      "support    164.000000    164.000000  \n",
      "_______________________________________________\n",
      "Confusion Matrix: \n",
      " [[56 11  9]\n",
      " [24 18  2]\n",
      " [18  4 22]]\n",
      "\n"
     ]
    }
   ],
   "source": [
    "rf_clf = RandomForestClassifier(n_estimators=500, random_state=42, min_samples_split=3, min_samples_leaf=2, )\n",
    "rf_clf.fit(np.array(X_train.tolist()), y_train)\n",
    "print_score(rf_clf, np.array(X_train.tolist()), y_train, np.array(X_test.tolist()), y_test, train=True)\n",
    "print_score(rf_clf, np.array(X_train.tolist()), y_train, np.array(X_test.tolist()), y_test, train=False)"
   ]
  },
  {
   "cell_type": "code",
   "execution_count": 83,
   "id": "07269675",
   "metadata": {},
   "outputs": [
    {
     "name": "stdout",
     "output_type": "stream",
     "text": [
      "Train Result:\n",
      "================================================\n",
      "Accuracy Score: 99.39%\n",
      "_______________________________________________\n",
      "CLASSIFICATION REPORT:\n",
      "           Cardiovascular / Pulmonary  Gastroenterology   Neurology  accuracy  \\\n",
      "precision                    0.993243          0.994413    0.994413  0.993884   \n",
      "recall                       0.996610          0.988889    0.994413  0.993884   \n",
      "f1-score                     0.994924          0.991643    0.994413  0.993884   \n",
      "support                    295.000000        180.000000  179.000000  0.993884   \n",
      "\n",
      "            macro avg  weighted avg  \n",
      "precision    0.994023      0.993886  \n",
      "recall       0.993304      0.993884  \n",
      "f1-score     0.993660      0.993881  \n",
      "support    654.000000    654.000000  \n",
      "_______________________________________________\n",
      "Confusion Matrix: \n",
      " [[294   1   0]\n",
      " [  1 178   1]\n",
      " [  1   0 178]]\n",
      "\n",
      "Test Result:\n",
      "================================================\n",
      "Accuracy Score: 72.56%\n",
      "_______________________________________________\n",
      "CLASSIFICATION REPORT:\n",
      "           Cardiovascular / Pulmonary  Gastroenterology  Neurology  accuracy  \\\n",
      "precision                    0.788732          0.688889   0.666667   0.72561   \n",
      "recall                       0.736842          0.704545   0.727273   0.72561   \n",
      "f1-score                     0.761905          0.696629   0.695652   0.72561   \n",
      "support                     76.000000         44.000000  44.000000   0.72561   \n",
      "\n",
      "            macro avg  weighted avg  \n",
      "precision    0.714763      0.729196  \n",
      "recall       0.722887      0.725610  \n",
      "f1-score     0.718062      0.726617  \n",
      "support    164.000000    164.000000  \n",
      "_______________________________________________\n",
      "Confusion Matrix: \n",
      " [[56  9 11]\n",
      " [ 8 31  5]\n",
      " [ 7  5 32]]\n",
      "\n"
     ]
    },
    {
     "name": "stderr",
     "output_type": "stream",
     "text": [
      "/Users/raghu/opt/anaconda3/lib/python3.8/site-packages/sklearn/svm/_base.py:985: ConvergenceWarning: Liblinear failed to converge, increase the number of iterations.\n",
      "  warnings.warn(\"Liblinear failed to converge, increase \"\n"
     ]
    }
   ],
   "source": [
    "lsvc_clf = LinearSVC(C=1.0) #n_jobs=4,\n",
    "lsvc_clf.fit(np.array(X_train.tolist()), y_train)\n",
    "print_score(lsvc_clf, np.array(X_train.tolist()), y_train, np.array(X_test.tolist()), y_test, train=True)\n",
    "print_score(lsvc_clf, np.array(X_train.tolist()), y_train, np.array(X_test.tolist()), y_test, train=False)"
   ]
  },
  {
   "cell_type": "code",
   "execution_count": 84,
   "id": "4df6cb8e",
   "metadata": {},
   "outputs": [
    {
     "name": "stderr",
     "output_type": "stream",
     "text": [
      "/Users/raghu/opt/anaconda3/lib/python3.8/site-packages/xgboost/sklearn.py:1146: UserWarning: The use of label encoder in XGBClassifier is deprecated and will be removed in a future release. To remove this warning, do the following: 1) Pass option use_label_encoder=False when constructing XGBClassifier object; and 2) Encode your labels (y) as integers starting with 0, i.e. 0, 1, 2, ..., [num_class - 1].\n",
      "  warnings.warn(label_encoder_deprecation_msg, UserWarning)\n"
     ]
    },
    {
     "name": "stdout",
     "output_type": "stream",
     "text": [
      "[13:28:29] WARNING: /Users/travis/build/dmlc/xgboost/src/learner.cc:573: \n",
      "Parameters: { \"enable_categorical\" } might not be used.\n",
      "\n",
      "  This may not be accurate due to some parameters are only used in language bindings but\n",
      "  passed down to XGBoost core.  Or some parameters are not used but slip through this\n",
      "  verification. Please open an issue if you find above cases.\n",
      "\n",
      "\n",
      "[13:28:29] WARNING: /Users/travis/build/dmlc/xgboost/src/learner.cc:1095: Starting in XGBoost 1.3.0, the default evaluation metric used with the objective 'multi:softprob' was changed from 'merror' to 'mlogloss'. Explicitly set eval_metric if you'd like to restore the old behavior.\n",
      "Train Result:\n",
      "================================================\n",
      "Accuracy Score: 99.39%\n",
      "_______________________________________________\n",
      "CLASSIFICATION REPORT:\n",
      "           Cardiovascular / Pulmonary  Gastroenterology   Neurology  accuracy  \\\n",
      "precision                    0.989933          0.994413    1.000000  0.993884   \n",
      "recall                       1.000000          0.988889    0.988827  0.993884   \n",
      "f1-score                     0.994941          0.991643    0.994382  0.993884   \n",
      "support                    295.000000        180.000000  179.000000  0.993884   \n",
      "\n",
      "            macro avg  weighted avg  \n",
      "precision    0.994782      0.993921  \n",
      "recall       0.992572      0.993884  \n",
      "f1-score     0.993655      0.993880  \n",
      "support    654.000000    654.000000  \n",
      "_______________________________________________\n",
      "Confusion Matrix: \n",
      " [[295   0   0]\n",
      " [  2 178   0]\n",
      " [  1   1 177]]\n",
      "\n",
      "Test Result:\n",
      "================================================\n",
      "Accuracy Score: 66.46%\n",
      "_______________________________________________\n",
      "CLASSIFICATION REPORT:\n",
      "           Cardiovascular / Pulmonary  Gastroenterology  Neurology  accuracy  \\\n",
      "precision                    0.658824          0.590909   0.771429  0.664634   \n",
      "recall                       0.736842          0.590909   0.613636  0.664634   \n",
      "f1-score                     0.695652          0.590909   0.683544  0.664634   \n",
      "support                     76.000000         44.000000  44.000000  0.664634   \n",
      "\n",
      "            macro avg  weighted avg  \n",
      "precision    0.673720      0.670814  \n",
      "recall       0.647129      0.664634  \n",
      "f1-score     0.656702      0.664302  \n",
      "support    164.000000    164.000000  \n",
      "_______________________________________________\n",
      "Confusion Matrix: \n",
      " [[56 12  8]\n",
      " [18 26  0]\n",
      " [11  6 27]]\n",
      "\n"
     ]
    }
   ],
   "source": [
    "xgb_clf = XGBClassifier(n_estimators=100, enable_categorical=True) #n_jobs=4,\n",
    "xgb_clf.fit(np.array(X_train.tolist()), y_train)\n",
    "print_score(xgb_clf, np.array(X_train.tolist()), y_train, np.array(X_test.tolist()), y_test, train=True)\n",
    "print_score(xgb_clf, np.array(X_train.tolist()), y_train, np.array(X_test.tolist()), y_test, train=False)"
   ]
  },
  {
   "cell_type": "markdown",
   "id": "a746464f",
   "metadata": {},
   "source": [
    "<h3>Results</h3>\n",
    "1. Vector representation for all the medical concepts words generated using Pretrained Bio Bert. <br>\n",
    "2. Resulted embedded vector used for Clinical notes classification. Performance is lower as compare to Word2Vec model"
   ]
  },
  {
   "cell_type": "code",
   "execution_count": null,
   "id": "4df81921",
   "metadata": {},
   "outputs": [],
   "source": []
  },
  {
   "cell_type": "code",
   "execution_count": null,
   "id": "64f028ba",
   "metadata": {},
   "outputs": [],
   "source": []
  }
 ],
 "metadata": {
  "kernelspec": {
   "display_name": "Python 3",
   "language": "python",
   "name": "python3"
  },
  "language_info": {
   "codemirror_mode": {
    "name": "ipython",
    "version": 3
   },
   "file_extension": ".py",
   "mimetype": "text/x-python",
   "name": "python",
   "nbconvert_exporter": "python",
   "pygments_lexer": "ipython3",
   "version": "3.8.8"
  }
 },
 "nbformat": 4,
 "nbformat_minor": 5
}
