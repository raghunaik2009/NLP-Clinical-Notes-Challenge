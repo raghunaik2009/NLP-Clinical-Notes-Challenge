{
 "cells": [
  {
   "cell_type": "markdown",
   "id": "9b4df2a6",
   "metadata": {},
   "source": [
    "<h3>Importing Packages</h3>"
   ]
  },
  {
   "cell_type": "code",
   "execution_count": 2,
   "id": "0b11c44d",
   "metadata": {},
   "outputs": [],
   "source": [
    "import pandas as pd\n",
    "import numpy as np\n",
    "from gensim.models import KeyedVectors\n",
    "import wget\n",
    "from nltk.corpus import stopwords\n",
    "from nltk.tokenize import WhitespaceTokenizer\n",
    "from nltk.stem import WordNetLemmatizer\n",
    "from sklearn.model_selection import train_test_split, cross_val_score\n",
    "from sklearn.ensemble import RandomForestClassifier\n",
    "from xgboost import XGBClassifier\n",
    "from sklearn.svm import LinearSVC, SVC\n",
    "import seaborn as sns\n",
    "from matplotlib import pyplot as plt\n",
    "import torch\n",
    "import transformers\n",
    "from transformers import AutoModel, AutoTokenizer\n",
    "from scipy import spatial"
   ]
  },
  {
   "cell_type": "markdown",
   "id": "b651cd40",
   "metadata": {},
   "source": [
    "<h3>Loading input data</h3>"
   ]
  },
  {
   "cell_type": "code",
   "execution_count": 3,
   "id": "d76b5dc5",
   "metadata": {},
   "outputs": [],
   "source": [
    "df_clinnotes = pd.read_csv(\"ClinNotes.csv\")"
   ]
  },
  {
   "cell_type": "code",
   "execution_count": 4,
   "id": "1528d981",
   "metadata": {},
   "outputs": [],
   "source": [
    "df_medicalconcept = pd.read_csv(\"MedicalConcepts.csv\")"
   ]
  },
  {
   "cell_type": "code",
   "execution_count": 5,
   "id": "6e2f3f10",
   "metadata": {},
   "outputs": [
    {
     "data": {
      "application/vnd.jupyter.widget-view+json": {
       "model_id": "9d6c2b643b8f4946b7592f2b734748a4",
       "version_major": 2,
       "version_minor": 0
      },
      "text/plain": [
       "Downloading:   0%|          | 0.00/28.0 [00:00<?, ?B/s]"
      ]
     },
     "metadata": {},
     "output_type": "display_data"
    },
    {
     "data": {
      "application/vnd.jupyter.widget-view+json": {
       "model_id": "b45c2344cb0d4a1486ee07df627f57db",
       "version_major": 2,
       "version_minor": 0
      },
      "text/plain": [
       "Downloading:   0%|          | 0.00/385 [00:00<?, ?B/s]"
      ]
     },
     "metadata": {},
     "output_type": "display_data"
    },
    {
     "data": {
      "application/vnd.jupyter.widget-view+json": {
       "model_id": "f6970a2230fd49e4a1eba87dc9864352",
       "version_major": 2,
       "version_minor": 0
      },
      "text/plain": [
       "Downloading:   0%|          | 0.00/221k [00:00<?, ?B/s]"
      ]
     },
     "metadata": {},
     "output_type": "display_data"
    },
    {
     "data": {
      "application/vnd.jupyter.widget-view+json": {
       "model_id": "f58761596b2344b897dbf92664a0b979",
       "version_major": 2,
       "version_minor": 0
      },
      "text/plain": [
       "Downloading:   0%|          | 0.00/420M [00:00<?, ?B/s]"
      ]
     },
     "metadata": {},
     "output_type": "display_data"
    },
    {
     "name": "stderr",
     "output_type": "stream",
     "text": [
      "Some weights of the model checkpoint at microsoft/BiomedNLP-PubMedBERT-base-uncased-abstract-fulltext were not used when initializing BertModel: ['cls.predictions.transform.dense.bias', 'cls.predictions.bias', 'cls.predictions.decoder.weight', 'cls.predictions.transform.LayerNorm.bias', 'cls.predictions.decoder.bias', 'cls.seq_relationship.weight', 'cls.predictions.transform.dense.weight', 'cls.seq_relationship.bias', 'cls.predictions.transform.LayerNorm.weight']\n",
      "- This IS expected if you are initializing BertModel from the checkpoint of a model trained on another task or with another architecture (e.g. initializing a BertForSequenceClassification model from a BertForPreTraining model).\n",
      "- This IS NOT expected if you are initializing BertModel from the checkpoint of a model that you expect to be exactly identical (initializing a BertForSequenceClassification model from a BertForSequenceClassification model).\n"
     ]
    }
   ],
   "source": [
    "# BERT Model\n",
    "tokenizer = AutoTokenizer.from_pretrained('microsoft/BiomedNLP-PubMedBERT-base-uncased-abstract-fulltext') #, do_lower_case=True, do_basic_tokenize=True\n",
    "model = AutoModel.from_pretrained('microsoft/BiomedNLP-PubMedBERT-base-uncased-abstract-fulltext', output_hidden_states=True)"
   ]
  },
  {
   "cell_type": "markdown",
   "id": "84b54ccf",
   "metadata": {},
   "source": [
    "<h3>Bert Embedding</h3>"
   ]
  },
  {
   "cell_type": "code",
   "execution_count": 6,
   "id": "dc07e8ea",
   "metadata": {},
   "outputs": [],
   "source": [
    "class BERTEmbedding():\n",
    "    def __init__(self):\n",
    "        self.tokens = \"\"\n",
    "        self.sentence_tokens = \"\"\n",
    "        self.tokenizer = tokenizer\n",
    "        self.model = model\n",
    "\n",
    "    def bert_tokenization(self,text):\n",
    "        # creating text data in required format\n",
    "        marked_text = \"[CLS] \"+ text + \"[ SEP]\"\n",
    "        # spliting the sentence into tokens\n",
    "        tokenized_text = tokenizer.tokenize(marked_text)\n",
    "        return tokenized_text\n",
    "\n",
    "    def create_token_mapping(self,tokenized_text):\n",
    "        # mapping the token strings to their vocabulary indeces.\n",
    "        indexed_tokens= tokenizer.convert_tokens_to_ids(tokenized_text)\n",
    "        # marking each of the 22 tokens as belonging to sentence 1\n",
    "        segments_ids= [1] * len(tokenized_text)\n",
    "\n",
    "        #converting inputs to pytorch tensors\n",
    "        tokens_tensor= torch.tensor([indexed_tokens])\n",
    "        segments_tensors= torch.tensor([segments_ids])\n",
    "        # putting the model in evaluaion mode\n",
    "        model.eval()\n",
    "\n",
    "        # running the text through Bert, and collecting all of the hidden states produced by the layers.\n",
    "        with torch.no_grad():\n",
    "            outputs=model(tokens_tensor,segments_tensors)\n",
    "            hidden_states=outputs[2]\n",
    "\n",
    "        return hidden_states  \n",
    "\n",
    "    def get_word_vector(self,text):\n",
    "        tokenized_text = self.bert_tokenization(text)\n",
    "\n",
    "        hidden_states = self.create_token_mapping(tokenized_text)\n",
    "        # combining the layers to making one big vector\n",
    "        token_embeddings= torch.stack(hidden_states,dim=0) \n",
    "\n",
    "        # Removing dimension 1 from the batches.\n",
    "        token_embeddings = torch.squeeze(token_embeddings, dim=1)\n",
    "\n",
    "        # Swaping the dimensions 0 and 1.\n",
    "        token_embeddings = token_embeddings.permute(1,0,2)  \n",
    "\n",
    "\n",
    "        token_vecs_sum = []\n",
    "\n",
    "        for token in token_embeddings:\n",
    "            # token is a [12 x 768] tensor\n",
    "            # Sum the vectors from the last four layers.\n",
    "            sum_vec = torch.sum(token[-4:], dim=0)\n",
    "            # appending the vectors values in dict\n",
    "            token_vecs_sum.append(sum_vec)\n",
    "\n",
    "        #calculating the mean of the tensor\n",
    "        mean = torch.mean(torch.stack(token_vecs_sum),dim=-2)\n",
    "        # converting tensor to numpy array\n",
    "        mean = mean.detach().numpy()\n",
    "        return mean\n",
    "\n",
    "    def get_sentence_vector(self,text):\n",
    "        marked_text = \"[CLS] \"+ text + \"[ SEP]\"\n",
    "        tokenized_text = self.bert_tokenization(text)[:512]\n",
    "        hidden_states = self.create_token_mapping(tokenized_text)\n",
    "        # token_vecs is a tensor with shape [22 x 768]\n",
    "        token_vecs = hidden_states[-2][0]\n",
    "        # Calculating the average of all token vectors.\n",
    "        sentence_embedding = torch.mean(token_vecs, dim=0)\n",
    "        # converting the tensor to numpy array\n",
    "        sentence_embedding=sentence_embedding.detach().numpy()\n",
    "        return sentence_embedding"
   ]
  },
  {
   "cell_type": "code",
   "execution_count": 8,
   "id": "faf0b42d",
   "metadata": {},
   "outputs": [],
   "source": [
    "# calculating word vector for single word\n",
    "text = \"Glaucoma\"\n",
    "pubmed_bert_model = BERTEmbedding()\n",
    "word_vector = pubmed_bert_model.get_word_vector(text)"
   ]
  },
  {
   "cell_type": "code",
   "execution_count": 9,
   "id": "6f56cd0f",
   "metadata": {},
   "outputs": [
    {
     "data": {
      "text/plain": [
       "array([ 3.02423723e-02, -2.05711368e-02, -4.39924568e-01,  1.33692133e+00,\n",
       "        4.93488371e-01,  1.17454909e-01,  1.84046328e-01,  2.40589529e-01,\n",
       "        1.15131283e+00, -6.65298522e-01,  1.00436425e+00, -8.39624524e-01,\n",
       "        1.29176807e+00, -2.58395318e-02, -2.14503098e+00,  9.49895359e-04,\n",
       "        2.17220235e+00,  6.10066056e-01,  1.98900354e+00,  1.09567964e+00,\n",
       "        1.33898824e-01,  7.28075385e-01, -9.99818295e-02, -1.32087335e-01,\n",
       "       -3.28678250e+00, -2.10486606e-01, -1.16760123e+00,  1.25446725e+00,\n",
       "       -1.16343284e+00, -2.66490245e+00, -2.50094712e-01, -1.50100753e-01,\n",
       "       -3.36483642e-02,  7.31758881e+00, -5.44503212e-01,  5.42677701e-01,\n",
       "        7.12458611e-01, -7.40950227e-01,  9.33964729e-01,  8.16676319e-01,\n",
       "        4.42848682e-01,  4.74410057e-01, -3.10282767e-01,  8.40979934e-01,\n",
       "       -4.09925789e-01, -1.15671289e+00, -6.41394913e-01,  4.19311762e-01,\n",
       "        8.83448303e-01,  9.19686019e-01,  3.72352591e-03, -1.42507815e+00,\n",
       "        1.23370242e+00,  5.01467109e-01, -2.83527374e-01,  2.24765563e+00,\n",
       "       -2.67617196e-01, -4.34340611e-02,  6.51491284e-01,  8.21832836e-01,\n",
       "       -9.75288689e-01, -6.18128657e-01, -4.01210785e-01, -8.17533135e-01,\n",
       "        5.06021738e-01, -3.69727522e-01,  3.70529175e-01, -8.73847604e-01,\n",
       "        8.57475162e-01, -1.15345433e-01, -1.58905590e+00, -4.27585781e-01,\n",
       "        6.59217060e-01, -8.04598987e-01, -2.27871299e+00,  4.19025123e-01,\n",
       "       -3.09544951e-01, -2.65506327e-01, -3.52019727e-01,  1.16869473e+00,\n",
       "       -6.38283432e-01,  2.22329423e-01, -3.01164925e-01,  7.29439497e-01,\n",
       "       -6.99755907e-01, -1.88742906e-01, -1.75821567e+00, -8.78261387e-01,\n",
       "       -1.08059728e+00,  1.35263279e-01, -7.99963355e-01,  9.12432492e-01,\n",
       "        7.19412267e-01, -4.13209021e-01,  1.71240345e-01,  4.50949490e-01,\n",
       "       -3.85114729e-01, -5.86163044e-01, -3.12125981e-01, -6.70625985e-01,\n",
       "       -1.56881168e-01,  2.35326931e-01,  1.14282347e-01,  2.29607627e-01,\n",
       "       -6.86062276e-01, -5.04368484e-01,  1.02917694e-01, -1.23063874e+00,\n",
       "        3.39444965e-01, -7.50349581e-01, -5.92629433e-01,  7.01355755e-01,\n",
       "       -1.11145782e+00, -8.58444512e-01, -1.24850571e+00, -3.40178668e-01,\n",
       "        1.73684812e+00,  8.78853202e-01, -3.65083605e-01,  1.34396100e+00,\n",
       "       -1.11637092e+00,  3.74552548e-01,  3.42141032e+00, -5.09849796e-03,\n",
       "       -6.79317594e-01,  6.43774807e-01,  2.87418544e-01,  1.77028751e+00,\n",
       "        1.39301911e-01,  4.75253284e-01,  2.03853294e-01,  3.05771768e-01,\n",
       "        4.20728773e-01, -1.71708852e-01, -1.44076630e-01,  1.31965649e+00,\n",
       "       -1.78878427e+00,  2.43533283e-01,  5.54584377e-02, -1.01562285e+00,\n",
       "        4.98509258e-01, -2.04543635e-01, -1.43185365e+00, -2.70872653e-01,\n",
       "        7.67021716e-01,  2.61011511e-01,  7.73288608e-01,  1.94060016e+00,\n",
       "       -1.15772688e+00,  5.74168205e-01, -6.51899040e-01, -1.55294967e+00,\n",
       "        1.55786169e+00,  5.23807228e-01,  8.79247963e-01, -4.25851017e-01,\n",
       "       -6.23839140e-01,  1.57828093e-01,  1.27679098e+00, -1.28579065e-01,\n",
       "        8.23593795e-01, -1.44018579e+00,  9.66250300e-01, -9.47895795e-02,\n",
       "        7.75992870e-02, -1.20947242e+00, -1.42734170e+00, -1.02775824e+00,\n",
       "        9.37844098e-01, -2.02563572e+00,  1.08407164e+00,  5.69788277e-01,\n",
       "        1.35032463e+00, -1.65907979e-01,  9.02154803e-01,  8.40966880e-01,\n",
       "        8.38403523e-01, -4.86477375e-01, -7.74654806e-01, -1.47817862e+00,\n",
       "        8.86539102e-01,  1.12416053e+00, -6.23129249e-01, -3.17651868e+00,\n",
       "        2.88273036e-01, -1.29282206e-01, -8.52193356e-01, -7.83908367e-01,\n",
       "       -5.56877479e-02, -6.59654737e-01,  1.97097015e+00,  5.38842499e-01,\n",
       "        5.38556755e-01,  2.37389612e+00, -1.53752491e-01,  1.78777158e+00,\n",
       "        1.06582665e+00, -2.21702099e-01,  1.32565188e+00, -3.68692100e-01,\n",
       "        1.07497346e+00,  1.03999245e+00,  1.41080737e+00,  2.63663441e-01,\n",
       "        3.38385820e-01, -7.66498595e-02,  1.91051710e+00, -6.90478027e-01,\n",
       "        2.85717100e-01,  1.10373187e+00,  1.72461063e-01, -1.10173893e+00,\n",
       "        2.01722905e-01, -1.52722210e-01,  1.64986038e+00,  7.34115839e-01,\n",
       "       -1.82006299e-01, -1.70772326e+00,  6.59917474e-01,  1.68677196e-01,\n",
       "       -9.71984863e-01, -8.61995578e-01,  8.28523040e-01, -4.51508760e-01,\n",
       "        9.09217834e-01,  4.91773784e-01,  1.87592179e-01, -1.32490590e-01,\n",
       "       -2.42408082e-01, -2.72230434e+00,  6.87731147e-01, -2.80332041e+00,\n",
       "        1.68255314e-01, -2.10584211e+00,  1.98685005e-01,  3.92919362e-01,\n",
       "        7.81500340e-02,  4.64883614e+00, -2.84133732e-01,  5.53048134e-01,\n",
       "       -7.65451431e-01, -1.11910105e+00, -3.86729449e-01, -4.76489067e-01,\n",
       "       -1.04094768e+00, -1.48830616e+00,  5.37093818e-01,  4.69682634e-01,\n",
       "       -1.23751688e+00, -1.55818713e+00,  1.37285469e-02,  2.35323712e-01,\n",
       "        4.16070223e-01,  4.33909714e-01, -1.24200225e+00,  3.19889754e-01,\n",
       "       -1.36143476e-01, -8.12560201e-01, -1.29675031e+00, -1.41931102e-01,\n",
       "        2.10681915e-01,  5.76212466e-01,  2.43548438e-01, -1.21836615e+00,\n",
       "       -5.24056435e-01, -6.43257797e-01, -2.71647096e+00,  1.29836333e+00,\n",
       "        6.18934333e-01,  2.09048533e+00,  1.19425893e+00,  1.93944246e-01,\n",
       "        2.76240855e-01,  1.96353033e-01, -5.48331559e-01, -5.28103948e-01,\n",
       "       -6.88864172e-01, -2.18044591e+00, -1.83323950e-01, -6.84769452e-01,\n",
       "        1.87087953e+00, -1.10227868e-01,  5.27815402e-01, -2.75467157e+00,\n",
       "       -2.41844505e-01, -1.83915347e-01,  3.71380001e-01,  1.05732596e+00,\n",
       "       -1.36165786e+00, -1.16671324e+00, -2.13704064e-01, -1.20449054e+00,\n",
       "        1.81951833e+00, -9.97352242e-01,  2.56587654e-01, -5.80376983e-01,\n",
       "        4.02312219e-01,  1.17460978e+00, -9.86597717e-01, -8.96554947e-01,\n",
       "        5.04414558e-01, -1.28933167e+00, -9.68927562e-01, -1.49898553e+00,\n",
       "        1.12008974e-01, -4.69191074e-01, -4.55131769e-01, -1.24858186e-01,\n",
       "       -9.40159023e-01, -6.22682691e-01, -6.55293286e-01,  1.66229570e+00,\n",
       "       -2.49729782e-01, -1.07051027e+00, -1.99042070e+00, -2.71100521e+00,\n",
       "        5.70558727e-01,  1.06429175e-01, -1.28560483e+00, -9.00296330e-01,\n",
       "       -1.25285172e+00, -3.64369154e-01, -1.09217837e-01, -1.43146247e-01,\n",
       "       -3.31375420e-01, -3.96021716e-02,  4.40830231e-01,  1.97030950e+00,\n",
       "        1.13402581e+00,  7.96425119e-02, -1.65979171e+00,  1.67885661e+00,\n",
       "        2.28630990e-01,  5.12922645e-01, -2.12324286e+00, -6.30152583e-01,\n",
       "        1.21728683e+00,  1.29676855e+00, -6.65477365e-02,  1.94427967e+00,\n",
       "       -1.00070572e+00,  1.75339770e+00, -1.57762873e+00,  9.48170781e-01,\n",
       "        8.46890748e-01, -1.38290048e+00,  5.06435856e-02,  3.71692190e-03,\n",
       "       -9.08145428e-01, -1.14024472e+00,  8.71901035e-01, -1.86163735e+00,\n",
       "       -7.40458429e-01, -1.69249028e-01, -1.34019589e+00,  3.79275590e-01,\n",
       "        1.11154437e+00, -4.69511420e-01,  1.03796709e+00,  8.60709846e-01,\n",
       "       -1.33421397e+00, -9.72551703e-01,  1.51499227e-01, -1.92102933e+00,\n",
       "       -1.00289941e-01,  1.91572040e-01, -1.42047000e+00,  7.58724511e-01,\n",
       "       -3.31751287e-01, -1.92860931e-01,  4.57434803e-01,  3.00758839e+00,\n",
       "       -3.74691598e-02,  1.96025565e-01,  1.04873359e+00,  7.25944161e-01,\n",
       "        8.23916614e-01, -6.99768681e-03,  1.08605313e+00, -5.34613550e-01,\n",
       "       -8.93991590e-01, -9.04737353e-01,  4.69430611e-02, -2.01096773e-01,\n",
       "       -5.55137992e-01, -4.86471087e-01, -5.95443904e-01,  3.44736755e-01,\n",
       "       -2.82654941e-01,  2.19736069e-01, -6.65806293e-01, -4.49336290e-01,\n",
       "       -4.57071774e-02,  4.65364233e-02,  6.61705315e-01,  9.15177643e-01,\n",
       "        6.63674593e-01,  5.13234556e-01,  8.98044705e-01, -9.15938377e-01,\n",
       "        1.50454968e-01,  5.05734384e-01,  1.24898277e-01, -3.88777643e-01,\n",
       "        3.41117829e-01, -1.13399327e+00, -6.91374242e-01,  7.46945262e-01,\n",
       "        1.12606242e-01, -3.69603455e-01,  2.21988416e+00,  8.80896688e-01,\n",
       "       -8.45727101e-02, -6.11351013e-01, -4.93462265e-01,  2.92085651e-02,\n",
       "       -2.73379743e-01,  1.82225192e+00, -1.75933456e+00,  3.06444287e-01,\n",
       "       -6.36540532e-01,  3.93157125e+00,  7.49438941e-01,  6.91779435e-01,\n",
       "       -5.85980110e+01,  9.90847312e-03, -1.23603618e+00,  3.29882085e-01,\n",
       "        3.76904905e-01, -8.75185013e-01,  2.77800709e-01,  1.28157604e+00,\n",
       "       -1.09287095e+00, -2.45861322e-01, -8.14512074e-01, -1.04929292e+00,\n",
       "       -1.63319141e-01, -7.83271194e-01,  3.42528284e-01,  6.13660932e-01,\n",
       "        4.16520983e-01, -4.34012830e-01,  9.93821174e-02, -9.06494439e-01,\n",
       "        2.78859758e+00, -2.79998136e+00,  4.25003767e-01,  5.55755906e-02,\n",
       "       -1.27660537e+00, -8.31258953e-01, -1.04030502e+00, -4.97968286e-01,\n",
       "        9.62485909e-01, -3.53794582e-02, -5.35023093e-01, -7.29578495e-01,\n",
       "       -3.51314485e-01, -9.64131951e-01, -5.44855952e-01, -8.67907882e-01,\n",
       "       -1.21363878e+00, -1.65368247e+00, -2.40065002e+00, -2.40364075e+00,\n",
       "       -1.02993274e+00,  3.63315225e-01, -8.36572766e-01, -9.03280377e-01,\n",
       "        1.26219958e-01, -2.14698166e-01, -1.48780000e+00, -4.98350561e-01,\n",
       "        5.78055501e-01,  3.60633552e-01,  2.26726007e+00, -5.70838332e-01,\n",
       "        3.77784014e-01, -1.64830458e+00,  5.97749352e-01, -1.24254048e+00,\n",
       "        1.92559266e+00, -1.80678755e-01, -7.87769973e-01, -7.42632747e-01,\n",
       "        1.19298673e+00,  6.95703864e-01, -2.79516578e-01, -5.74020267e-01,\n",
       "        1.23527706e-01, -5.35052419e-01,  8.89628232e-01, -4.09102738e-01,\n",
       "        2.95659658e-02, -2.13320251e-03,  1.93051052e+00, -8.17660213e-01,\n",
       "       -1.56850040e+00,  2.07714178e-02,  1.57749271e+00, -4.89089265e-02,\n",
       "       -5.62907696e-01, -7.67448902e-01,  1.12770653e+01, -1.28672242e+00,\n",
       "        5.27403474e-01, -6.52326643e-01, -4.05831665e-01, -6.62887543e-02,\n",
       "       -7.71856427e-01, -7.83483386e-01,  8.95033240e-01,  9.88932431e-01,\n",
       "        1.85264719e+00, -3.69205713e-01, -1.38180709e+00,  1.59633756e+00,\n",
       "        1.27447736e+00,  2.82390654e-01, -1.53957987e+00,  1.31607383e-01,\n",
       "        4.89937067e-01, -3.80989075e-01, -3.16695809e-01, -9.07121480e-01,\n",
       "       -1.61475050e+00, -6.13321662e-01,  5.78935564e-01, -9.67747867e-01,\n",
       "        7.72407711e-01, -5.45501709e-01,  6.74934313e-02,  2.97594555e-02,\n",
       "       -1.75944257e+00, -9.08769786e-01,  2.14727283e-01, -2.83811629e-01,\n",
       "        1.05827200e+00, -1.69270253e+00, -6.57281399e-01,  4.94006574e-01,\n",
       "        2.26529932e+00,  1.56604660e+00, -1.01445198e+00, -6.86594367e-01,\n",
       "       -1.67161775e+00, -8.82647634e-01, -2.81475723e-01, -3.00266325e-01,\n",
       "       -1.47931218e+00,  2.46783927e-01, -5.30687273e-01,  2.91000783e-01,\n",
       "       -4.17257875e-01,  3.39133799e-01,  2.02952385e-01,  7.24729290e-03,\n",
       "       -3.46171767e-01, -5.23537040e-01, -3.57243806e-01, -1.01940751e+00,\n",
       "        1.72512150e+00, -5.14311910e-01,  5.54951549e-01, -1.07742071e+00,\n",
       "        9.25300419e-01, -3.09841186e-01, -1.14151454e+00,  4.42805767e-01,\n",
       "        3.81349623e-01,  1.02244520e+00, -8.87685120e-01, -7.21681476e-01,\n",
       "        4.44651753e-01,  1.24363863e+00, -1.13287425e+00, -1.04718649e+00,\n",
       "        1.85319066e+00, -2.03248239e+00, -6.00763917e-01, -7.98732042e-03,\n",
       "       -2.03599446e-02, -8.72916341e-01,  3.46362978e-01,  3.70772034e-01,\n",
       "       -1.13974166e+00,  9.93161559e-01, -4.25032139e-01,  8.44050586e-01,\n",
       "       -1.04449201e+00, -5.06724834e-01,  1.86714321e-01, -3.06925783e-03,\n",
       "        8.93762112e-01,  2.29981351e+00,  6.43140525e-02,  7.16106594e-01,\n",
       "        5.50442159e-01,  1.29263699e+00, -1.18774068e+00, -1.65617502e+00,\n",
       "       -6.25698209e-01,  3.43607038e-01, -6.39730334e-01, -8.42779934e-01,\n",
       "        1.21588445e+00, -7.38420010e-01, -1.01736176e+00,  2.98318172e+00,\n",
       "       -2.04283762e+00,  1.48468280e+00,  3.62649381e-01, -6.22614026e-01,\n",
       "       -1.52352309e+00, -7.06034541e-01, -8.33957344e-02,  9.11294639e-01,\n",
       "       -6.94315135e-01, -2.44315475e-01, -1.35322809e-02,  2.11608458e+00,\n",
       "        7.02695489e-01, -1.30914068e+00,  1.30046874e-01,  1.30928421e+00,\n",
       "        9.85572636e-01, -1.72358191e+00,  5.63572049e-01,  1.01363206e+00,\n",
       "       -2.83107638e+00, -3.43878120e-01,  1.22626901e+00,  3.76258993e+00,\n",
       "        6.77637100e-01, -5.28982937e-01, -1.59841561e+00,  1.45595759e-01,\n",
       "       -2.62564039e+00,  1.34832299e+00,  1.18457961e+00, -8.65300775e-01,\n",
       "       -1.21743071e+00, -1.91677284e+00, -7.93049783e-02, -2.65085721e+00,\n",
       "       -6.85912311e-01,  3.50794852e-01,  1.10302731e-01, -5.56889549e-02,\n",
       "        4.65498865e-01, -2.17308849e-01,  2.71069407e-01, -1.54057169e+00,\n",
       "        7.05944061e-01,  2.29285792e-01,  2.76954985e+00, -3.42792749e-01,\n",
       "       -1.38775617e-01,  5.45861840e-01,  2.05451298e+00, -3.83684725e-01,\n",
       "       -2.44882509e-01, -4.26819950e-01,  1.92613101e+00,  2.85526097e-01,\n",
       "       -2.15983415e+00,  1.03820646e+00, -1.82929194e+00,  9.73380089e-01,\n",
       "       -7.50596642e-01,  1.23810899e+00,  1.38063145e+00,  1.24501921e-01,\n",
       "        2.60447884e+00, -1.99043483e-01, -3.53484899e-01, -9.71278369e-01,\n",
       "        1.19609451e+00, -1.90021443e+00,  2.96608269e-01, -9.84891057e-01,\n",
       "        3.27871740e-01,  1.25300124e-01,  1.96410525e+00, -1.01456332e+00,\n",
       "        4.13509697e-01,  3.32983024e-02, -1.04831421e+00, -2.70725429e-01,\n",
       "       -1.58024526e+00, -1.19596744e+00,  9.86051738e-01,  1.24218583e-01,\n",
       "       -6.73082829e-01,  1.95726776e+00, -5.34122109e-01, -4.91685867e-01,\n",
       "        1.57922339e+00, -1.11318421e+00,  2.01101375e+00,  2.22140551e-01,\n",
       "        1.10073850e-01, -1.65961049e-02,  1.53088224e+00, -1.30269718e+00,\n",
       "       -5.24166115e-02, -1.49607539e+00,  6.89001799e-01,  3.07215393e-01,\n",
       "        3.59400362e-01,  6.13759041e-01, -1.22886717e+00, -1.04967320e+00,\n",
       "       -5.04068279e+00,  4.26202059e-01, -1.16948676e+00, -4.44644392e-01,\n",
       "        6.32546604e-01, -8.96339398e-03,  3.06292385e-01, -1.15794539e+00,\n",
       "       -1.42659813e-01,  2.09474087e+00,  9.87049878e-01,  1.67251304e-01,\n",
       "       -7.85864711e-01,  5.00126123e-01, -1.63521934e+00, -2.01595855e+00,\n",
       "       -3.60808671e-01,  3.98732781e-01,  1.38104904e+00, -5.12666941e-01,\n",
       "        2.56772995e-01,  9.78342831e-01, -1.08728051e+00,  2.48775810e-01,\n",
       "        4.27826881e-01, -2.34334946e+00,  4.61884677e-01, -4.79676835e-02,\n",
       "        8.96228909e-01, -1.34455836e+00,  8.16349387e-01,  9.34552014e-01,\n",
       "        1.06567359e+00,  5.11329532e-01, -6.26696944e-01, -7.01816201e-01,\n",
       "        9.50065017e-01,  1.90079451e-01,  1.98134437e-01, -4.88267243e-01,\n",
       "       -1.28772080e+00,  2.01792121e+00,  8.81548405e-01,  1.61789298e+00,\n",
       "        2.33185005e+00,  1.26859093e+00,  8.76216531e-01, -9.94742393e-01,\n",
       "        7.13057369e-02, -3.45077723e-01,  1.50813484e+00, -7.01072812e-01,\n",
       "        1.05158496e+00, -5.34167290e-02,  4.78587091e-01,  8.76910567e-01],\n",
       "      dtype=float32)"
      ]
     },
     "execution_count": 9,
     "metadata": {},
     "output_type": "execute_result"
    }
   ],
   "source": [
    "word_vector"
   ]
  },
  {
   "cell_type": "code",
   "execution_count": 10,
   "id": "04e2ea10",
   "metadata": {},
   "outputs": [],
   "source": [
    "# calculating the word vector of the all the terms\n",
    "df_medicalconcept['bert_embedding_term1'] = df_medicalconcept['Term1'].apply(lambda x: pubmed_bert_model.get_word_vector(x))\n",
    "df_medicalconcept['bert_embedding_term2'] = df_medicalconcept['Term2'].apply(lambda x: pubmed_bert_model.get_word_vector(x))"
   ]
  },
  {
   "cell_type": "code",
   "execution_count": 11,
   "id": "df00d61a",
   "metadata": {},
   "outputs": [
    {
     "data": {
      "text/html": [
       "<div>\n",
       "<style scoped>\n",
       "    .dataframe tbody tr th:only-of-type {\n",
       "        vertical-align: middle;\n",
       "    }\n",
       "\n",
       "    .dataframe tbody tr th {\n",
       "        vertical-align: top;\n",
       "    }\n",
       "\n",
       "    .dataframe thead th {\n",
       "        text-align: right;\n",
       "    }\n",
       "</style>\n",
       "<table border=\"1\" class=\"dataframe\">\n",
       "  <thead>\n",
       "    <tr style=\"text-align: right;\">\n",
       "      <th></th>\n",
       "      <th>Term1</th>\n",
       "      <th>Term2</th>\n",
       "      <th>bert_embedding_term1</th>\n",
       "      <th>bert_embedding_term2</th>\n",
       "    </tr>\n",
       "  </thead>\n",
       "  <tbody>\n",
       "    <tr>\n",
       "      <th>0</th>\n",
       "      <td>Glaucoma</td>\n",
       "      <td>Fibrillation</td>\n",
       "      <td>[0.030242372, -0.020571137, -0.43992457, 1.336...</td>\n",
       "      <td>[-0.74384075, -0.0104834195, -1.3056507, 0.852...</td>\n",
       "    </tr>\n",
       "    <tr>\n",
       "      <th>1</th>\n",
       "      <td>Carbatrol</td>\n",
       "      <td>Dilantin</td>\n",
       "      <td>[-1.126239, 0.7298479, -1.1060365, 0.66869146,...</td>\n",
       "      <td>[-0.72280586, -1.4393921, -1.4183786, 0.422213...</td>\n",
       "    </tr>\n",
       "    <tr>\n",
       "      <th>2</th>\n",
       "      <td>Cardiomyopathy</td>\n",
       "      <td>Tylenol</td>\n",
       "      <td>[-2.181615, -1.1990173, -0.995162, 1.2947955, ...</td>\n",
       "      <td>[-0.27328613, 0.3202028, -0.474111, 0.01056212...</td>\n",
       "    </tr>\n",
       "    <tr>\n",
       "      <th>3</th>\n",
       "      <td>Herpes</td>\n",
       "      <td>Hyperthyroidism</td>\n",
       "      <td>[-0.75654805, -1.3527507, -0.98288137, 1.19748...</td>\n",
       "      <td>[-1.0213687, -2.1341732, -1.4430876, 0.9885587...</td>\n",
       "    </tr>\n",
       "    <tr>\n",
       "      <th>4</th>\n",
       "      <td>Seasickness</td>\n",
       "      <td>Nausea</td>\n",
       "      <td>[-0.79437405, -0.7701093, -0.3257212, 0.815157...</td>\n",
       "      <td>[-0.35523129, -0.80838364, -0.39833617, 1.0010...</td>\n",
       "    </tr>\n",
       "  </tbody>\n",
       "</table>\n",
       "</div>"
      ],
      "text/plain": [
       "            Term1            Term2  \\\n",
       "0        Glaucoma     Fibrillation   \n",
       "1       Carbatrol         Dilantin   \n",
       "2  Cardiomyopathy          Tylenol   \n",
       "3          Herpes  Hyperthyroidism   \n",
       "4     Seasickness           Nausea   \n",
       "\n",
       "                                bert_embedding_term1  \\\n",
       "0  [0.030242372, -0.020571137, -0.43992457, 1.336...   \n",
       "1  [-1.126239, 0.7298479, -1.1060365, 0.66869146,...   \n",
       "2  [-2.181615, -1.1990173, -0.995162, 1.2947955, ...   \n",
       "3  [-0.75654805, -1.3527507, -0.98288137, 1.19748...   \n",
       "4  [-0.79437405, -0.7701093, -0.3257212, 0.815157...   \n",
       "\n",
       "                                bert_embedding_term2  \n",
       "0  [-0.74384075, -0.0104834195, -1.3056507, 0.852...  \n",
       "1  [-0.72280586, -1.4393921, -1.4183786, 0.422213...  \n",
       "2  [-0.27328613, 0.3202028, -0.474111, 0.01056212...  \n",
       "3  [-1.0213687, -2.1341732, -1.4430876, 0.9885587...  \n",
       "4  [-0.35523129, -0.80838364, -0.39833617, 1.0010...  "
      ]
     },
     "execution_count": 11,
     "metadata": {},
     "output_type": "execute_result"
    }
   ],
   "source": [
    "df_medicalconcept.head()"
   ]
  },
  {
   "cell_type": "code",
   "execution_count": 12,
   "id": "8de4ef77",
   "metadata": {},
   "outputs": [],
   "source": [
    "df_medicalconcept['cosine_similarity'] = df_medicalconcept.apply(lambda x: 1 - spatial.distance.cosine(x['bert_embedding_term1'], x['bert_embedding_term2']), axis=1)"
   ]
  },
  {
   "cell_type": "code",
   "execution_count": 13,
   "id": "394560ee",
   "metadata": {},
   "outputs": [
    {
     "data": {
      "text/html": [
       "<div>\n",
       "<style scoped>\n",
       "    .dataframe tbody tr th:only-of-type {\n",
       "        vertical-align: middle;\n",
       "    }\n",
       "\n",
       "    .dataframe tbody tr th {\n",
       "        vertical-align: top;\n",
       "    }\n",
       "\n",
       "    .dataframe thead th {\n",
       "        text-align: right;\n",
       "    }\n",
       "</style>\n",
       "<table border=\"1\" class=\"dataframe\">\n",
       "  <thead>\n",
       "    <tr style=\"text-align: right;\">\n",
       "      <th></th>\n",
       "      <th>Term1</th>\n",
       "      <th>Term2</th>\n",
       "      <th>bert_embedding_term1</th>\n",
       "      <th>bert_embedding_term2</th>\n",
       "      <th>cosine_similarity</th>\n",
       "    </tr>\n",
       "  </thead>\n",
       "  <tbody>\n",
       "    <tr>\n",
       "      <th>0</th>\n",
       "      <td>Glaucoma</td>\n",
       "      <td>Fibrillation</td>\n",
       "      <td>[0.030242372, -0.020571137, -0.43992457, 1.336...</td>\n",
       "      <td>[-0.74384075, -0.0104834195, -1.3056507, 0.852...</td>\n",
       "      <td>0.950928</td>\n",
       "    </tr>\n",
       "    <tr>\n",
       "      <th>1</th>\n",
       "      <td>Carbatrol</td>\n",
       "      <td>Dilantin</td>\n",
       "      <td>[-1.126239, 0.7298479, -1.1060365, 0.66869146,...</td>\n",
       "      <td>[-0.72280586, -1.4393921, -1.4183786, 0.422213...</td>\n",
       "      <td>0.954106</td>\n",
       "    </tr>\n",
       "    <tr>\n",
       "      <th>2</th>\n",
       "      <td>Cardiomyopathy</td>\n",
       "      <td>Tylenol</td>\n",
       "      <td>[-2.181615, -1.1990173, -0.995162, 1.2947955, ...</td>\n",
       "      <td>[-0.27328613, 0.3202028, -0.474111, 0.01056212...</td>\n",
       "      <td>0.926579</td>\n",
       "    </tr>\n",
       "    <tr>\n",
       "      <th>3</th>\n",
       "      <td>Herpes</td>\n",
       "      <td>Hyperthyroidism</td>\n",
       "      <td>[-0.75654805, -1.3527507, -0.98288137, 1.19748...</td>\n",
       "      <td>[-1.0213687, -2.1341732, -1.4430876, 0.9885587...</td>\n",
       "      <td>0.956872</td>\n",
       "    </tr>\n",
       "    <tr>\n",
       "      <th>4</th>\n",
       "      <td>Seasickness</td>\n",
       "      <td>Nausea</td>\n",
       "      <td>[-0.79437405, -0.7701093, -0.3257212, 0.815157...</td>\n",
       "      <td>[-0.35523129, -0.80838364, -0.39833617, 1.0010...</td>\n",
       "      <td>0.944510</td>\n",
       "    </tr>\n",
       "  </tbody>\n",
       "</table>\n",
       "</div>"
      ],
      "text/plain": [
       "            Term1            Term2  \\\n",
       "0        Glaucoma     Fibrillation   \n",
       "1       Carbatrol         Dilantin   \n",
       "2  Cardiomyopathy          Tylenol   \n",
       "3          Herpes  Hyperthyroidism   \n",
       "4     Seasickness           Nausea   \n",
       "\n",
       "                                bert_embedding_term1  \\\n",
       "0  [0.030242372, -0.020571137, -0.43992457, 1.336...   \n",
       "1  [-1.126239, 0.7298479, -1.1060365, 0.66869146,...   \n",
       "2  [-2.181615, -1.1990173, -0.995162, 1.2947955, ...   \n",
       "3  [-0.75654805, -1.3527507, -0.98288137, 1.19748...   \n",
       "4  [-0.79437405, -0.7701093, -0.3257212, 0.815157...   \n",
       "\n",
       "                                bert_embedding_term2  cosine_similarity  \n",
       "0  [-0.74384075, -0.0104834195, -1.3056507, 0.852...           0.950928  \n",
       "1  [-0.72280586, -1.4393921, -1.4183786, 0.422213...           0.954106  \n",
       "2  [-0.27328613, 0.3202028, -0.474111, 0.01056212...           0.926579  \n",
       "3  [-1.0213687, -2.1341732, -1.4430876, 0.9885587...           0.956872  \n",
       "4  [-0.35523129, -0.80838364, -0.39833617, 1.0010...           0.944510  "
      ]
     },
     "execution_count": 13,
     "metadata": {},
     "output_type": "execute_result"
    }
   ],
   "source": [
    "df_medicalconcept.head()"
   ]
  },
  {
   "cell_type": "code",
   "execution_count": 26,
   "id": "1ceb3e45",
   "metadata": {},
   "outputs": [
    {
     "data": {
      "text/plain": [
       "0.9395476462773636"
      ]
     },
     "execution_count": 26,
     "metadata": {},
     "output_type": "execute_result"
    }
   ],
   "source": [
    "df_medicalconcept['cosine_similarity'].mean()"
   ]
  },
  {
   "cell_type": "code",
   "execution_count": 14,
   "id": "d402f97e",
   "metadata": {},
   "outputs": [],
   "source": [
    "df_medicalconcept.to_csv(\"medical_concept_similarity_pubmed_bert.csv\", index=False)"
   ]
  },
  {
   "cell_type": "markdown",
   "id": "06c08883",
   "metadata": {},
   "source": [
    "<h3>Clean Text</h3>"
   ]
  },
  {
   "cell_type": "code",
   "execution_count": 15,
   "id": "e41ec8a2",
   "metadata": {},
   "outputs": [],
   "source": [
    "stop_words = stopwords.words('english')\n",
    "#removing stop words\n",
    "df_clinnotes['clean_notes'] = df_clinnotes['notes'].apply(lambda x: ' '.join([word.lower() for word in x.split() if word.lower() not in (stop_words)]))\n",
    "#removing puntuation\n",
    "df_clinnotes[\"clean_notes\"] = df_clinnotes['clean_notes'].str.replace('[^\\w\\s]','', regex=True)\n",
    "#lemetizing the text\n",
    "w_tokenizer = WhitespaceTokenizer()\n",
    "lemmatizer = WordNetLemmatizer()\n",
    "def lemmatize_text(text):\n",
    "    return ' '.join([lemmatizer.lemmatize(w) for w in w_tokenizer.tokenize(text)])\n",
    "df_clinnotes['clean_notes'] = df_clinnotes['clean_notes'].apply(lemmatize_text)"
   ]
  },
  {
   "cell_type": "code",
   "execution_count": 16,
   "id": "ced761ad",
   "metadata": {},
   "outputs": [],
   "source": [
    "#get sentence vector for all notes\n",
    "df_clinnotes['sentence_embedding'] = df_clinnotes['clean_notes'].apply(lambda x: pubmed_bert_model.get_sentence_vector(str(x)))"
   ]
  },
  {
   "cell_type": "code",
   "execution_count": 17,
   "id": "9845d99f",
   "metadata": {},
   "outputs": [],
   "source": [
    "X_train, X_test, y_train, y_test = train_test_split(df_clinnotes.sentence_embedding, df_clinnotes.category, test_size=0.2, random_state=42)\n"
   ]
  },
  {
   "cell_type": "code",
   "execution_count": 18,
   "id": "d0e6bc54",
   "metadata": {},
   "outputs": [],
   "source": [
    "from sklearn.metrics import accuracy_score, confusion_matrix, classification_report\n",
    "\n",
    "def print_score(clf, X_train, y_train, X_test, y_test, train=True):\n",
    "    if train:\n",
    "        pred = clf.predict(X_train)\n",
    "        clf_report = pd.DataFrame(classification_report(y_train, pred, output_dict=True))\n",
    "        print(\"Train Result:\\n================================================\")\n",
    "        print(f\"Accuracy Score: {accuracy_score(y_train, pred) * 100:.2f}%\")\n",
    "        print(\"_______________________________________________\")\n",
    "        print(f\"CLASSIFICATION REPORT:\\n{clf_report}\")\n",
    "        print(\"_______________________________________________\")\n",
    "        print(f\"Confusion Matrix: \\n {confusion_matrix(y_train, pred)}\\n\")\n",
    "        \n",
    "    elif train==False:\n",
    "        pred = clf.predict(X_test)\n",
    "        clf_report = pd.DataFrame(classification_report(y_test, pred, output_dict=True))\n",
    "        print(\"Test Result:\\n================================================\")        \n",
    "        print(f\"Accuracy Score: {accuracy_score(y_test, pred) * 100:.2f}%\")\n",
    "        print(\"_______________________________________________\")\n",
    "        print(f\"CLASSIFICATION REPORT:\\n{clf_report}\")\n",
    "        print(\"_______________________________________________\")\n",
    "        print(f\"Confusion Matrix: \\n {confusion_matrix(y_test, pred)}\\n\")"
   ]
  },
  {
   "cell_type": "code",
   "execution_count": 19,
   "id": "816267bf",
   "metadata": {},
   "outputs": [
    {
     "name": "stderr",
     "output_type": "stream",
     "text": [
      "/Users/raghu/opt/anaconda3/lib/python3.8/site-packages/sklearn/svm/_base.py:985: ConvergenceWarning: Liblinear failed to converge, increase the number of iterations.\n",
      "  warnings.warn(\"Liblinear failed to converge, increase \"\n",
      "/Users/raghu/opt/anaconda3/lib/python3.8/site-packages/sklearn/svm/_base.py:985: ConvergenceWarning: Liblinear failed to converge, increase the number of iterations.\n",
      "  warnings.warn(\"Liblinear failed to converge, increase \"\n",
      "/Users/raghu/opt/anaconda3/lib/python3.8/site-packages/sklearn/svm/_base.py:985: ConvergenceWarning: Liblinear failed to converge, increase the number of iterations.\n",
      "  warnings.warn(\"Liblinear failed to converge, increase \"\n",
      "/Users/raghu/opt/anaconda3/lib/python3.8/site-packages/sklearn/svm/_base.py:985: ConvergenceWarning: Liblinear failed to converge, increase the number of iterations.\n",
      "  warnings.warn(\"Liblinear failed to converge, increase \"\n",
      "/Users/raghu/opt/anaconda3/lib/python3.8/site-packages/sklearn/svm/_base.py:985: ConvergenceWarning: Liblinear failed to converge, increase the number of iterations.\n",
      "  warnings.warn(\"Liblinear failed to converge, increase \"\n",
      "/Users/raghu/opt/anaconda3/lib/python3.8/site-packages/xgboost/sklearn.py:1146: UserWarning: The use of label encoder in XGBClassifier is deprecated and will be removed in a future release. To remove this warning, do the following: 1) Pass option use_label_encoder=False when constructing XGBClassifier object; and 2) Encode your labels (y) as integers starting with 0, i.e. 0, 1, 2, ..., [num_class - 1].\n",
      "  warnings.warn(label_encoder_deprecation_msg, UserWarning)\n"
     ]
    },
    {
     "name": "stdout",
     "output_type": "stream",
     "text": [
      "[13:55:16] WARNING: /Users/travis/build/dmlc/xgboost/src/learner.cc:1095: Starting in XGBoost 1.3.0, the default evaluation metric used with the objective 'multi:softprob' was changed from 'merror' to 'mlogloss'. Explicitly set eval_metric if you'd like to restore the old behavior.\n"
     ]
    },
    {
     "name": "stderr",
     "output_type": "stream",
     "text": [
      "/Users/raghu/opt/anaconda3/lib/python3.8/site-packages/xgboost/sklearn.py:1146: UserWarning: The use of label encoder in XGBClassifier is deprecated and will be removed in a future release. To remove this warning, do the following: 1) Pass option use_label_encoder=False when constructing XGBClassifier object; and 2) Encode your labels (y) as integers starting with 0, i.e. 0, 1, 2, ..., [num_class - 1].\n",
      "  warnings.warn(label_encoder_deprecation_msg, UserWarning)\n"
     ]
    },
    {
     "name": "stdout",
     "output_type": "stream",
     "text": [
      "[13:55:21] WARNING: /Users/travis/build/dmlc/xgboost/src/learner.cc:1095: Starting in XGBoost 1.3.0, the default evaluation metric used with the objective 'multi:softprob' was changed from 'merror' to 'mlogloss'. Explicitly set eval_metric if you'd like to restore the old behavior.\n"
     ]
    },
    {
     "name": "stderr",
     "output_type": "stream",
     "text": [
      "/Users/raghu/opt/anaconda3/lib/python3.8/site-packages/xgboost/sklearn.py:1146: UserWarning: The use of label encoder in XGBClassifier is deprecated and will be removed in a future release. To remove this warning, do the following: 1) Pass option use_label_encoder=False when constructing XGBClassifier object; and 2) Encode your labels (y) as integers starting with 0, i.e. 0, 1, 2, ..., [num_class - 1].\n",
      "  warnings.warn(label_encoder_deprecation_msg, UserWarning)\n"
     ]
    },
    {
     "name": "stdout",
     "output_type": "stream",
     "text": [
      "[13:55:27] WARNING: /Users/travis/build/dmlc/xgboost/src/learner.cc:1095: Starting in XGBoost 1.3.0, the default evaluation metric used with the objective 'multi:softprob' was changed from 'merror' to 'mlogloss'. Explicitly set eval_metric if you'd like to restore the old behavior.\n"
     ]
    },
    {
     "name": "stderr",
     "output_type": "stream",
     "text": [
      "/Users/raghu/opt/anaconda3/lib/python3.8/site-packages/xgboost/sklearn.py:1146: UserWarning: The use of label encoder in XGBClassifier is deprecated and will be removed in a future release. To remove this warning, do the following: 1) Pass option use_label_encoder=False when constructing XGBClassifier object; and 2) Encode your labels (y) as integers starting with 0, i.e. 0, 1, 2, ..., [num_class - 1].\n",
      "  warnings.warn(label_encoder_deprecation_msg, UserWarning)\n"
     ]
    },
    {
     "name": "stdout",
     "output_type": "stream",
     "text": [
      "[13:55:35] WARNING: /Users/travis/build/dmlc/xgboost/src/learner.cc:1095: Starting in XGBoost 1.3.0, the default evaluation metric used with the objective 'multi:softprob' was changed from 'merror' to 'mlogloss'. Explicitly set eval_metric if you'd like to restore the old behavior.\n"
     ]
    },
    {
     "name": "stderr",
     "output_type": "stream",
     "text": [
      "/Users/raghu/opt/anaconda3/lib/python3.8/site-packages/xgboost/sklearn.py:1146: UserWarning: The use of label encoder in XGBClassifier is deprecated and will be removed in a future release. To remove this warning, do the following: 1) Pass option use_label_encoder=False when constructing XGBClassifier object; and 2) Encode your labels (y) as integers starting with 0, i.e. 0, 1, 2, ..., [num_class - 1].\n",
      "  warnings.warn(label_encoder_deprecation_msg, UserWarning)\n"
     ]
    },
    {
     "name": "stdout",
     "output_type": "stream",
     "text": [
      "[13:55:41] WARNING: /Users/travis/build/dmlc/xgboost/src/learner.cc:1095: Starting in XGBoost 1.3.0, the default evaluation metric used with the objective 'multi:softprob' was changed from 'merror' to 'mlogloss'. Explicitly set eval_metric if you'd like to restore the old behavior.\n"
     ]
    }
   ],
   "source": [
    "models = [\n",
    "    RandomForestClassifier(n_estimators=500, random_state=42, min_samples_split=3, min_samples_leaf=2),\n",
    "    LinearSVC(),\n",
    "    XGBClassifier(learning_rate =0.07,n_estimators=100),\n",
    "]\n",
    "CV = 5\n",
    "cv_df = pd.DataFrame(index=range(CV * len(models)))\n",
    "entries = []\n",
    "for model in models:\n",
    "    model_name = model.__class__.__name__\n",
    "    accuracies = cross_val_score(model, np.array(X_train.tolist()), y_train, scoring='accuracy', cv=CV)\n",
    "    for fold_idx, accuracy in enumerate(accuracies):\n",
    "        entries.append((model_name, fold_idx, accuracy))\n",
    "cv_df = pd.DataFrame(entries, columns=['model_name', 'fold_idx', 'accuracy'])"
   ]
  },
  {
   "cell_type": "code",
   "execution_count": 20,
   "id": "5a2d5bbf",
   "metadata": {},
   "outputs": [
    {
     "data": {
      "text/html": [
       "<div>\n",
       "<style scoped>\n",
       "    .dataframe tbody tr th:only-of-type {\n",
       "        vertical-align: middle;\n",
       "    }\n",
       "\n",
       "    .dataframe tbody tr th {\n",
       "        vertical-align: top;\n",
       "    }\n",
       "\n",
       "    .dataframe thead th {\n",
       "        text-align: right;\n",
       "    }\n",
       "</style>\n",
       "<table border=\"1\" class=\"dataframe\">\n",
       "  <thead>\n",
       "    <tr style=\"text-align: right;\">\n",
       "      <th></th>\n",
       "      <th>model_name</th>\n",
       "      <th>fold_idx</th>\n",
       "      <th>accuracy</th>\n",
       "    </tr>\n",
       "  </thead>\n",
       "  <tbody>\n",
       "    <tr>\n",
       "      <th>0</th>\n",
       "      <td>RandomForestClassifier</td>\n",
       "      <td>0</td>\n",
       "      <td>0.923664</td>\n",
       "    </tr>\n",
       "    <tr>\n",
       "      <th>1</th>\n",
       "      <td>RandomForestClassifier</td>\n",
       "      <td>1</td>\n",
       "      <td>0.954198</td>\n",
       "    </tr>\n",
       "    <tr>\n",
       "      <th>2</th>\n",
       "      <td>RandomForestClassifier</td>\n",
       "      <td>2</td>\n",
       "      <td>0.923664</td>\n",
       "    </tr>\n",
       "    <tr>\n",
       "      <th>3</th>\n",
       "      <td>RandomForestClassifier</td>\n",
       "      <td>3</td>\n",
       "      <td>0.954198</td>\n",
       "    </tr>\n",
       "    <tr>\n",
       "      <th>4</th>\n",
       "      <td>RandomForestClassifier</td>\n",
       "      <td>4</td>\n",
       "      <td>0.915385</td>\n",
       "    </tr>\n",
       "    <tr>\n",
       "      <th>5</th>\n",
       "      <td>LinearSVC</td>\n",
       "      <td>0</td>\n",
       "      <td>0.954198</td>\n",
       "    </tr>\n",
       "    <tr>\n",
       "      <th>6</th>\n",
       "      <td>LinearSVC</td>\n",
       "      <td>1</td>\n",
       "      <td>0.931298</td>\n",
       "    </tr>\n",
       "    <tr>\n",
       "      <th>7</th>\n",
       "      <td>LinearSVC</td>\n",
       "      <td>2</td>\n",
       "      <td>0.946565</td>\n",
       "    </tr>\n",
       "    <tr>\n",
       "      <th>8</th>\n",
       "      <td>LinearSVC</td>\n",
       "      <td>3</td>\n",
       "      <td>0.931298</td>\n",
       "    </tr>\n",
       "    <tr>\n",
       "      <th>9</th>\n",
       "      <td>LinearSVC</td>\n",
       "      <td>4</td>\n",
       "      <td>0.938462</td>\n",
       "    </tr>\n",
       "    <tr>\n",
       "      <th>10</th>\n",
       "      <td>XGBClassifier</td>\n",
       "      <td>0</td>\n",
       "      <td>0.893130</td>\n",
       "    </tr>\n",
       "    <tr>\n",
       "      <th>11</th>\n",
       "      <td>XGBClassifier</td>\n",
       "      <td>1</td>\n",
       "      <td>0.923664</td>\n",
       "    </tr>\n",
       "    <tr>\n",
       "      <th>12</th>\n",
       "      <td>XGBClassifier</td>\n",
       "      <td>2</td>\n",
       "      <td>0.916031</td>\n",
       "    </tr>\n",
       "    <tr>\n",
       "      <th>13</th>\n",
       "      <td>XGBClassifier</td>\n",
       "      <td>3</td>\n",
       "      <td>0.954198</td>\n",
       "    </tr>\n",
       "    <tr>\n",
       "      <th>14</th>\n",
       "      <td>XGBClassifier</td>\n",
       "      <td>4</td>\n",
       "      <td>0.915385</td>\n",
       "    </tr>\n",
       "  </tbody>\n",
       "</table>\n",
       "</div>"
      ],
      "text/plain": [
       "                model_name  fold_idx  accuracy\n",
       "0   RandomForestClassifier         0  0.923664\n",
       "1   RandomForestClassifier         1  0.954198\n",
       "2   RandomForestClassifier         2  0.923664\n",
       "3   RandomForestClassifier         3  0.954198\n",
       "4   RandomForestClassifier         4  0.915385\n",
       "5                LinearSVC         0  0.954198\n",
       "6                LinearSVC         1  0.931298\n",
       "7                LinearSVC         2  0.946565\n",
       "8                LinearSVC         3  0.931298\n",
       "9                LinearSVC         4  0.938462\n",
       "10           XGBClassifier         0  0.893130\n",
       "11           XGBClassifier         1  0.923664\n",
       "12           XGBClassifier         2  0.916031\n",
       "13           XGBClassifier         3  0.954198\n",
       "14           XGBClassifier         4  0.915385"
      ]
     },
     "execution_count": 20,
     "metadata": {},
     "output_type": "execute_result"
    }
   ],
   "source": [
    "cv_df"
   ]
  },
  {
   "cell_type": "code",
   "execution_count": 21,
   "id": "c230b591",
   "metadata": {},
   "outputs": [
    {
     "data": {
      "image/png": "[encoded data removed]",
      "text/plain": [
       "<Figure size 432x288 with 1 Axes>"
      ]
     },
     "metadata": {
      "needs_background": "light"
     },
     "output_type": "display_data"
    }
   ],
   "source": [
    "sns.boxplot(x='model_name', y='accuracy', data=cv_df)\n",
    "sns.stripplot(x='model_name', y='accuracy', data=cv_df, \n",
    "              size=8, jitter=True, edgecolor=\"gray\", linewidth=2)\n",
    "plt.show()"
   ]
  },
  {
   "cell_type": "code",
   "execution_count": 22,
   "id": "1385b961",
   "metadata": {},
   "outputs": [
    {
     "name": "stdout",
     "output_type": "stream",
     "text": [
      "Train Result:\n",
      "================================================\n",
      "Accuracy Score: 99.24%\n",
      "_______________________________________________\n",
      "CLASSIFICATION REPORT:\n",
      "           Cardiovascular / Pulmonary  Gastroenterology   Neurology  accuracy  \\\n",
      "precision                    0.989899          1.000000    0.988889  0.992355   \n",
      "recall                       0.996610          0.983333    0.994413  0.992355   \n",
      "f1-score                     0.993243          0.991597    0.991643  0.992355   \n",
      "support                    295.000000        180.000000  179.000000  0.992355   \n",
      "\n",
      "            macro avg  weighted avg  \n",
      "precision    0.992929      0.992403  \n",
      "recall       0.991452      0.992355  \n",
      "f1-score     0.992161      0.992352  \n",
      "support    654.000000    654.000000  \n",
      "_______________________________________________\n",
      "Confusion Matrix: \n",
      " [[294   0   1]\n",
      " [  2 177   1]\n",
      " [  1   0 178]]\n",
      "\n",
      "Test Result:\n",
      "================================================\n",
      "Accuracy Score: 89.63%\n",
      "_______________________________________________\n",
      "CLASSIFICATION REPORT:\n",
      "           Cardiovascular / Pulmonary  Gastroenterology  Neurology  accuracy  \\\n",
      "precision                    0.847059          0.971429   0.931818  0.896341   \n",
      "recall                       0.947368          0.772727   0.931818  0.896341   \n",
      "f1-score                     0.894410          0.860759   0.931818  0.896341   \n",
      "support                     76.000000         44.000000  44.000000  0.896341   \n",
      "\n",
      "            macro avg  weighted avg  \n",
      "precision    0.916769      0.903167  \n",
      "recall       0.883971      0.896341  \n",
      "f1-score     0.895663      0.895418  \n",
      "support    164.000000    164.000000  \n",
      "_______________________________________________\n",
      "Confusion Matrix: \n",
      " [[72  1  3]\n",
      " [10 34  0]\n",
      " [ 3  0 41]]\n",
      "\n"
     ]
    }
   ],
   "source": [
    "rf_clf = RandomForestClassifier(n_estimators=500, random_state=42, min_samples_split=3, min_samples_leaf=2, )\n",
    "rf_clf.fit(np.array(X_train.tolist()), y_train)\n",
    "print_score(rf_clf, np.array(X_train.tolist()), y_train, np.array(X_test.tolist()), y_test, train=True)\n",
    "print_score(rf_clf, np.array(X_train.tolist()), y_train, np.array(X_test.tolist()), y_test, train=False)"
   ]
  },
  {
   "cell_type": "code",
   "execution_count": 23,
   "id": "b2433a84",
   "metadata": {},
   "outputs": [
    {
     "name": "stdout",
     "output_type": "stream",
     "text": [
      "Train Result:\n",
      "================================================\n",
      "Accuracy Score: 99.39%\n",
      "_______________________________________________\n",
      "CLASSIFICATION REPORT:\n",
      "           Cardiovascular / Pulmonary  Gastroenterology   Neurology  accuracy  \\\n",
      "precision                    0.993243          0.994413    0.994413  0.993884   \n",
      "recall                       0.996610          0.988889    0.994413  0.993884   \n",
      "f1-score                     0.994924          0.991643    0.994413  0.993884   \n",
      "support                    295.000000        180.000000  179.000000  0.993884   \n",
      "\n",
      "            macro avg  weighted avg  \n",
      "precision    0.994023      0.993886  \n",
      "recall       0.993304      0.993884  \n",
      "f1-score     0.993660      0.993881  \n",
      "support    654.000000    654.000000  \n",
      "_______________________________________________\n",
      "Confusion Matrix: \n",
      " [[294   1   0]\n",
      " [  1 178   1]\n",
      " [  1   0 178]]\n",
      "\n",
      "Test Result:\n",
      "================================================\n",
      "Accuracy Score: 93.29%\n",
      "_______________________________________________\n",
      "CLASSIFICATION REPORT:\n",
      "           Cardiovascular / Pulmonary  Gastroenterology  Neurology  accuracy  \\\n",
      "precision                    0.922078          0.909091   0.976744  0.932927   \n",
      "recall                       0.934211          0.909091   0.954545  0.932927   \n",
      "f1-score                     0.928105          0.909091   0.965517  0.932927   \n",
      "support                     76.000000         44.000000  44.000000  0.932927   \n",
      "\n",
      "            macro avg  weighted avg  \n",
      "precision    0.935971      0.933260  \n",
      "recall       0.932616      0.932927  \n",
      "f1-score     0.934238      0.933041  \n",
      "support    164.000000    164.000000  \n",
      "_______________________________________________\n",
      "Confusion Matrix: \n",
      " [[71  4  1]\n",
      " [ 4 40  0]\n",
      " [ 2  0 42]]\n",
      "\n"
     ]
    },
    {
     "name": "stderr",
     "output_type": "stream",
     "text": [
      "/Users/raghu/opt/anaconda3/lib/python3.8/site-packages/sklearn/svm/_base.py:985: ConvergenceWarning: Liblinear failed to converge, increase the number of iterations.\n",
      "  warnings.warn(\"Liblinear failed to converge, increase \"\n"
     ]
    }
   ],
   "source": [
    "lsvc_clf = LinearSVC(C=1.0) #n_jobs=4,\n",
    "lsvc_clf.fit(np.array(X_train.tolist()), y_train)\n",
    "print_score(lsvc_clf, np.array(X_train.tolist()), y_train, np.array(X_test.tolist()), y_test, train=True)\n",
    "print_score(lsvc_clf, np.array(X_train.tolist()), y_train, np.array(X_test.tolist()), y_test, train=False)"
   ]
  },
  {
   "cell_type": "code",
   "execution_count": 24,
   "id": "6ef9ca61",
   "metadata": {},
   "outputs": [
    {
     "name": "stderr",
     "output_type": "stream",
     "text": [
      "/Users/raghu/opt/anaconda3/lib/python3.8/site-packages/xgboost/sklearn.py:1146: UserWarning: The use of label encoder in XGBClassifier is deprecated and will be removed in a future release. To remove this warning, do the following: 1) Pass option use_label_encoder=False when constructing XGBClassifier object; and 2) Encode your labels (y) as integers starting with 0, i.e. 0, 1, 2, ..., [num_class - 1].\n",
      "  warnings.warn(label_encoder_deprecation_msg, UserWarning)\n"
     ]
    },
    {
     "name": "stdout",
     "output_type": "stream",
     "text": [
      "[13:55:52] WARNING: /Users/travis/build/dmlc/xgboost/src/learner.cc:573: \n",
      "Parameters: { \"enable_categorical\" } might not be used.\n",
      "\n",
      "  This may not be accurate due to some parameters are only used in language bindings but\n",
      "  passed down to XGBoost core.  Or some parameters are not used but slip through this\n",
      "  verification. Please open an issue if you find above cases.\n",
      "\n",
      "\n",
      "[13:55:52] WARNING: /Users/travis/build/dmlc/xgboost/src/learner.cc:1095: Starting in XGBoost 1.3.0, the default evaluation metric used with the objective 'multi:softprob' was changed from 'merror' to 'mlogloss'. Explicitly set eval_metric if you'd like to restore the old behavior.\n",
      "Train Result:\n",
      "================================================\n",
      "Accuracy Score: 99.39%\n",
      "_______________________________________________\n",
      "CLASSIFICATION REPORT:\n",
      "           Cardiovascular / Pulmonary  Gastroenterology   Neurology  accuracy  \\\n",
      "precision                    0.996599          0.988950    0.994413  0.993884   \n",
      "recall                       0.993220          0.994444    0.994413  0.993884   \n",
      "f1-score                     0.994907          0.991690    0.994413  0.993884   \n",
      "support                    295.000000        180.000000  179.000000  0.993884   \n",
      "\n",
      "            macro avg  weighted avg  \n",
      "precision    0.993321      0.993895  \n",
      "recall       0.994026      0.993884  \n",
      "f1-score     0.993670      0.993886  \n",
      "support    654.000000    654.000000  \n",
      "_______________________________________________\n",
      "Confusion Matrix: \n",
      " [[293   2   0]\n",
      " [  0 179   1]\n",
      " [  1   0 178]]\n",
      "\n",
      "Test Result:\n",
      "================================================\n",
      "Accuracy Score: 90.85%\n",
      "_______________________________________________\n",
      "CLASSIFICATION REPORT:\n",
      "           Cardiovascular / Pulmonary  Gastroenterology  Neurology  accuracy  \\\n",
      "precision                    0.876543          0.923077   0.954545  0.908537   \n",
      "recall                       0.934211          0.818182   0.954545  0.908537   \n",
      "f1-score                     0.904459          0.867470   0.954545  0.908537   \n",
      "support                     76.000000         44.000000  44.000000  0.908537   \n",
      "\n",
      "            macro avg  weighted avg  \n",
      "precision    0.918055      0.909955  \n",
      "recall       0.902313      0.908537  \n",
      "f1-score     0.908825      0.907973  \n",
      "support    164.000000    164.000000  \n",
      "_______________________________________________\n",
      "Confusion Matrix: \n",
      " [[71  3  2]\n",
      " [ 8 36  0]\n",
      " [ 2  0 42]]\n",
      "\n"
     ]
    }
   ],
   "source": [
    "xgb_clf = XGBClassifier(n_estimators=100, enable_categorical=True) #n_jobs=4,\n",
    "xgb_clf.fit(np.array(X_train.tolist()), y_train)\n",
    "print_score(xgb_clf, np.array(X_train.tolist()), y_train, np.array(X_test.tolist()), y_test, train=True)\n",
    "print_score(xgb_clf, np.array(X_train.tolist()), y_train, np.array(X_test.tolist()), y_test, train=False)"
   ]
  },
  {
   "cell_type": "markdown",
   "id": "680a16cc",
   "metadata": {},
   "source": [
    "<h3>Results</h3>\n",
    "1. Vector representation for all the medical concepts words generated using Pretrained Pub Med Bert. <br>\n",
    "2. Resulted embedded vector used for Clinical notes classification. Linear SVC performed well on both the Traing and testing data "
   ]
  },
  {
   "cell_type": "code",
   "execution_count": null,
   "id": "45906e15",
   "metadata": {},
   "outputs": [],
   "source": []
  },
  {
   "cell_type": "code",
   "execution_count": null,
   "id": "dcc1f0f4",
   "metadata": {},
   "outputs": [],
   "source": []
  }
 ],
 "metadata": {
  "kernelspec": {
   "display_name": "Python 3",
   "language": "python",
   "name": "python3"
  },
  "language_info": {
   "codemirror_mode": {
    "name": "ipython",
    "version": 3
   },
   "file_extension": ".py",
   "mimetype": "text/x-python",
   "name": "python",
   "nbconvert_exporter": "python",
   "pygments_lexer": "ipython3",
   "version": "3.8.8"
  }
 },
 "nbformat": 4,
 "nbformat_minor": 5
}
